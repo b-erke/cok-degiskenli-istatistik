{
 "cells": [
  {
   "cell_type": "markdown",
   "id": "f12a4e3e-b636-46cc-97df-492b9e9b7f42",
   "metadata": {
    "tags": []
   },
   "source": [
    "# Kütüphaneleri Yükleme"
   ]
  },
  {
   "cell_type": "code",
   "execution_count": 1,
   "id": "fcec5ae2-f80a-4c7c-81f0-fecb1131d028",
   "metadata": {},
   "outputs": [],
   "source": [
    "import pandas as pd\n",
    "import numpy as np\n",
    "import scipy.stats as stats  \n",
    "from statsmodels.stats.multicomp import pairwise_tukeyhsd \n",
    "from statsmodels.stats.multicomp import MultiComparison"
   ]
  },
  {
   "cell_type": "code",
   "execution_count": 234,
   "id": "74fe05fe-3434-4dc9-9d62-b455505618fa",
   "metadata": {},
   "outputs": [],
   "source": [
    "import matplotlib.pyplot as plt\n",
    "import seaborn as sns"
   ]
  },
  {
   "cell_type": "markdown",
   "id": "9a9e7886-6716-4a25-8ac7-3fadc58a9ffe",
   "metadata": {},
   "source": [
    "# Veri Setini Yükleme"
   ]
  },
  {
   "cell_type": "code",
   "execution_count": 2,
   "id": "51cb8488-93fb-453e-9967-66cb52a756a1",
   "metadata": {},
   "outputs": [
    {
     "data": {
      "text/html": [
       "<div>\n",
       "<style scoped>\n",
       "    .dataframe tbody tr th:only-of-type {\n",
       "        vertical-align: middle;\n",
       "    }\n",
       "\n",
       "    .dataframe tbody tr th {\n",
       "        vertical-align: top;\n",
       "    }\n",
       "\n",
       "    .dataframe thead th {\n",
       "        text-align: right;\n",
       "    }\n",
       "</style>\n",
       "<table border=\"1\" class=\"dataframe\">\n",
       "  <thead>\n",
       "    <tr style=\"text-align: right;\">\n",
       "      <th></th>\n",
       "      <th>school</th>\n",
       "      <th>talent</th>\n",
       "      <th>grade</th>\n",
       "    </tr>\n",
       "  </thead>\n",
       "  <tbody>\n",
       "    <tr>\n",
       "      <th>0</th>\n",
       "      <td>1</td>\n",
       "      <td>2</td>\n",
       "      <td>4</td>\n",
       "    </tr>\n",
       "    <tr>\n",
       "      <th>1</th>\n",
       "      <td>3</td>\n",
       "      <td>9</td>\n",
       "      <td>9</td>\n",
       "    </tr>\n",
       "    <tr>\n",
       "      <th>2</th>\n",
       "      <td>2</td>\n",
       "      <td>9</td>\n",
       "      <td>5</td>\n",
       "    </tr>\n",
       "    <tr>\n",
       "      <th>3</th>\n",
       "      <td>1</td>\n",
       "      <td>3</td>\n",
       "      <td>4</td>\n",
       "    </tr>\n",
       "    <tr>\n",
       "      <th>4</th>\n",
       "      <td>1</td>\n",
       "      <td>3</td>\n",
       "      <td>3</td>\n",
       "    </tr>\n",
       "  </tbody>\n",
       "</table>\n",
       "</div>"
      ],
      "text/plain": [
       "   school  talent  grade\n",
       "0       1       2      4\n",
       "1       3       9      9\n",
       "2       2       9      5\n",
       "3       1       3      4\n",
       "4       1       3      3"
      ]
     },
     "execution_count": 2,
     "metadata": {},
     "output_type": "execute_result"
    }
   ],
   "source": [
    "df_anova = pd.read_excel(\"sinav_grup.xlsx\")\n",
    "df_anova.head()"
   ]
  },
  {
   "cell_type": "code",
   "execution_count": 242,
   "id": "48f14893-a40b-4947-97c3-392f0ea5973b",
   "metadata": {},
   "outputs": [
    {
     "data": {
      "text/html": [
       "<div>\n",
       "<style scoped>\n",
       "    .dataframe tbody tr th:only-of-type {\n",
       "        vertical-align: middle;\n",
       "    }\n",
       "\n",
       "    .dataframe tbody tr th {\n",
       "        vertical-align: top;\n",
       "    }\n",
       "\n",
       "    .dataframe thead th {\n",
       "        text-align: right;\n",
       "    }\n",
       "</style>\n",
       "<table border=\"1\" class=\"dataframe\">\n",
       "  <thead>\n",
       "    <tr style=\"text-align: right;\">\n",
       "      <th></th>\n",
       "      <th>count</th>\n",
       "      <th>mean</th>\n",
       "      <th>std</th>\n",
       "      <th>min</th>\n",
       "      <th>25%</th>\n",
       "      <th>50%</th>\n",
       "      <th>75%</th>\n",
       "      <th>max</th>\n",
       "    </tr>\n",
       "  </thead>\n",
       "  <tbody>\n",
       "    <tr>\n",
       "      <th>school</th>\n",
       "      <td>1200.0</td>\n",
       "      <td>1.983333</td>\n",
       "      <td>0.829837</td>\n",
       "      <td>1.0</td>\n",
       "      <td>1.0</td>\n",
       "      <td>2.0</td>\n",
       "      <td>3.0</td>\n",
       "      <td>3.0</td>\n",
       "    </tr>\n",
       "    <tr>\n",
       "      <th>talent</th>\n",
       "      <td>1200.0</td>\n",
       "      <td>5.255000</td>\n",
       "      <td>2.754929</td>\n",
       "      <td>1.0</td>\n",
       "      <td>3.0</td>\n",
       "      <td>5.0</td>\n",
       "      <td>8.0</td>\n",
       "      <td>10.0</td>\n",
       "    </tr>\n",
       "    <tr>\n",
       "      <th>grade</th>\n",
       "      <td>1200.0</td>\n",
       "      <td>5.296667</td>\n",
       "      <td>2.757110</td>\n",
       "      <td>1.0</td>\n",
       "      <td>3.0</td>\n",
       "      <td>5.0</td>\n",
       "      <td>8.0</td>\n",
       "      <td>10.0</td>\n",
       "    </tr>\n",
       "  </tbody>\n",
       "</table>\n",
       "</div>"
      ],
      "text/plain": [
       "         count      mean       std  min  25%  50%  75%   max\n",
       "school  1200.0  1.983333  0.829837  1.0  1.0  2.0  3.0   3.0\n",
       "talent  1200.0  5.255000  2.754929  1.0  3.0  5.0  8.0  10.0\n",
       "grade   1200.0  5.296667  2.757110  1.0  3.0  5.0  8.0  10.0"
      ]
     },
     "execution_count": 242,
     "metadata": {},
     "output_type": "execute_result"
    }
   ],
   "source": [
    "df_anova.describe().T"
   ]
  },
  {
   "cell_type": "markdown",
   "id": "ed3d3469-7a7f-4958-8aab-f4bdca887339",
   "metadata": {},
   "source": [
    "# Varsayım 1: Verilerin Normal Dağılıma Uyması\n",
    "##### Ho: Verilerin dağılımı ile Normal Dağılım arasında fark yoktur.(Veriler normal dağılıma uygundur.)\n",
    "##### Ha: Verilerin dağılımı ile Normal Dağılım arasında fark vardır.(Veriler normal dağılıma uygun değildir.)"
   ]
  },
  {
   "cell_type": "code",
   "execution_count": 235,
   "id": "5c7f73d0-2702-414b-bb20-947624200620",
   "metadata": {
    "collapsed": true,
    "jupyter": {
     "outputs_hidden": true
    },
    "tags": []
   },
   "outputs": [
    {
     "data": {
      "image/png": "[encoded data removed]",
      "text/plain": [
       "<Figure size 432x288 with 1 Axes>"
      ]
     },
     "metadata": {
      "needs_background": "light"
     },
     "output_type": "display_data"
    }
   ],
   "source": [
    "sns.histplot(data=df_anova, x='grade', bins=15, kde=True)\n",
    "plt.show()"
   ]
  },
  {
   "cell_type": "code",
   "execution_count": 5,
   "id": "da513374-c942-4a31-9c04-fb0dacd7d6c6",
   "metadata": {},
   "outputs": [
    {
     "name": "stdout",
     "output_type": "stream",
     "text": [
      "ShapiroResult(statistic=0.9428470730781555, pvalue=4.089836211229324e-21)\n"
     ]
    }
   ],
   "source": [
    "print(stats.shapiro(df_anova[\"grade\"]))"
   ]
  },
  {
   "cell_type": "markdown",
   "id": "02f9a209-7c70-44c0-a52b-24ddec883c08",
   "metadata": {},
   "source": [
    "p=4.08e-21 olması sebebiyle H0 red, %95 güvenilirlikle veriler normal dağılıma uygun değildir."
   ]
  },
  {
   "cell_type": "markdown",
   "id": "fbc0b186-b8ea-4d25-8659-8bfbcb1897a8",
   "metadata": {},
   "source": [
    "# Varsayım 2: Varyansların Homojenliği\n",
    "##### Ho: Varyanslar arasında fark yoktur.(Varyanslar homojendir.)\n",
    "##### Ha: Varyanslar fark vardır.(Varyanslar homojen değildir.)"
   ]
  },
  {
   "cell_type": "code",
   "execution_count": 6,
   "id": "f4c6b44a-2435-4b96-a955-1e2639b7effb",
   "metadata": {},
   "outputs": [
    {
     "data": {
      "text/plain": [
       "LeveneResult(statistic=137.1999477708229, pvalue=2.2517106122853616e-54)"
      ]
     },
     "execution_count": 6,
     "metadata": {},
     "output_type": "execute_result"
    }
   ],
   "source": [
    "stats.levene(df_anova['grade'][df_anova['school'] == 1],\n",
    "             df_anova['grade'][df_anova['school'] == 2],\n",
    "             df_anova['grade'][df_anova['school'] == 3])"
   ]
  },
  {
   "cell_type": "markdown",
   "id": "f50956ea-fd06-47b6-8265-545b61c26053",
   "metadata": {},
   "source": [
    " p=2.5e-54 olması sebebiyle H0 reddedilir. %95 güvenilirlikle varyanslar homojen değildir."
   ]
  },
  {
   "cell_type": "markdown",
   "id": "a586b94d-40a3-4813-a44d-c5cee10b13a8",
   "metadata": {},
   "source": [
    "# ANOVA\n",
    "##### Ho: Sınıfların not ortalamaları arasında farklılık yoktur.\n",
    "##### Ha: Sınıfların not ortalamaları arasında farklılık vardır."
   ]
  },
  {
   "cell_type": "code",
   "execution_count": 7,
   "id": "ad4464f4-fab1-4858-b1c6-1462e149705c",
   "metadata": {},
   "outputs": [],
   "source": [
    "anova = stats.f_oneway(df_anova['grade'][df_anova['school'] == 1],\n",
    "             df_anova['grade'][df_anova['school'] == 2],\n",
    "             df_anova['grade'][df_anova['school'] == 3])"
   ]
  },
  {
   "cell_type": "code",
   "execution_count": 8,
   "id": "6adffd72-565e-4884-a895-8ded7ea7f949",
   "metadata": {},
   "outputs": [
    {
     "name": "stdout",
     "output_type": "stream",
     "text": [
      "F_onewayResult(statistic=474.2838856870535, pvalue=2.0479538637988e-152)\n"
     ]
    }
   ],
   "source": [
    "print(anova)"
   ]
  },
  {
   "cell_type": "markdown",
   "id": "d1c0a162-598b-487b-95be-7b351fba6143",
   "metadata": {},
   "source": [
    "p=0.00 olması sebebiyle H0 reddedilir. %95 güvenilirlikle grup ortalamaları arasında fark vardır."
   ]
  },
  {
   "cell_type": "markdown",
   "id": "58c4e50d-a3d8-4ea0-8c90-1c4c2bbf5f64",
   "metadata": {},
   "source": [
    "# Çoklu Karşılaştırma Testi"
   ]
  },
  {
   "cell_type": "code",
   "execution_count": 9,
   "id": "5662b84c-e24b-48d7-9229-7324ec622a51",
   "metadata": {},
   "outputs": [
    {
     "name": "stdout",
     "output_type": "stream",
     "text": [
      "Multiple Comparison of Means - Tukey HSD, FWER=0.05\n",
      "===================================================\n",
      "group1 group2 meandiff p-adj  lower   upper  reject\n",
      "---------------------------------------------------\n",
      "     1      2    4.463 0.001  4.1197  4.8063   True\n",
      "     1      3   2.6265 0.001  2.2898  2.9632   True\n",
      "     2      3  -1.8365 0.001 -2.1838 -1.4892   True\n",
      "---------------------------------------------------\n"
     ]
    }
   ],
   "source": [
    "kars = MultiComparison(df_anova[\"grade\"], df_anova[\"school\"])    \n",
    "kars_sonuc = kars.tukeyhsd()\n",
    "print(kars_sonuc)"
   ]
  },
  {
   "cell_type": "markdown",
   "id": "d3dcc044-dbd8-4a4a-9003-2fb224d30fb2",
   "metadata": {},
   "source": [
    "Bu test sonucunda her bir grup arasındaki ortalamaların farklı olduğu görülüyor. \n",
    "1. grubun not ortalamaları; 2. gruba göre 4.4  daha yüksek iken 3. gruba 2.6 daha yüksektir. \n",
    "2. grubun ise 3. gruba göre not ortalamları -1.8 daha azdır."
   ]
  },
  {
   "cell_type": "markdown",
   "id": "d21793c8-3ba4-47b2-9e3e-84bea8b531ad",
   "metadata": {},
   "source": [
    "# ANCOVA"
   ]
  },
  {
   "cell_type": "markdown",
   "id": "fd76f034-6af9-47d5-8123-2d8f3481a5f5",
   "metadata": {},
   "source": [
    "İki veya daha fazla grupta, bir bağımlı değişkenin ortalamalarının karşılaştırılmasında bağımlı değişkeni etkileyen başka bir  değişkenin etkisinin varlığı"
   ]
  },
  {
   "cell_type": "code",
   "execution_count": 12,
   "id": "196c54ed-7f13-4041-a6e8-b07fda1bc1d8",
   "metadata": {},
   "outputs": [],
   "source": [
    "import statsmodels.api as sm\n",
    "import statsmodels.formula.api as smf\n",
    "import statsmodels.stats.api as sms\n",
    "import seaborn as sns"
   ]
  },
  {
   "cell_type": "code",
   "execution_count": 13,
   "id": "915f91f6-294b-4c4b-9ac0-747c6323b0d3",
   "metadata": {},
   "outputs": [],
   "source": [
    "df=df_anova"
   ]
  },
  {
   "cell_type": "markdown",
   "id": "be526f82-7dda-48e9-af22-0a07eb70d33e",
   "metadata": {},
   "source": [
    "## Doğrusal İlişki Varsayımı"
   ]
  },
  {
   "cell_type": "markdown",
   "id": "c6ddcaef-b37f-4653-bc0c-086f2f21e8d1",
   "metadata": {},
   "source": [
    "Covariate değişken ile bağımlı değişken arasında doğrusal bir ilişki olmalıdır. "
   ]
  },
  {
   "cell_type": "code",
   "execution_count": 218,
   "id": "c2e7cdb9-bf69-495e-a5a7-013b7d51a886",
   "metadata": {},
   "outputs": [],
   "source": [
    "X = df.drop([\"grade\", \"school\"], axis=1)\n",
    "y = df[\"grade\"]"
   ]
  },
  {
   "cell_type": "code",
   "execution_count": 219,
   "id": "7034eb38-fccb-44ec-8b8b-0e2f6c890dc7",
   "metadata": {},
   "outputs": [],
   "source": [
    "X = sm.add_constant(X)\n",
    "lm = sm.OLS(y,X)\n",
    "model = lm.fit()"
   ]
  },
  {
   "cell_type": "code",
   "execution_count": 220,
   "id": "f7c5f426-2e11-4d5e-8c1d-49a140de9c91",
   "metadata": {},
   "outputs": [
    {
     "data": {
      "text/html": [
       "<table class=\"simpletable\">\n",
       "<caption>OLS Regression Results</caption>\n",
       "<tr>\n",
       "  <th>Dep. Variable:</th>          <td>grade</td>      <th>  R-squared:         </th> <td>   0.431</td> \n",
       "</tr>\n",
       "<tr>\n",
       "  <th>Model:</th>                   <td>OLS</td>       <th>  Adj. R-squared:    </th> <td>   0.430</td> \n",
       "</tr>\n",
       "<tr>\n",
       "  <th>Method:</th>             <td>Least Squares</td>  <th>  F-statistic:       </th> <td>   906.0</td> \n",
       "</tr>\n",
       "<tr>\n",
       "  <th>Date:</th>             <td>Mon, 18 Oct 2021</td> <th>  Prob (F-statistic):</th> <td>1.08e-148</td>\n",
       "</tr>\n",
       "<tr>\n",
       "  <th>Time:</th>                 <td>11:20:17</td>     <th>  Log-Likelihood:    </th> <td> -2581.3</td> \n",
       "</tr>\n",
       "<tr>\n",
       "  <th>No. Observations:</th>      <td>  1200</td>      <th>  AIC:               </th> <td>   5167.</td> \n",
       "</tr>\n",
       "<tr>\n",
       "  <th>Df Residuals:</th>          <td>  1198</td>      <th>  BIC:               </th> <td>   5177.</td> \n",
       "</tr>\n",
       "<tr>\n",
       "  <th>Df Model:</th>              <td>     1</td>      <th>                     </th>     <td> </td>    \n",
       "</tr>\n",
       "<tr>\n",
       "  <th>Covariance Type:</th>      <td>nonrobust</td>    <th>                     </th>     <td> </td>    \n",
       "</tr>\n",
       "</table>\n",
       "<table class=\"simpletable\">\n",
       "<tr>\n",
       "     <td></td>       <th>coef</th>     <th>std err</th>      <th>t</th>      <th>P>|t|</th>  <th>[0.025</th>    <th>0.975]</th>  \n",
       "</tr>\n",
       "<tr>\n",
       "  <th>const</th>  <td>    1.8456</td> <td>    0.129</td> <td>   14.258</td> <td> 0.000</td> <td>    1.592</td> <td>    2.100</td>\n",
       "</tr>\n",
       "<tr>\n",
       "  <th>talent</th> <td>    0.6567</td> <td>    0.022</td> <td>   30.100</td> <td> 0.000</td> <td>    0.614</td> <td>    0.700</td>\n",
       "</tr>\n",
       "</table>\n",
       "<table class=\"simpletable\">\n",
       "<tr>\n",
       "  <th>Omnibus:</th>       <td>48.988</td> <th>  Durbin-Watson:     </th> <td>   2.084</td>\n",
       "</tr>\n",
       "<tr>\n",
       "  <th>Prob(Omnibus):</th> <td> 0.000</td> <th>  Jarque-Bera (JB):  </th> <td>  27.032</td>\n",
       "</tr>\n",
       "<tr>\n",
       "  <th>Skew:</th>          <td> 0.199</td> <th>  Prob(JB):          </th> <td>1.35e-06</td>\n",
       "</tr>\n",
       "<tr>\n",
       "  <th>Kurtosis:</th>      <td> 2.381</td> <th>  Cond. No.          </th> <td>    13.1</td>\n",
       "</tr>\n",
       "</table><br/><br/>Notes:<br/>[1] Standard Errors assume that the covariance matrix of the errors is correctly specified."
      ],
      "text/plain": [
       "<class 'statsmodels.iolib.summary.Summary'>\n",
       "\"\"\"\n",
       "                            OLS Regression Results                            \n",
       "==============================================================================\n",
       "Dep. Variable:                  grade   R-squared:                       0.431\n",
       "Model:                            OLS   Adj. R-squared:                  0.430\n",
       "Method:                 Least Squares   F-statistic:                     906.0\n",
       "Date:                Mon, 18 Oct 2021   Prob (F-statistic):          1.08e-148\n",
       "Time:                        11:20:17   Log-Likelihood:                -2581.3\n",
       "No. Observations:                1200   AIC:                             5167.\n",
       "Df Residuals:                    1198   BIC:                             5177.\n",
       "Df Model:                           1                                         \n",
       "Covariance Type:            nonrobust                                         \n",
       "==============================================================================\n",
       "                 coef    std err          t      P>|t|      [0.025      0.975]\n",
       "------------------------------------------------------------------------------\n",
       "const          1.8456      0.129     14.258      0.000       1.592       2.100\n",
       "talent         0.6567      0.022     30.100      0.000       0.614       0.700\n",
       "==============================================================================\n",
       "Omnibus:                       48.988   Durbin-Watson:                   2.084\n",
       "Prob(Omnibus):                  0.000   Jarque-Bera (JB):               27.032\n",
       "Skew:                           0.199   Prob(JB):                     1.35e-06\n",
       "Kurtosis:                       2.381   Cond. No.                         13.1\n",
       "==============================================================================\n",
       "\n",
       "Notes:\n",
       "[1] Standard Errors assume that the covariance matrix of the errors is correctly specified.\n",
       "\"\"\""
      ]
     },
     "execution_count": 220,
     "metadata": {},
     "output_type": "execute_result"
    }
   ],
   "source": [
    "model.summary()"
   ]
  },
  {
   "cell_type": "markdown",
   "id": "5e9ab347-d9ee-4f23-b5c4-cc9a119abd59",
   "metadata": {},
   "source": [
    "##### Model anlamlıdır (p<0.05). Matematiksel yetenek (covariate) ile not (bağımlı değişken) arasında doğrusal bir ilişki vardır.\n",
    "##### not = 1.85 + 0.66*yetenek"
   ]
  },
  {
   "cell_type": "code",
   "execution_count": 129,
   "id": "6b9de867-5e26-4632-a4eb-9f9f4de06b89",
   "metadata": {},
   "outputs": [
    {
     "data": {
      "text/plain": [
       "<AxesSubplot:>"
      ]
     },
     "execution_count": 129,
     "metadata": {},
     "output_type": "execute_result"
    },
    {
     "data": {
      "image/png": "[encoded data removed]",
      "text/plain": [
       "<Figure size 432x288 with 2 Axes>"
      ]
     },
     "metadata": {
      "needs_background": "light"
     },
     "output_type": "display_data"
    }
   ],
   "source": [
    "sns.heatmap(df.corr(), annot=True)"
   ]
  },
  {
   "cell_type": "markdown",
   "id": "0631cb8d-fe32-4ba7-ad0b-75a449d913de",
   "metadata": {},
   "source": [
    "## Regresyonların Homojenliği"
   ]
  },
  {
   "cell_type": "markdown",
   "id": "a3b52876-01f9-4b28-90c3-fd4443993412",
   "metadata": {},
   "source": [
    "Covariate ile bağımlı değişken arasındaki ilişkinin gücü ve yönü her grupta benzer olmalıdır.\n",
    "Her bir grupta covariate ile bağımlı değişken arasındaki ilişkide bağımsız değişken anlamsız olmalıdır. "
   ]
  },
  {
   "cell_type": "code",
   "execution_count": 221,
   "id": "01611320-37ab-49e1-883f-4eb64277d045",
   "metadata": {},
   "outputs": [],
   "source": [
    "X = df.drop([\"grade\"], axis=1)\n",
    "y = df[\"grade\"]\n",
    "X = sm.add_constant(X)\n",
    "lm = sm.OLS(y,X)\n",
    "model = lm.fit()"
   ]
  },
  {
   "cell_type": "code",
   "execution_count": 222,
   "id": "2f354946-69d6-4635-8318-1c5020b8a90e",
   "metadata": {},
   "outputs": [
    {
     "data": {
      "text/html": [
       "<table class=\"simpletable\">\n",
       "<caption>OLS Regression Results</caption>\n",
       "<tr>\n",
       "  <th>Dep. Variable:</th>          <td>grade</td>      <th>  R-squared:         </th> <td>   0.461</td> \n",
       "</tr>\n",
       "<tr>\n",
       "  <th>Model:</th>                   <td>OLS</td>       <th>  Adj. R-squared:    </th> <td>   0.460</td> \n",
       "</tr>\n",
       "<tr>\n",
       "  <th>Method:</th>             <td>Least Squares</td>  <th>  F-statistic:       </th> <td>   511.6</td> \n",
       "</tr>\n",
       "<tr>\n",
       "  <th>Date:</th>             <td>Mon, 18 Oct 2021</td> <th>  Prob (F-statistic):</th> <td>2.66e-161</td>\n",
       "</tr>\n",
       "<tr>\n",
       "  <th>Time:</th>                 <td>11:24:03</td>     <th>  Log-Likelihood:    </th> <td> -2548.6</td> \n",
       "</tr>\n",
       "<tr>\n",
       "  <th>No. Observations:</th>      <td>  1200</td>      <th>  AIC:               </th> <td>   5103.</td> \n",
       "</tr>\n",
       "<tr>\n",
       "  <th>Df Residuals:</th>          <td>  1197</td>      <th>  BIC:               </th> <td>   5118.</td> \n",
       "</tr>\n",
       "<tr>\n",
       "  <th>Df Model:</th>              <td>     2</td>      <th>                     </th>     <td> </td>    \n",
       "</tr>\n",
       "<tr>\n",
       "  <th>Covariance Type:</th>      <td>nonrobust</td>    <th>                     </th>     <td> </td>    \n",
       "</tr>\n",
       "</table>\n",
       "<table class=\"simpletable\">\n",
       "<tr>\n",
       "     <td></td>       <th>coef</th>     <th>std err</th>      <th>t</th>      <th>P>|t|</th>  <th>[0.025</th>    <th>0.975]</th>  \n",
       "</tr>\n",
       "<tr>\n",
       "  <th>const</th>  <td>    0.9742</td> <td>    0.165</td> <td>    5.909</td> <td> 0.000</td> <td>    0.651</td> <td>    1.298</td>\n",
       "</tr>\n",
       "<tr>\n",
       "  <th>school</th> <td>    0.6211</td> <td>    0.076</td> <td>    8.195</td> <td> 0.000</td> <td>    0.472</td> <td>    0.770</td>\n",
       "</tr>\n",
       "<tr>\n",
       "  <th>talent</th> <td>    0.5881</td> <td>    0.023</td> <td>   25.761</td> <td> 0.000</td> <td>    0.543</td> <td>    0.633</td>\n",
       "</tr>\n",
       "</table>\n",
       "<table class=\"simpletable\">\n",
       "<tr>\n",
       "  <th>Omnibus:</th>       <td>52.857</td> <th>  Durbin-Watson:     </th> <td>   2.082</td>\n",
       "</tr>\n",
       "<tr>\n",
       "  <th>Prob(Omnibus):</th> <td> 0.000</td> <th>  Jarque-Bera (JB):  </th> <td>  25.765</td>\n",
       "</tr>\n",
       "<tr>\n",
       "  <th>Skew:</th>          <td> 0.151</td> <th>  Prob(JB):          </th> <td>2.54e-06</td>\n",
       "</tr>\n",
       "<tr>\n",
       "  <th>Kurtosis:</th>      <td> 2.349</td> <th>  Cond. No.          </th> <td>    18.6</td>\n",
       "</tr>\n",
       "</table><br/><br/>Notes:<br/>[1] Standard Errors assume that the covariance matrix of the errors is correctly specified."
      ],
      "text/plain": [
       "<class 'statsmodels.iolib.summary.Summary'>\n",
       "\"\"\"\n",
       "                            OLS Regression Results                            \n",
       "==============================================================================\n",
       "Dep. Variable:                  grade   R-squared:                       0.461\n",
       "Model:                            OLS   Adj. R-squared:                  0.460\n",
       "Method:                 Least Squares   F-statistic:                     511.6\n",
       "Date:                Mon, 18 Oct 2021   Prob (F-statistic):          2.66e-161\n",
       "Time:                        11:24:03   Log-Likelihood:                -2548.6\n",
       "No. Observations:                1200   AIC:                             5103.\n",
       "Df Residuals:                    1197   BIC:                             5118.\n",
       "Df Model:                           2                                         \n",
       "Covariance Type:            nonrobust                                         \n",
       "==============================================================================\n",
       "                 coef    std err          t      P>|t|      [0.025      0.975]\n",
       "------------------------------------------------------------------------------\n",
       "const          0.9742      0.165      5.909      0.000       0.651       1.298\n",
       "school         0.6211      0.076      8.195      0.000       0.472       0.770\n",
       "talent         0.5881      0.023     25.761      0.000       0.543       0.633\n",
       "==============================================================================\n",
       "Omnibus:                       52.857   Durbin-Watson:                   2.082\n",
       "Prob(Omnibus):                  0.000   Jarque-Bera (JB):               25.765\n",
       "Skew:                           0.151   Prob(JB):                     2.54e-06\n",
       "Kurtosis:                       2.349   Cond. No.                         18.6\n",
       "==============================================================================\n",
       "\n",
       "Notes:\n",
       "[1] Standard Errors assume that the covariance matrix of the errors is correctly specified.\n",
       "\"\"\""
      ]
     },
     "execution_count": 222,
     "metadata": {},
     "output_type": "execute_result"
    }
   ],
   "source": [
    "model.summary()"
   ]
  },
  {
   "cell_type": "code",
   "execution_count": 223,
   "id": "2a08da09-f045-42ae-84bb-1e9cd70be17a",
   "metadata": {},
   "outputs": [
    {
     "data": {
      "text/html": [
       "<div>\n",
       "<style scoped>\n",
       "    .dataframe tbody tr th:only-of-type {\n",
       "        vertical-align: middle;\n",
       "    }\n",
       "\n",
       "    .dataframe tbody tr th {\n",
       "        vertical-align: top;\n",
       "    }\n",
       "\n",
       "    .dataframe thead th {\n",
       "        text-align: right;\n",
       "    }\n",
       "</style>\n",
       "<table border=\"1\" class=\"dataframe\">\n",
       "  <thead>\n",
       "    <tr style=\"text-align: right;\">\n",
       "      <th></th>\n",
       "      <th>const</th>\n",
       "      <th>school</th>\n",
       "      <th>talent</th>\n",
       "    </tr>\n",
       "  </thead>\n",
       "  <tbody>\n",
       "    <tr>\n",
       "      <th>vif</th>\n",
       "      <td>7.946378</td>\n",
       "      <td>1.15534</td>\n",
       "      <td>1.15534</td>\n",
       "    </tr>\n",
       "  </tbody>\n",
       "</table>\n",
       "</div>"
      ],
      "text/plain": [
       "        const   school   talent\n",
       "vif  7.946378  1.15534  1.15534"
      ]
     },
     "execution_count": 223,
     "metadata": {},
     "output_type": "execute_result"
    }
   ],
   "source": [
    "from statsmodels.stats.outliers_influence import variance_inflation_factor\n",
    "vif = [variance_inflation_factor(X.values, i) for i in range (X.shape[1])]\n",
    "pd.DataFrame({'vif': vif[0:]}, index=X.columns).T"
   ]
  },
  {
   "cell_type": "code",
   "execution_count": 224,
   "id": "a2d1a57e-f109-4a97-8067-9026e6865f15",
   "metadata": {
    "tags": []
   },
   "outputs": [],
   "source": [
    "df1 = df[df['school'] == 1]\n",
    "df2 = df[df['school'] == 2]\n",
    "df3 = df[df['school'] == 3]"
   ]
  },
  {
   "cell_type": "code",
   "execution_count": 225,
   "id": "6fb2f3f1-c35a-4a8d-9012-5441c62b735e",
   "metadata": {
    "tags": []
   },
   "outputs": [],
   "source": [
    "X1 = df1.drop([\"grade\"], axis=1)\n",
    "y1 = df1[\"grade\"]\n",
    "X2 = df2.drop([\"grade\"], axis=1)\n",
    "y2 = df2[\"grade\"]\n",
    "X3 = df3.drop([\"grade\"], axis=1)\n",
    "y3 = df3[\"grade\"]"
   ]
  },
  {
   "cell_type": "code",
   "execution_count": 226,
   "id": "e738965b-11f6-4510-afdb-823f4c346fb1",
   "metadata": {
    "tags": []
   },
   "outputs": [],
   "source": [
    "from sklearn.linear_model import LinearRegression\n",
    "X1 = sm.add_constant(X1)\n",
    "lm1 = sm.OLS(y1,X1)\n",
    "model1 = lm1.fit()\n",
    "X2 = sm.add_constant(X2)\n",
    "lm2 = sm.OLS(y2,X2)\n",
    "model2 = lm2.fit()\n",
    "X3 = sm.add_constant(X3)\n",
    "lm3 = sm.OLS(y3,X3)\n",
    "model3 = lm3.fit()"
   ]
  },
  {
   "cell_type": "code",
   "execution_count": 243,
   "id": "a018e515-6307-47ff-a4c5-1d403cfb9a95",
   "metadata": {},
   "outputs": [
    {
     "data": {
      "text/html": [
       "<table class=\"simpletable\">\n",
       "<caption>OLS Regression Results</caption>\n",
       "<tr>\n",
       "  <th>Dep. Variable:</th>          <td>grade</td>      <th>  R-squared:         </th> <td>   0.009</td>\n",
       "</tr>\n",
       "<tr>\n",
       "  <th>Model:</th>                   <td>OLS</td>       <th>  Adj. R-squared:    </th> <td>   0.006</td>\n",
       "</tr>\n",
       "<tr>\n",
       "  <th>Method:</th>             <td>Least Squares</td>  <th>  F-statistic:       </th> <td>   3.293</td>\n",
       "</tr>\n",
       "<tr>\n",
       "  <th>Date:</th>             <td>Mon, 18 Oct 2021</td> <th>  Prob (F-statistic):</th>  <td>0.0704</td> \n",
       "</tr>\n",
       "<tr>\n",
       "  <th>Time:</th>                 <td>13:25:06</td>     <th>  Log-Likelihood:    </th> <td> -727.24</td>\n",
       "</tr>\n",
       "<tr>\n",
       "  <th>No. Observations:</th>      <td>   374</td>      <th>  AIC:               </th> <td>   1458.</td>\n",
       "</tr>\n",
       "<tr>\n",
       "  <th>Df Residuals:</th>          <td>   372</td>      <th>  BIC:               </th> <td>   1466.</td>\n",
       "</tr>\n",
       "<tr>\n",
       "  <th>Df Model:</th>              <td>     1</td>      <th>                     </th>     <td> </td>   \n",
       "</tr>\n",
       "<tr>\n",
       "  <th>Covariance Type:</th>      <td>nonrobust</td>    <th>                     </th>     <td> </td>   \n",
       "</tr>\n",
       "</table>\n",
       "<table class=\"simpletable\">\n",
       "<tr>\n",
       "     <td></td>       <th>coef</th>     <th>std err</th>      <th>t</th>      <th>P>|t|</th>  <th>[0.025</th>    <th>0.975]</th>  \n",
       "</tr>\n",
       "<tr>\n",
       "  <th>school</th> <td>    4.0903</td> <td>    0.196</td> <td>   20.849</td> <td> 0.000</td> <td>    3.705</td> <td>    4.476</td>\n",
       "</tr>\n",
       "<tr>\n",
       "  <th>talent</th> <td>   -0.0931</td> <td>    0.051</td> <td>   -1.815</td> <td> 0.070</td> <td>   -0.194</td> <td>    0.008</td>\n",
       "</tr>\n",
       "</table>\n",
       "<table class=\"simpletable\">\n",
       "<tr>\n",
       "  <th>Omnibus:</th>       <td>309.780</td> <th>  Durbin-Watson:     </th> <td>   1.980</td>\n",
       "</tr>\n",
       "<tr>\n",
       "  <th>Prob(Omnibus):</th> <td> 0.000</td>  <th>  Jarque-Bera (JB):  </th> <td>  24.510</td>\n",
       "</tr>\n",
       "<tr>\n",
       "  <th>Skew:</th>          <td>-0.056</td>  <th>  Prob(JB):          </th> <td>4.76e-06</td>\n",
       "</tr>\n",
       "<tr>\n",
       "  <th>Kurtosis:</th>      <td> 1.751</td>  <th>  Cond. No.          </th> <td>    18.2</td>\n",
       "</tr>\n",
       "</table><br/><br/>Notes:<br/>[1] Standard Errors assume that the covariance matrix of the errors is correctly specified."
      ],
      "text/plain": [
       "<class 'statsmodels.iolib.summary.Summary'>\n",
       "\"\"\"\n",
       "                            OLS Regression Results                            \n",
       "==============================================================================\n",
       "Dep. Variable:                  grade   R-squared:                       0.009\n",
       "Model:                            OLS   Adj. R-squared:                  0.006\n",
       "Method:                 Least Squares   F-statistic:                     3.293\n",
       "Date:                Mon, 18 Oct 2021   Prob (F-statistic):             0.0704\n",
       "Time:                        13:25:06   Log-Likelihood:                -727.24\n",
       "No. Observations:                 374   AIC:                             1458.\n",
       "Df Residuals:                     372   BIC:                             1466.\n",
       "Df Model:                           1                                         \n",
       "Covariance Type:            nonrobust                                         \n",
       "==============================================================================\n",
       "                 coef    std err          t      P>|t|      [0.025      0.975]\n",
       "------------------------------------------------------------------------------\n",
       "school         4.0903      0.196     20.849      0.000       3.705       4.476\n",
       "talent        -0.0931      0.051     -1.815      0.070      -0.194       0.008\n",
       "==============================================================================\n",
       "Omnibus:                      309.780   Durbin-Watson:                   1.980\n",
       "Prob(Omnibus):                  0.000   Jarque-Bera (JB):               24.510\n",
       "Skew:                          -0.056   Prob(JB):                     4.76e-06\n",
       "Kurtosis:                       1.751   Cond. No.                         18.2\n",
       "==============================================================================\n",
       "\n",
       "Notes:\n",
       "[1] Standard Errors assume that the covariance matrix of the errors is correctly specified.\n",
       "\"\"\""
      ]
     },
     "execution_count": 243,
     "metadata": {},
     "output_type": "execute_result"
    }
   ],
   "source": [
    "model2.summary()"
   ]
  },
  {
   "cell_type": "code",
   "execution_count": 211,
   "id": "98aabde3-19c0-4fca-8cfb-71b5e1427b56",
   "metadata": {
    "tags": []
   },
   "outputs": [],
   "source": [
    "X1 = df1.drop([\"grade\",\"school\"], axis=1)\n",
    "y1 = df1[\"grade\"]\n",
    "X2 = df2.drop([\"grade\", \"school\"], axis=1)\n",
    "y2 = df2[\"grade\"]\n",
    "X3 = df3.drop([\"grade\", \"school\"], axis=1)\n",
    "y3 = df3[\"grade\"]"
   ]
  },
  {
   "cell_type": "markdown",
   "id": "61735379-521f-443e-9b8b-bc89a4755008",
   "metadata": {},
   "source": [
    "##### Doğru Eğimleri"
   ]
  },
  {
   "cell_type": "code",
   "execution_count": 228,
   "id": "0f0ccf4a-af16-4a69-a3be-ecc1d1464793",
   "metadata": {},
   "outputs": [],
   "source": [
    "slope1, intercept1, r_value1, p_value1, std_err1 = linregress(df1[\"talent\"], df1[\"grade\"])\n",
    "slope2, intercept2, r_value2, p_value2, std_err2 = linregress(df2[\"talent\"], df2[\"grade\"])\n",
    "slope3, intercept3, r_value3, p_value3, std_err3 = linregress(df3[\"talent\"], df3[\"grade\"])"
   ]
  },
  {
   "cell_type": "code",
   "execution_count": 229,
   "id": "0c5f3ac6-77b4-41c5-8639-98a3a460fb29",
   "metadata": {},
   "outputs": [
    {
     "data": {
      "text/plain": [
       "{'1.Grup Eğim': -0.09136075540759787,\n",
       " '1. Grup sabit': 3.3063622430934885,\n",
       " '1.Grup anlamlılık': 0.05340416077121136,\n",
       " '2.Grup Eğim': -0.09309484193011631,\n",
       " '2. Grup sabit': 8.180610746794557,\n",
       " '2.Grup anlamlılık': 0.07039863286990276,\n",
       " '3.Grup Eğim': 0.667698914441576,\n",
       " '3. Grup sabit': 1.9902061985075887,\n",
       " '3.Grup anlamlılık': 1.0180892349417317e-56}"
      ]
     },
     "execution_count": 229,
     "metadata": {},
     "output_type": "execute_result"
    }
   ],
   "source": [
    "dict=({\"1.Grup Eğim\":slope1,\"1. Grup sabit\": intercept1, \"1.Grup anlamlılık\": p_value1,\n",
    "       \"2.Grup Eğim\":slope2, \"2. Grup sabit\": intercept2, \"2.Grup anlamlılık\": p_value2,\n",
    "       \"3.Grup Eğim\":slope3, \"3. Grup sabit\": intercept3, \"3.Grup anlamlılık\": p_value3})\n",
    "dict"
   ]
  },
  {
   "cell_type": "markdown",
   "id": "ebe191c9-1922-42c9-a0eb-d1d818970c9f",
   "metadata": {},
   "source": [
    "Ho: Β1,2,3 = 0 (Regresyon doğrusu önemsizdir.) \n",
    "\n",
    "\n",
    "Ha: Β1,2,3 ≠ 0 (Regresyon doğrusu önemlidir.) \n",
    "             \n",
    "H0 reddedilemez.\n",
    "Regresyon doğruları anlamlı değildir. Her bir grup için covariate ile bağımlı değişken arasındaki ilişki anlamlı bulunmamıştır."
   ]
  },
  {
   "cell_type": "markdown",
   "id": "c578b64d-292d-40bf-b0e1-cc746ab9818d",
   "metadata": {},
   "source": [
    "## ANCOVA MODEL"
   ]
  },
  {
   "cell_type": "code",
   "execution_count": 230,
   "id": "8cb6c450-4cd9-4cee-a8aa-3c36ac07fc63",
   "metadata": {},
   "outputs": [
    {
     "name": "stdout",
     "output_type": "stream",
     "text": [
      "               sum_sq      df           F         PR(>F)\n",
      "school     275.667851     1.0   67.150435   6.408204e-16\n",
      "talent    2724.447049     1.0  663.653028  8.523624e-117\n",
      "Residual  4913.958021  1197.0         NaN            NaN\n"
     ]
    }
   ],
   "source": [
    "oneway = smf.ols('grade ~ school + talent', df).fit()\n",
    "print(sm.stats.anova_lm(oneway, typ=2))"
   ]
  },
  {
   "cell_type": "markdown",
   "id": "b9f498c0-449c-4035-a137-8226cbbd0346",
   "metadata": {},
   "source": [
    "## Hataların Normalliği"
   ]
  },
  {
   "cell_type": "code",
   "execution_count": 123,
   "id": "fd6212a3-9ca3-40f0-96c9-c30442088fa0",
   "metadata": {},
   "outputs": [
    {
     "name": "stdout",
     "output_type": "stream",
     "text": [
      "Normality test p-value 0.000\n",
      "Hatalar normal dağılıma uygun değil\n"
     ]
    },
    {
     "data": {
      "image/png": "[encoded data removed]",
      "text/plain": [
       "<Figure size 360x360 with 1 Axes>"
      ]
     },
     "metadata": {
      "needs_background": "light"
     },
     "output_type": "display_data"
    }
   ],
   "source": [
    "df[\"residuals\"] = oneway.resid\n",
    "sns.displot(df, x='residuals', kind=\"kde\", fill=True)\n",
    "print(\"Normality test p-value %.3f\" % sms.jarque_bera(oneway.resid)[1])\n",
    "print(\"Hatalar normal dağılıma uygun değil\")"
   ]
  },
  {
   "cell_type": "markdown",
   "id": "c3b62ec8-6a11-47f1-8e4f-809833b0742f",
   "metadata": {},
   "source": [
    "Sınıf değişkeninin p değeri <0.05 olduğundan H0 hipotezi reddedilir. \n",
    "Farklı sınıfların sınavdan aldıkları notlar, matematiksel yetenekleri de hesaba katıldığında farklılaşmaktadır. "
   ]
  },
  {
   "cell_type": "code",
   "execution_count": null,
   "id": "5e480af5-1435-4a64-9a5f-fa9e1341198b",
   "metadata": {},
   "outputs": [],
   "source": []
  }
 ],
 "metadata": {
  "kernelspec": {
   "display_name": "Python 3 (ipykernel)",
   "language": "python",
   "name": "python3"
  },
  "language_info": {
   "codemirror_mode": {
    "name": "ipython",
    "version": 3
   },
   "file_extension": ".py",
   "mimetype": "text/x-python",
   "name": "python",
   "nbconvert_exporter": "python",
   "pygments_lexer": "ipython3",
   "version": "3.9.9"
  }
 },
 "nbformat": 4,
 "nbformat_minor": 5
}
