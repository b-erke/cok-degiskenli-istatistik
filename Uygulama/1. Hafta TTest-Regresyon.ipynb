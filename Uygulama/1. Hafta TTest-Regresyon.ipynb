{
 "cells": [
  {
   "cell_type": "markdown",
   "id": "7f0ad930-9f5b-439a-9dbe-3a0b5310eaa0",
   "metadata": {},
   "source": [
    "# T Testi"
   ]
  },
  {
   "cell_type": "markdown",
   "id": "8360a5ed-467c-41ee-bb8a-fbe407278d54",
   "metadata": {},
   "source": [
    "Student T testinin bu versiyonu iki ortalama arasındaki farkın testi olarak bilinmektedir. \n"
   ]
  },
  {
   "cell_type": "code",
   "execution_count": 1,
   "id": "6827acad-9428-4e92-82c5-2062e283c039",
   "metadata": {},
   "outputs": [],
   "source": [
    "import pandas as pd\n",
    "import numpy as np\n",
    "import matplotlib.pyplot as plt\n",
    "from scipy import stats\n",
    "import statsmodels.api as sm\n",
    "import statsmodels.tsa.api as smt\n",
    "import seaborn as sns\n",
    "from sklearn.linear_model import LinearRegression"
   ]
  },
  {
   "cell_type": "code",
   "execution_count": 4,
   "id": "e182a18e-d92d-4d72-9c75-79b1baa30de0",
   "metadata": {},
   "outputs": [],
   "source": [
    "df = pd.read_excel(\"LungCap.xls\")"
   ]
  },
  {
   "cell_type": "code",
   "execution_count": 5,
   "id": "584c3eed-f8c7-4d2b-8649-68820e17ecd7",
   "metadata": {},
   "outputs": [
    {
     "name": "stdout",
     "output_type": "stream",
     "text": [
      "<class 'pandas.core.frame.DataFrame'>\n",
      "RangeIndex: 725 entries, 0 to 724\n",
      "Data columns (total 5 columns):\n",
      " #   Column   Non-Null Count  Dtype  \n",
      "---  ------   --------------  -----  \n",
      " 0   LungCap  725 non-null    float64\n",
      " 1   Age      725 non-null    int64  \n",
      " 2   Height   725 non-null    float64\n",
      " 3   Smoke    725 non-null    int64  \n",
      " 4   Gender   725 non-null    int64  \n",
      "dtypes: float64(2), int64(3)\n",
      "memory usage: 28.4 KB\n"
     ]
    }
   ],
   "source": [
    "df.info()"
   ]
  },
  {
   "cell_type": "code",
   "execution_count": 6,
   "id": "c64580a0-f8a0-4a50-9dca-4a18ac826b16",
   "metadata": {},
   "outputs": [
    {
     "data": {
      "text/html": [
       "<div>\n",
       "<style scoped>\n",
       "    .dataframe tbody tr th:only-of-type {\n",
       "        vertical-align: middle;\n",
       "    }\n",
       "\n",
       "    .dataframe tbody tr th {\n",
       "        vertical-align: top;\n",
       "    }\n",
       "\n",
       "    .dataframe thead th {\n",
       "        text-align: right;\n",
       "    }\n",
       "</style>\n",
       "<table border=\"1\" class=\"dataframe\">\n",
       "  <thead>\n",
       "    <tr style=\"text-align: right;\">\n",
       "      <th></th>\n",
       "      <th>LungCap</th>\n",
       "      <th>Age</th>\n",
       "      <th>Height</th>\n",
       "      <th>Smoke</th>\n",
       "      <th>Gender</th>\n",
       "    </tr>\n",
       "  </thead>\n",
       "  <tbody>\n",
       "    <tr>\n",
       "      <th>0</th>\n",
       "      <td>6.475</td>\n",
       "      <td>6</td>\n",
       "      <td>62.1</td>\n",
       "      <td>0</td>\n",
       "      <td>0</td>\n",
       "    </tr>\n",
       "    <tr>\n",
       "      <th>1</th>\n",
       "      <td>10.125</td>\n",
       "      <td>18</td>\n",
       "      <td>74.7</td>\n",
       "      <td>1</td>\n",
       "      <td>1</td>\n",
       "    </tr>\n",
       "    <tr>\n",
       "      <th>2</th>\n",
       "      <td>9.550</td>\n",
       "      <td>16</td>\n",
       "      <td>69.7</td>\n",
       "      <td>0</td>\n",
       "      <td>1</td>\n",
       "    </tr>\n",
       "  </tbody>\n",
       "</table>\n",
       "</div>"
      ],
      "text/plain": [
       "   LungCap  Age  Height  Smoke  Gender\n",
       "0    6.475    6    62.1      0       0\n",
       "1   10.125   18    74.7      1       1\n",
       "2    9.550   16    69.7      0       1"
      ]
     },
     "execution_count": 6,
     "metadata": {},
     "output_type": "execute_result"
    }
   ],
   "source": [
    "df.head(3)"
   ]
  },
  {
   "cell_type": "code",
   "execution_count": 7,
   "id": "3219ad19-89f4-4e7a-9a5b-03e2d62d8c41",
   "metadata": {},
   "outputs": [
    {
     "data": {
      "text/html": [
       "<div>\n",
       "<style scoped>\n",
       "    .dataframe tbody tr th:only-of-type {\n",
       "        vertical-align: middle;\n",
       "    }\n",
       "\n",
       "    .dataframe tbody tr th {\n",
       "        vertical-align: top;\n",
       "    }\n",
       "\n",
       "    .dataframe thead th {\n",
       "        text-align: right;\n",
       "    }\n",
       "</style>\n",
       "<table border=\"1\" class=\"dataframe\">\n",
       "  <thead>\n",
       "    <tr style=\"text-align: right;\">\n",
       "      <th></th>\n",
       "      <th>count</th>\n",
       "      <th>mean</th>\n",
       "      <th>std</th>\n",
       "      <th>min</th>\n",
       "      <th>25%</th>\n",
       "      <th>50%</th>\n",
       "      <th>75%</th>\n",
       "      <th>max</th>\n",
       "    </tr>\n",
       "  </thead>\n",
       "  <tbody>\n",
       "    <tr>\n",
       "      <th>LungCap</th>\n",
       "      <td>725.0</td>\n",
       "      <td>7.863148</td>\n",
       "      <td>2.662008</td>\n",
       "      <td>0.507</td>\n",
       "      <td>6.15</td>\n",
       "      <td>8.0</td>\n",
       "      <td>9.8</td>\n",
       "      <td>14.675</td>\n",
       "    </tr>\n",
       "    <tr>\n",
       "      <th>Age</th>\n",
       "      <td>725.0</td>\n",
       "      <td>12.326897</td>\n",
       "      <td>4.004750</td>\n",
       "      <td>3.000</td>\n",
       "      <td>9.00</td>\n",
       "      <td>13.0</td>\n",
       "      <td>15.0</td>\n",
       "      <td>19.000</td>\n",
       "    </tr>\n",
       "    <tr>\n",
       "      <th>Height</th>\n",
       "      <td>725.0</td>\n",
       "      <td>64.836276</td>\n",
       "      <td>7.202144</td>\n",
       "      <td>45.300</td>\n",
       "      <td>59.90</td>\n",
       "      <td>65.4</td>\n",
       "      <td>70.3</td>\n",
       "      <td>81.800</td>\n",
       "    </tr>\n",
       "    <tr>\n",
       "      <th>Smoke</th>\n",
       "      <td>725.0</td>\n",
       "      <td>0.106207</td>\n",
       "      <td>0.308315</td>\n",
       "      <td>0.000</td>\n",
       "      <td>0.00</td>\n",
       "      <td>0.0</td>\n",
       "      <td>0.0</td>\n",
       "      <td>1.000</td>\n",
       "    </tr>\n",
       "    <tr>\n",
       "      <th>Gender</th>\n",
       "      <td>725.0</td>\n",
       "      <td>0.493793</td>\n",
       "      <td>0.500307</td>\n",
       "      <td>0.000</td>\n",
       "      <td>0.00</td>\n",
       "      <td>0.0</td>\n",
       "      <td>1.0</td>\n",
       "      <td>1.000</td>\n",
       "    </tr>\n",
       "  </tbody>\n",
       "</table>\n",
       "</div>"
      ],
      "text/plain": [
       "         count       mean       std     min    25%   50%   75%     max\n",
       "LungCap  725.0   7.863148  2.662008   0.507   6.15   8.0   9.8  14.675\n",
       "Age      725.0  12.326897  4.004750   3.000   9.00  13.0  15.0  19.000\n",
       "Height   725.0  64.836276  7.202144  45.300  59.90  65.4  70.3  81.800\n",
       "Smoke    725.0   0.106207  0.308315   0.000   0.00   0.0   0.0   1.000\n",
       "Gender   725.0   0.493793  0.500307   0.000   0.00   0.0   1.0   1.000"
      ]
     },
     "execution_count": 7,
     "metadata": {},
     "output_type": "execute_result"
    }
   ],
   "source": [
    "df.describe().T"
   ]
  },
  {
   "cell_type": "markdown",
   "id": "6198b8ab-3945-482e-af50-109154e7f7ab",
   "metadata": {},
   "source": [
    "## Varsayım 1: Veriler, normal dağılıma uygun olmalıdır."
   ]
  },
  {
   "cell_type": "code",
   "execution_count": 28,
   "id": "666e1920-1f5e-484e-a998-da112d9652d3",
   "metadata": {},
   "outputs": [
    {
     "name": "stdout",
     "output_type": "stream",
     "text": [
      "Statistics=0.993, p=0.002\n",
      "Bağımlı değişken normal dağılıma uygun değil (H0 RED)\n"
     ]
    }
   ],
   "source": [
    "#Bağımlı değişkenin normal dağılım testi\n",
    "from scipy.stats import shapiro\n",
    "stat, p = shapiro(df['LungCap'])\n",
    "print('Statistics=%.3f, p=%.3f' % (stat, p))\n",
    "\n",
    "alpha = 0.05\n",
    "if p > alpha:\n",
    "    print('Bağımlı değişken normal dağılıma uygun (H0 REDDEDİLEMEZ)')\n",
    "else:\n",
    "    print('Bağımlı değişken normal dağılıma uygun değil (H0 RED)')"
   ]
  },
  {
   "cell_type": "markdown",
   "id": "f44baf4d-f33e-4491-97a9-d0f8e18da9cd",
   "metadata": {},
   "source": [
    "## Varsayım 2: Varyanslar homojen olmalıdır."
   ]
  },
  {
   "cell_type": "code",
   "execution_count": 33,
   "id": "866c2218-0f59-4051-b884-948569c317b6",
   "metadata": {},
   "outputs": [
    {
     "data": {
      "text/plain": [
       "LeveneResult(statistic=0.6756634522420357, pvalue=0.4113549959467262)"
      ]
     },
     "execution_count": 33,
     "metadata": {},
     "output_type": "execute_result"
    }
   ],
   "source": [
    "stats.levene(df['LungCap'][df['Gender'] == 1],\n",
    "             df['LungCap'][df['Gender'] ==0])"
   ]
  },
  {
   "cell_type": "markdown",
   "id": "f120caa3-1a6c-49a1-88e6-7a58288f9987",
   "metadata": {},
   "source": [
    " p=0.41 olması sebebiyle H0 reddedilemez. %95 güvenilirlikle varyanslar homojendir"
   ]
  },
  {
   "cell_type": "markdown",
   "id": "bced94cf-e37d-4287-bcf0-8607a0e07ce9",
   "metadata": {},
   "source": [
    "## Testin Uygulanması"
   ]
  },
  {
   "cell_type": "markdown",
   "id": "cee28d39-a02b-4a92-a300-d38ff570be40",
   "metadata": {},
   "source": [
    "H0: Kadın ve erkeklerin akciğer kapasiteleri arasında anlamlı bir fark yoktur."
   ]
  },
  {
   "cell_type": "code",
   "execution_count": 40,
   "id": "7ce180be-d748-4ebf-9493-d611d02641da",
   "metadata": {},
   "outputs": [
    {
     "name": "stdout",
     "output_type": "stream",
     "text": [
      "Ttest_indResult(statistic=73.2573473392879, pvalue=0.0)\n"
     ]
    }
   ],
   "source": [
    "t_test = t_value,p_value=stats.ttest_ind(df[\"LungCap\"],df[\"Gender\"])\n",
    "print(t_test)"
   ]
  },
  {
   "cell_type": "markdown",
   "id": "6d4bae8f-45fa-4117-af02-d5298bb8a84d",
   "metadata": {},
   "source": [
    "* H0 reddedilir(p < 0.05). \n",
    "* Kadın ve erkeklerin akciğer kapasiteleri arasında anlamlı bir fark vardır.\n"
   ]
  },
  {
   "cell_type": "markdown",
   "id": "90e043ce-dcae-4c2f-92d7-ec36e8d07cec",
   "metadata": {},
   "source": [
    "## Basit Regresyon"
   ]
  },
  {
   "cell_type": "markdown",
   "id": "3c45470b-c236-4a84-b9a1-86f28f2a1d1f",
   "metadata": {},
   "source": [
    "* Tek bir bağımlı ve tek bir bağımsız değişkenden oluşur. \n",
    "* Temel amaç, bağımlı ve bağımsız değişken arasındaki ilişkiyi ifade eden doğrusal fonksiyonu oluşturmaktadır. \n",
    "* Bu doğrusal fonksiyonu ise; Hata kareler toplamını minimize edecek katsayı tahminlerini bulmaya çalışarak oluşturur."
   ]
  },
  {
   "cell_type": "markdown",
   "id": "059244c9-3e74-4b97-9ebe-9567b7cf55f6",
   "metadata": {},
   "source": [
    "## Model"
   ]
  },
  {
   "cell_type": "markdown",
   "id": "2e8887ed-dcc6-4473-bb87-d48773b0fd3c",
   "metadata": {},
   "source": [
    "### AkciğerKapasitesi=B0+B1*Cinsiyet"
   ]
  },
  {
   "cell_type": "code",
   "execution_count": 41,
   "id": "40efab62-2fc8-4559-97d7-4b2f91b62c1c",
   "metadata": {},
   "outputs": [],
   "source": [
    "X = df.drop([\"LungCap\", \"Height\", \"Age\", \"Smoke\"], axis=1)\n",
    "y = df[\"LungCap\"]"
   ]
  },
  {
   "cell_type": "code",
   "execution_count": 42,
   "id": "e61a6884-e767-4cc1-9a74-2a731fccafad",
   "metadata": {},
   "outputs": [],
   "source": [
    "X = sm.add_constant(X)\n",
    "lm = sm.OLS(y,X)\n",
    "model = lm.fit()"
   ]
  },
  {
   "cell_type": "code",
   "execution_count": 43,
   "id": "925519a2-1bf4-4967-9de1-f33393cb785f",
   "metadata": {},
   "outputs": [
    {
     "data": {
      "text/plain": [
       "const     8.309332\n",
       "Gender   -0.903587\n",
       "dtype: float64"
      ]
     },
     "execution_count": 43,
     "metadata": {},
     "output_type": "execute_result"
    }
   ],
   "source": [
    "model.params"
   ]
  },
  {
   "cell_type": "code",
   "execution_count": 44,
   "id": "f92eb006-a448-469d-ba1d-35dbd17c5efd",
   "metadata": {},
   "outputs": [
    {
     "name": "stdout",
     "output_type": "stream",
     "text": [
      "                            OLS Regression Results                            \n",
      "==============================================================================\n",
      "Dep. Variable:                LungCap   R-squared:                       0.029\n",
      "Model:                            OLS   Adj. R-squared:                  0.027\n",
      "Method:                 Least Squares   F-statistic:                     21.47\n",
      "Date:                Sat, 13 Nov 2021   Prob (F-statistic):           4.26e-06\n",
      "Time:                        14:57:49   Log-Likelihood:                -1727.5\n",
      "No. Observations:                 725   AIC:                             3459.\n",
      "Df Residuals:                     723   BIC:                             3468.\n",
      "Df Model:                           1                                         \n",
      "Covariance Type:            nonrobust                                         \n",
      "==============================================================================\n",
      "                 coef    std err          t      P>|t|      [0.025      0.975]\n",
      "------------------------------------------------------------------------------\n",
      "const          8.3093      0.137     60.638      0.000       8.040       8.578\n",
      "Gender        -0.9036      0.195     -4.634      0.000      -1.286      -0.521\n",
      "==============================================================================\n",
      "Omnibus:                       13.497   Durbin-Watson:                   1.936\n",
      "Prob(Omnibus):                  0.001   Jarque-Bera (JB):               12.151\n",
      "Skew:                          -0.261   Prob(JB):                      0.00230\n",
      "Kurtosis:                       2.640   Cond. No.                         2.60\n",
      "==============================================================================\n",
      "\n",
      "Notes:\n",
      "[1] Standard Errors assume that the covariance matrix of the errors is correctly specified.\n"
     ]
    }
   ],
   "source": [
    "print(model.summary())"
   ]
  },
  {
   "cell_type": "markdown",
   "id": "f1862c82-bfb1-4383-80f7-0ef4e3de4a31",
   "metadata": {},
   "source": [
    "* Modelimizin p değeri(4.26e-06) 0.05’ten küçük olduğu için kurulan regresyon modeli anlamlıdır.\n",
    "* Cinsiyet, akciğer kapasitesinin tahmin edilmesini %2,7 oranında açıklayabilmektedir. Buradan cinsiyetin akciğer kapasitesini belirlemede tek başına yeterli olmadığı yorumunu yapabiliriz. \n",
    "* Regresyon denklemindeki katsayılarımızın ise p değerleri 0.05’ten küçük olduğu için, katsayılarımız da anlamlıdır. \n",
    "* Böylelikle denklemi şu şekilde oluşturabiliriz; \n",
    "* AkciğerKapasitesi=8.53-0.90*Cinsiyet"
   ]
  },
  {
   "cell_type": "markdown",
   "id": "fe69cc70-a0ae-4558-91f5-8eab0b2e5975",
   "metadata": {},
   "source": [
    "## Varsayım 1: Hata terimlerinin aldığı değerler normal dağılım özelliği göstermelidir."
   ]
  },
  {
   "cell_type": "code",
   "execution_count": 45,
   "id": "59a5f1ca-59c8-43ea-a92b-8f1792cef813",
   "metadata": {},
   "outputs": [
    {
     "data": {
      "image/png": "[encoded data removed]",
      "text/plain": [
       "<Figure size 432x288 with 1 Axes>"
      ]
     },
     "metadata": {
      "needs_background": "light"
     },
     "output_type": "display_data"
    }
   ],
   "source": [
    "sns.histplot(x=model.resid, bins=15, kde=True)\n",
    "plt.show()"
   ]
  },
  {
   "cell_type": "code",
   "execution_count": 47,
   "id": "05e78226-8065-4c5e-b80d-c4ab02c48b81",
   "metadata": {},
   "outputs": [
    {
     "name": "stdout",
     "output_type": "stream",
     "text": [
      "Statistics=0.991, p=0.000\n",
      "Hatalar normal dağılıma uygun değil (H0 RED)\n"
     ]
    }
   ],
   "source": [
    "# normal dağılım testi\n",
    "from scipy.stats import shapiro\n",
    "stat, p = shapiro(model.resid)\n",
    "print('Statistics=%.3f, p=%.3f' % (stat, p))\n",
    "# interpret\n",
    "alpha = 0.05\n",
    "if p > alpha:\n",
    "    print('Hatalar normal dağılıma uygun (H0 REDDEDİLEMEZ)')\n",
    "else:\n",
    "    print('Hatalar normal dağılıma uygun değil (H0 RED)')"
   ]
  },
  {
   "cell_type": "markdown",
   "id": "b8c8ad25-929e-4b4b-ae54-a45a1fd53078",
   "metadata": {},
   "source": [
    "## Varsayım 2: Hata terimlerinin varyansı sabittir. "
   ]
  },
  {
   "cell_type": "code",
   "execution_count": 48,
   "id": "bd386159-2dc3-431a-b5f6-c3e752264718",
   "metadata": {},
   "outputs": [
    {
     "name": "stdout",
     "output_type": "stream",
     "text": [
      "\n",
      " Breusch-Pagan test ----\n",
      "                                  value\n",
      "Lagrange multiplier statistic  0.908843\n",
      "p-value                        0.340422\n",
      "f-value                        0.907473\n",
      "f p-value                      0.341104\n",
      "\n",
      " Goldfeld-Quandt test ----\n",
      "                value\n",
      "F statistic  1.114967\n",
      "p-value      0.150985\n",
      "\n",
      " Residuals plots ----\n"
     ]
    },
    {
     "data": {
      "image/png": "[encoded data removed]",
      "text/plain": [
       "<Figure size 432x288 with 2 Axes>"
      ]
     },
     "metadata": {
      "needs_background": "light"
     },
     "output_type": "display_data"
    }
   ],
   "source": [
    "import statsmodels.stats.api as sms\n",
    "def homoscedasticity_test(model):\n",
    "    '''\n",
    "    Function for testing the homoscedasticity of residuals in a linear regression model.\n",
    "    It plots residuals and standardized residuals vs. fitted values and runs Breusch-Pagan and Goldfeld-Quandt tests.\n",
    "    \n",
    "    Args:\n",
    "    * model - fitted OLS model from statsmodels\n",
    "    '''\n",
    "    fitted_vals = model.predict()\n",
    "    resids = model.resid\n",
    "    resids_standardized = model.get_influence().resid_studentized_internal\n",
    "\n",
    "    fig, ax = plt.subplots(1,2)\n",
    "\n",
    "    sns.regplot(x=fitted_vals, y=resids, lowess=True, ax=ax[0], line_kws={'color': 'red'})\n",
    "    ax[0].set_title('Residuals vs Fitted', fontsize=16)\n",
    "    ax[0].set(xlabel='Fitted Values', ylabel='Residuals')\n",
    "\n",
    "    sns.regplot(x=fitted_vals, y=np.sqrt(np.abs(resids_standardized)), lowess=True, ax=ax[1], line_kws={'color': 'red'})\n",
    "    ax[1].set_title('Scale-Location', fontsize=16)\n",
    "    ax[1].set(xlabel='Fitted Values', ylabel='sqrt(abs(Residuals))')\n",
    "\n",
    "    bp_test = pd.DataFrame(sms.het_breuschpagan(resids, model.model.exog), \n",
    "                           columns=['value'],\n",
    "                           index=['Lagrange multiplier statistic', 'p-value', 'f-value', 'f p-value'])\n",
    "\n",
    "    gq_test = pd.DataFrame(sms.het_goldfeldquandt(resids, model.model.exog)[:-1],\n",
    "                           columns=['value'],\n",
    "                           index=['F statistic', 'p-value'])\n",
    "\n",
    "    print('\\n Breusch-Pagan test ----')\n",
    "    print(bp_test)\n",
    "    print('\\n Goldfeld-Quandt test ----')\n",
    "    print(gq_test)\n",
    "    print('\\n Residuals plots ----')\n",
    "\n",
    "homoscedasticity_test(model)"
   ]
  },
  {
   "cell_type": "markdown",
   "id": "17e3d877-469e-4dc6-9812-eb80cb5e97c8",
   "metadata": {},
   "source": [
    "Yapılan testlere göre H0 reddedilemeyeceğinden değişen varyans sorunumuz yoktur."
   ]
  }
 ],
 "metadata": {
  "kernelspec": {
   "display_name": "Python 3",
   "language": "python",
   "name": "python3"
  },
  "language_info": {
   "codemirror_mode": {
    "name": "ipython",
    "version": 3
   },
   "file_extension": ".py",
   "mimetype": "text/x-python",
   "name": "python",
   "nbconvert_exporter": "python",
   "pygments_lexer": "ipython3",
   "version": "3.8.8"
  }
 },
 "nbformat": 4,
 "nbformat_minor": 5
}
