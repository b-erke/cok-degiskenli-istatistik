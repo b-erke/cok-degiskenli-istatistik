{
 "cells": [
  {
   "cell_type": "markdown",
   "id": "3926486f-7374-43d1-ba3b-f7a9f20be722",
   "metadata": {},
   "source": [
    "### MANCOVA\n",
    "İkiden fazla grupta, iki bağımlı değişkenin ortalamalarının karşılaştırılmasında bağımlı değişkenlerin etkileyen başka bir değişkenin etkisinin varlığı"
   ]
  },
  {
   "cell_type": "markdown",
   "id": "70fe2c43-259a-4a75-b5cf-33299cf8d73c",
   "metadata": {},
   "source": [
    "https://www.kaggle.com/jacksonchou/hr-data-for-analytics"
   ]
  },
  {
   "cell_type": "code",
   "execution_count": 1,
   "id": "c6e6152a-dfdf-4d28-9878-5b646b1a84ff",
   "metadata": {},
   "outputs": [],
   "source": [
    "import pandas as pd\n",
    "import numpy as np\n",
    "import scipy.stats as stats  \n",
    "from statsmodels.multivariate.manova import MANOVA\n",
    "from statsmodels.stats.multicomp import pairwise_tukeyhsd \n",
    "from statsmodels.stats.multicomp import MultiComparison\n",
    "import pingouin as pg\n",
    "import matplotlib.pyplot as plt\n",
    "import seaborn as sns\n",
    "from pingouin import multivariate_normality\n",
    "from warnings import filterwarnings\n",
    "filterwarnings('ignore')"
   ]
  },
  {
   "cell_type": "code",
   "execution_count": 2,
   "id": "4044f8c3-5f30-43b6-8365-a42034ee7251",
   "metadata": {},
   "outputs": [],
   "source": [
    "df_all = pd.read_csv(\"performans.csv\", sep=\";\")\n",
    "df_all = df_all.dropna()"
   ]
  },
  {
   "cell_type": "code",
   "execution_count": 3,
   "id": "7194243e-41de-4634-b73f-887ad153a43a",
   "metadata": {},
   "outputs": [],
   "source": [
    "def proje_rank(row):\n",
    "    if ((row[\"proje_sayisi\"] > 1) & (row[\"proje_sayisi\"] <= 3)):\n",
    "        return 3\n",
    "    elif ((row[\"proje_sayisi\"] > 3) & (row[\"proje_sayisi\"] < 5)):\n",
    "        return 4\n",
    "    elif ((row[\"proje_sayisi\"] >= 5) & (row[\"proje_sayisi\"] <= 6)):\n",
    "        return 5\n",
    "    else :\n",
    "        pass\n",
    "\n",
    "df_all['proje_sayisi'] = df_all.apply (lambda row: proje_rank(row), axis=1)"
   ]
  },
  {
   "cell_type": "markdown",
   "id": "601ad3d6-8702-4cb2-9812-31147aa506dc",
   "metadata": {},
   "source": [
    "## Amaç\n",
    "#### Aylık Çalışma Süresi kontrol altına alındığında Proje Sayısına göre çalışanların Memnuniyeti ve Performansı değişiyor mu?"
   ]
  },
  {
   "cell_type": "code",
   "execution_count": 4,
   "id": "65d80651-22c0-4a55-bc15-e1295040f77a",
   "metadata": {},
   "outputs": [],
   "source": [
    "df_mc = df_all.drop(\"tecrube\", axis=1)"
   ]
  },
  {
   "cell_type": "code",
   "execution_count": 5,
   "id": "e7dd2e82-01f7-4c40-936e-6319eeb33f24",
   "metadata": {},
   "outputs": [
    {
     "data": {
      "text/html": [
       "<div>\n",
       "<style scoped>\n",
       "    .dataframe tbody tr th:only-of-type {\n",
       "        vertical-align: middle;\n",
       "    }\n",
       "\n",
       "    .dataframe tbody tr th {\n",
       "        vertical-align: top;\n",
       "    }\n",
       "\n",
       "    .dataframe thead th {\n",
       "        text-align: right;\n",
       "    }\n",
       "</style>\n",
       "<table border=\"1\" class=\"dataframe\">\n",
       "  <thead>\n",
       "    <tr style=\"text-align: right;\">\n",
       "      <th></th>\n",
       "      <th>count</th>\n",
       "      <th>mean</th>\n",
       "      <th>std</th>\n",
       "      <th>min</th>\n",
       "      <th>25%</th>\n",
       "      <th>50%</th>\n",
       "      <th>75%</th>\n",
       "      <th>max</th>\n",
       "    </tr>\n",
       "  </thead>\n",
       "  <tbody>\n",
       "    <tr>\n",
       "      <th>memnuniyet_seviyesi</th>\n",
       "      <td>10812.0</td>\n",
       "      <td>63.543748</td>\n",
       "      <td>22.719062</td>\n",
       "      <td>11.0</td>\n",
       "      <td>46.0</td>\n",
       "      <td>66.0</td>\n",
       "      <td>82.00</td>\n",
       "      <td>99.0</td>\n",
       "    </tr>\n",
       "    <tr>\n",
       "      <th>performans_olcumu</th>\n",
       "      <td>10812.0</td>\n",
       "      <td>70.617185</td>\n",
       "      <td>16.847800</td>\n",
       "      <td>36.0</td>\n",
       "      <td>55.0</td>\n",
       "      <td>69.0</td>\n",
       "      <td>86.00</td>\n",
       "      <td>99.0</td>\n",
       "    </tr>\n",
       "    <tr>\n",
       "      <th>proje_sayisi</th>\n",
       "      <td>10812.0</td>\n",
       "      <td>3.788938</td>\n",
       "      <td>0.808815</td>\n",
       "      <td>3.0</td>\n",
       "      <td>3.0</td>\n",
       "      <td>4.0</td>\n",
       "      <td>4.00</td>\n",
       "      <td>5.0</td>\n",
       "    </tr>\n",
       "    <tr>\n",
       "      <th>aylik_calisma_suresi</th>\n",
       "      <td>10812.0</td>\n",
       "      <td>197.419071</td>\n",
       "      <td>47.275780</td>\n",
       "      <td>101.0</td>\n",
       "      <td>155.0</td>\n",
       "      <td>195.0</td>\n",
       "      <td>239.25</td>\n",
       "      <td>298.0</td>\n",
       "    </tr>\n",
       "  </tbody>\n",
       "</table>\n",
       "</div>"
      ],
      "text/plain": [
       "                        count        mean        std    min    25%    50%  \\\n",
       "memnuniyet_seviyesi   10812.0   63.543748  22.719062   11.0   46.0   66.0   \n",
       "performans_olcumu     10812.0   70.617185  16.847800   36.0   55.0   69.0   \n",
       "proje_sayisi          10812.0    3.788938   0.808815    3.0    3.0    4.0   \n",
       "aylik_calisma_suresi  10812.0  197.419071  47.275780  101.0  155.0  195.0   \n",
       "\n",
       "                         75%    max  \n",
       "memnuniyet_seviyesi    82.00   99.0  \n",
       "performans_olcumu      86.00   99.0  \n",
       "proje_sayisi            4.00    5.0  \n",
       "aylik_calisma_suresi  239.25  298.0  "
      ]
     },
     "execution_count": 5,
     "metadata": {},
     "output_type": "execute_result"
    }
   ],
   "source": [
    "df_mc.describe().T"
   ]
  },
  {
   "cell_type": "code",
   "execution_count": 91,
   "id": "c4ca9903-2f0e-4563-b3e6-c1a55cb51a59",
   "metadata": {},
   "outputs": [
    {
     "data": {
      "image/png": "[encoded data removed]",
      "text/plain": [
       "<Figure size 1080x576 with 4 Axes>"
      ]
     },
     "metadata": {
      "needs_background": "light"
     },
     "output_type": "display_data"
    }
   ],
   "source": [
    "df_mc.plot(kind='density', subplots=True, layout=(2,2), sharex=False, figsize=(15, 8))\n",
    "plt.show()"
   ]
  },
  {
   "cell_type": "code",
   "execution_count": 17,
   "id": "29bd990c-bb4c-4397-907a-5a90c3d80ee7",
   "metadata": {},
   "outputs": [
    {
     "data": {
      "text/html": [
       "<div>\n",
       "<style scoped>\n",
       "    .dataframe tbody tr th:only-of-type {\n",
       "        vertical-align: middle;\n",
       "    }\n",
       "\n",
       "    .dataframe tbody tr th {\n",
       "        vertical-align: top;\n",
       "    }\n",
       "\n",
       "    .dataframe thead th {\n",
       "        text-align: right;\n",
       "    }\n",
       "</style>\n",
       "<table border=\"1\" class=\"dataframe\">\n",
       "  <thead>\n",
       "    <tr style=\"text-align: right;\">\n",
       "      <th></th>\n",
       "      <th>Count</th>\n",
       "    </tr>\n",
       "    <tr>\n",
       "      <th>proje_sayisi</th>\n",
       "      <th></th>\n",
       "    </tr>\n",
       "  </thead>\n",
       "  <tbody>\n",
       "    <tr>\n",
       "      <th>3</th>\n",
       "      <td>4918</td>\n",
       "    </tr>\n",
       "    <tr>\n",
       "      <th>4</th>\n",
       "      <td>3258</td>\n",
       "    </tr>\n",
       "    <tr>\n",
       "      <th>5</th>\n",
       "      <td>2636</td>\n",
       "    </tr>\n",
       "  </tbody>\n",
       "</table>\n",
       "</div>"
      ],
      "text/plain": [
       "              Count\n",
       "proje_sayisi       \n",
       "3              4918\n",
       "4              3258\n",
       "5              2636"
      ]
     },
     "execution_count": 17,
     "metadata": {},
     "output_type": "execute_result"
    },
    {
     "data": {
      "image/png": "[encoded data removed]",
      "text/plain": [
       "<Figure size 432x288 with 1 Axes>"
      ]
     },
     "metadata": {},
     "output_type": "display_data"
    }
   ],
   "source": [
    "dis = pd.DataFrame(df_mc[['proje_sayisi']].value_counts())\n",
    "dis = dis.reset_index().set_index('proje_sayisi')\n",
    "dis.columns = ['Count']\n",
    "_ = dis.plot.pie(y='Count')\n",
    "dis"
   ]
  },
  {
   "cell_type": "code",
   "execution_count": 18,
   "id": "eae7764f-e2ca-474b-91ac-440b57fa3bbf",
   "metadata": {},
   "outputs": [
    {
     "data": {
      "text/html": [
       "<div>\n",
       "<style scoped>\n",
       "    .dataframe tbody tr th:only-of-type {\n",
       "        vertical-align: middle;\n",
       "    }\n",
       "\n",
       "    .dataframe tbody tr th {\n",
       "        vertical-align: top;\n",
       "    }\n",
       "\n",
       "    .dataframe thead th {\n",
       "        text-align: right;\n",
       "    }\n",
       "</style>\n",
       "<table border=\"1\" class=\"dataframe\">\n",
       "  <thead>\n",
       "    <tr style=\"text-align: right;\">\n",
       "      <th></th>\n",
       "      <th>memnuniyet_seviyesi</th>\n",
       "      <th>performans_olcumu</th>\n",
       "      <th>proje_sayisi</th>\n",
       "      <th>aylik_calisma_suresi</th>\n",
       "    </tr>\n",
       "  </thead>\n",
       "  <tbody>\n",
       "    <tr>\n",
       "      <th>memnuniyet_seviyesi</th>\n",
       "      <td>1.000000</td>\n",
       "      <td>0.219168</td>\n",
       "      <td>0.033418</td>\n",
       "      <td>0.153345</td>\n",
       "    </tr>\n",
       "    <tr>\n",
       "      <th>performans_olcumu</th>\n",
       "      <td>0.219168</td>\n",
       "      <td>1.000000</td>\n",
       "      <td>0.239796</td>\n",
       "      <td>0.307002</td>\n",
       "    </tr>\n",
       "    <tr>\n",
       "      <th>proje_sayisi</th>\n",
       "      <td>0.033418</td>\n",
       "      <td>0.239796</td>\n",
       "      <td>1.000000</td>\n",
       "      <td>0.266939</td>\n",
       "    </tr>\n",
       "    <tr>\n",
       "      <th>aylik_calisma_suresi</th>\n",
       "      <td>0.153345</td>\n",
       "      <td>0.307002</td>\n",
       "      <td>0.266939</td>\n",
       "      <td>1.000000</td>\n",
       "    </tr>\n",
       "  </tbody>\n",
       "</table>\n",
       "</div>"
      ],
      "text/plain": [
       "                      memnuniyet_seviyesi  performans_olcumu  proje_sayisi  \\\n",
       "memnuniyet_seviyesi              1.000000           0.219168      0.033418   \n",
       "performans_olcumu                0.219168           1.000000      0.239796   \n",
       "proje_sayisi                     0.033418           0.239796      1.000000   \n",
       "aylik_calisma_suresi             0.153345           0.307002      0.266939   \n",
       "\n",
       "                      aylik_calisma_suresi  \n",
       "memnuniyet_seviyesi               0.153345  \n",
       "performans_olcumu                 0.307002  \n",
       "proje_sayisi                      0.266939  \n",
       "aylik_calisma_suresi              1.000000  "
      ]
     },
     "execution_count": 18,
     "metadata": {},
     "output_type": "execute_result"
    }
   ],
   "source": [
    "df_mc.corr()"
   ]
  },
  {
   "cell_type": "markdown",
   "id": "597eb941-be73-420c-a09d-a4636508e020",
   "metadata": {},
   "source": [
    "# Varsayım 1: Verilerin Normal Dağılıma Uyması\n",
    "##### Ho: Verilerin dağılımı ile Normal Dağılım arasında fark yoktur.(Veriler normal dağılıma uygundur.)\n",
    "##### Ha: Verilerin dağılımı ile Normal Dağılım arasında fark vardır.(Veriler normal dağılıma uygun değildir.)"
   ]
  },
  {
   "cell_type": "code",
   "execution_count": 19,
   "id": "b0e68cc9-3b32-4624-8e08-512d85fef001",
   "metadata": {},
   "outputs": [],
   "source": [
    "df = df_mc.sample(n=2500)"
   ]
  },
  {
   "cell_type": "code",
   "execution_count": 20,
   "id": "77150c22-fa55-4d4c-8b57-7a368134b6f9",
   "metadata": {},
   "outputs": [
    {
     "data": {
      "text/plain": [
       "HZResults(hz=903.0804229988411, pval=0.0, normal=False)"
      ]
     },
     "execution_count": 20,
     "metadata": {},
     "output_type": "execute_result"
    }
   ],
   "source": [
    "multivariate_normality(df, alpha=.05)"
   ]
  },
  {
   "cell_type": "markdown",
   "id": "d06b0328-f5b0-4c08-84c6-a1a7dc1ea0c1",
   "metadata": {},
   "source": [
    "H0 red, normal dağılıma uygun değildir. "
   ]
  },
  {
   "cell_type": "markdown",
   "id": "ec6511e7-8f32-48d0-b959-8aa3f0e77fcd",
   "metadata": {},
   "source": [
    "# Varsayım 2: Kovaryans Eşitliği\n",
    "##### Ho: Kovaryans matrisleri arasında fark yoktur. (eşittir)\n",
    "##### Ha: Kovaryans matrisleri arasında fark vardır. (eşit değildir)"
   ]
  },
  {
   "cell_type": "code",
   "execution_count": 22,
   "id": "f8de2868-fea2-4d30-8721-50c3739996f1",
   "metadata": {},
   "outputs": [
    {
     "data": {
      "text/html": [
       "<div>\n",
       "<style scoped>\n",
       "    .dataframe tbody tr th:only-of-type {\n",
       "        vertical-align: middle;\n",
       "    }\n",
       "\n",
       "    .dataframe tbody tr th {\n",
       "        vertical-align: top;\n",
       "    }\n",
       "\n",
       "    .dataframe thead th {\n",
       "        text-align: right;\n",
       "    }\n",
       "</style>\n",
       "<table border=\"1\" class=\"dataframe\">\n",
       "  <thead>\n",
       "    <tr style=\"text-align: right;\">\n",
       "      <th></th>\n",
       "      <th>Chi2</th>\n",
       "      <th>df</th>\n",
       "      <th>pval</th>\n",
       "      <th>equal_cov</th>\n",
       "    </tr>\n",
       "  </thead>\n",
       "  <tbody>\n",
       "    <tr>\n",
       "      <th>box</th>\n",
       "      <td>NaN</td>\n",
       "      <td>12.0</td>\n",
       "      <td>NaN</td>\n",
       "      <td>False</td>\n",
       "    </tr>\n",
       "  </tbody>\n",
       "</table>\n",
       "</div>"
      ],
      "text/plain": [
       "     Chi2    df  pval  equal_cov\n",
       "box   NaN  12.0   NaN      False"
      ]
     },
     "execution_count": 22,
     "metadata": {},
     "output_type": "execute_result"
    }
   ],
   "source": [
    "pg.box_m(df_mc, dvs=[\"memnuniyet_seviyesi\", \"performans_olcumu\", \"aylik_calisma_suresi\"], group=(\"proje_sayisi\"), alpha=.05)"
   ]
  },
  {
   "cell_type": "markdown",
   "id": "43ea0cd7-c6de-444e-a9a4-2e8c755ca8d8",
   "metadata": {},
   "source": [
    "H0 red, kovaryans matrisleri arasında fark vardır."
   ]
  },
  {
   "cell_type": "markdown",
   "id": "9b43c254-3ec3-42f4-a21d-8140dd2035a3",
   "metadata": {},
   "source": [
    "# Varsayım 3: Gruplararası Korelasyon Eşitliği"
   ]
  },
  {
   "cell_type": "code",
   "execution_count": 6,
   "id": "6415642d-9555-4c8a-82d4-d2328ead057f",
   "metadata": {},
   "outputs": [],
   "source": [
    "df2 = df_mc[(df_mc.proje_sayisi == 3)]\n",
    "df3 = df_mc[(df_mc.proje_sayisi == 4)]\n",
    "df4= df_mc[(df_mc.proje_sayisi == 5)]"
   ]
  },
  {
   "cell_type": "code",
   "execution_count": 76,
   "id": "7ff71894-06f8-45bd-84fb-f1799570e4ba",
   "metadata": {},
   "outputs": [
    {
     "data": {
      "text/plain": [
       "<AxesSubplot:>"
      ]
     },
     "execution_count": 76,
     "metadata": {},
     "output_type": "execute_result"
    },
    {
     "data": {
      "image/png": "[encoded data removed]",
      "text/plain": [
       "<Figure size 432x288 with 2 Axes>"
      ]
     },
     "metadata": {
      "needs_background": "light"
     },
     "output_type": "display_data"
    }
   ],
   "source": [
    "sns.heatmap(df2.drop([\"proje_sayisi\"], axis=1).corr(), annot=True)"
   ]
  },
  {
   "cell_type": "code",
   "execution_count": 77,
   "id": "0455ae6a-2d7b-4d5c-a9d4-5582b5d7eaf0",
   "metadata": {},
   "outputs": [
    {
     "data": {
      "text/plain": [
       "<AxesSubplot:>"
      ]
     },
     "execution_count": 77,
     "metadata": {},
     "output_type": "execute_result"
    },
    {
     "data": {
      "image/png": "[encoded data removed]",
      "text/plain": [
       "<Figure size 432x288 with 2 Axes>"
      ]
     },
     "metadata": {
      "needs_background": "light"
     },
     "output_type": "display_data"
    }
   ],
   "source": [
    "sns.heatmap(df3.drop([\"proje_sayisi\"], axis=1).corr(), annot=True)"
   ]
  },
  {
   "cell_type": "code",
   "execution_count": 78,
   "id": "0d29d453-a79e-46a9-9739-3c3fa6d1c712",
   "metadata": {},
   "outputs": [
    {
     "data": {
      "text/plain": [
       "<AxesSubplot:>"
      ]
     },
     "execution_count": 78,
     "metadata": {},
     "output_type": "execute_result"
    },
    {
     "data": {
      "image/png": "[encoded data removed]",
      "text/plain": [
       "<Figure size 432x288 with 2 Axes>"
      ]
     },
     "metadata": {
      "needs_background": "light"
     },
     "output_type": "display_data"
    }
   ],
   "source": [
    "sns.heatmap(df4.drop([\"proje_sayisi\"], axis=1).corr(), annot=True)"
   ]
  },
  {
   "cell_type": "markdown",
   "id": "66c2e334-0950-475d-94fc-4a2d9494159a",
   "metadata": {},
   "source": [
    "## Varsayım 4: Doğrusal İlişki\n",
    "Bağımlı değişkenler ile covariate değişken arasında doğrusal ilişki olmalıdır."
   ]
  },
  {
   "cell_type": "code",
   "execution_count": 27,
   "id": "6b8e3281-fbaa-48e1-8930-93754ed73369",
   "metadata": {},
   "outputs": [],
   "source": [
    "import statsmodels.api as sm\n",
    "import statsmodels.formula.api as smf\n",
    "import statsmodels.stats.api as sms\n",
    "import seaborn as sns"
   ]
  },
  {
   "cell_type": "markdown",
   "id": "2286e970-c97d-4630-a967-7dcaa2c01a08",
   "metadata": {},
   "source": [
    "#### Memnuniyet ile Aylık Çalışma arasındaki ilişki"
   ]
  },
  {
   "cell_type": "code",
   "execution_count": 57,
   "id": "82ba7640-1925-4cb9-918e-94dac79c2b7d",
   "metadata": {},
   "outputs": [
    {
     "data": {
      "text/html": [
       "<table class=\"simpletable\">\n",
       "<caption>OLS Regression Results</caption>\n",
       "<tr>\n",
       "  <th>Dep. Variable:</th>    <td>memnuniyet_seviyesi</td> <th>  R-squared:         </th> <td>   0.024</td> \n",
       "</tr>\n",
       "<tr>\n",
       "  <th>Model:</th>                    <td>OLS</td>         <th>  Adj. R-squared:    </th> <td>   0.023</td> \n",
       "</tr>\n",
       "<tr>\n",
       "  <th>Method:</th>              <td>Least Squares</td>    <th>  F-statistic:       </th> <td>   260.3</td> \n",
       "</tr>\n",
       "<tr>\n",
       "  <th>Date:</th>              <td>Sun, 05 Dec 2021</td>   <th>  Prob (F-statistic):</th> <td>6.93e-58</td> \n",
       "</tr>\n",
       "<tr>\n",
       "  <th>Time:</th>                  <td>11:56:03</td>       <th>  Log-Likelihood:    </th> <td> -48981.</td> \n",
       "</tr>\n",
       "<tr>\n",
       "  <th>No. Observations:</th>       <td> 10812</td>        <th>  AIC:               </th> <td>9.797e+04</td>\n",
       "</tr>\n",
       "<tr>\n",
       "  <th>Df Residuals:</th>           <td> 10810</td>        <th>  BIC:               </th> <td>9.798e+04</td>\n",
       "</tr>\n",
       "<tr>\n",
       "  <th>Df Model:</th>               <td>     1</td>        <th>                     </th>     <td> </td>    \n",
       "</tr>\n",
       "<tr>\n",
       "  <th>Covariance Type:</th>       <td>nonrobust</td>      <th>                     </th>     <td> </td>    \n",
       "</tr>\n",
       "</table>\n",
       "<table class=\"simpletable\">\n",
       "<tr>\n",
       "            <td></td>              <th>coef</th>     <th>std err</th>      <th>t</th>      <th>P>|t|</th>  <th>[0.025</th>    <th>0.975]</th>  \n",
       "</tr>\n",
       "<tr>\n",
       "  <th>const</th>                <td>   48.9955</td> <td>    0.927</td> <td>   52.843</td> <td> 0.000</td> <td>   47.178</td> <td>   50.813</td>\n",
       "</tr>\n",
       "<tr>\n",
       "  <th>aylik_calisma_suresi</th> <td>    0.0737</td> <td>    0.005</td> <td>   16.134</td> <td> 0.000</td> <td>    0.065</td> <td>    0.083</td>\n",
       "</tr>\n",
       "</table>\n",
       "<table class=\"simpletable\">\n",
       "<tr>\n",
       "  <th>Omnibus:</th>       <td>450.806</td> <th>  Durbin-Watson:     </th> <td>   1.538</td> \n",
       "</tr>\n",
       "<tr>\n",
       "  <th>Prob(Omnibus):</th> <td> 0.000</td>  <th>  Jarque-Bera (JB):  </th> <td> 492.902</td> \n",
       "</tr>\n",
       "<tr>\n",
       "  <th>Skew:</th>          <td>-0.509</td>  <th>  Prob(JB):          </th> <td>9.28e-108</td>\n",
       "</tr>\n",
       "<tr>\n",
       "  <th>Kurtosis:</th>      <td> 2.758</td>  <th>  Cond. No.          </th> <td>    872.</td> \n",
       "</tr>\n",
       "</table><br/><br/>Notes:<br/>[1] Standard Errors assume that the covariance matrix of the errors is correctly specified."
      ],
      "text/plain": [
       "<class 'statsmodels.iolib.summary.Summary'>\n",
       "\"\"\"\n",
       "                             OLS Regression Results                            \n",
       "===============================================================================\n",
       "Dep. Variable:     memnuniyet_seviyesi   R-squared:                       0.024\n",
       "Model:                             OLS   Adj. R-squared:                  0.023\n",
       "Method:                  Least Squares   F-statistic:                     260.3\n",
       "Date:                 Sun, 05 Dec 2021   Prob (F-statistic):           6.93e-58\n",
       "Time:                         11:56:03   Log-Likelihood:                -48981.\n",
       "No. Observations:                10812   AIC:                         9.797e+04\n",
       "Df Residuals:                    10810   BIC:                         9.798e+04\n",
       "Df Model:                            1                                         \n",
       "Covariance Type:             nonrobust                                         \n",
       "========================================================================================\n",
       "                           coef    std err          t      P>|t|      [0.025      0.975]\n",
       "----------------------------------------------------------------------------------------\n",
       "const                   48.9955      0.927     52.843      0.000      47.178      50.813\n",
       "aylik_calisma_suresi     0.0737      0.005     16.134      0.000       0.065       0.083\n",
       "==============================================================================\n",
       "Omnibus:                      450.806   Durbin-Watson:                   1.538\n",
       "Prob(Omnibus):                  0.000   Jarque-Bera (JB):              492.902\n",
       "Skew:                          -0.509   Prob(JB):                    9.28e-108\n",
       "Kurtosis:                       2.758   Cond. No.                         872.\n",
       "==============================================================================\n",
       "\n",
       "Notes:\n",
       "[1] Standard Errors assume that the covariance matrix of the errors is correctly specified.\n",
       "\"\"\""
      ]
     },
     "execution_count": 57,
     "metadata": {},
     "output_type": "execute_result"
    }
   ],
   "source": [
    "X = df_mc.drop([\"memnuniyet_seviyesi\", \"proje_sayisi\", \"performans_olcumu\"], axis=1)\n",
    "y = df_mc[\"memnuniyet_seviyesi\"]\n",
    "X = sm.add_constant(X)\n",
    "lm = sm.OLS(y,X)\n",
    "model = lm.fit()\n",
    "model.summary()"
   ]
  },
  {
   "cell_type": "markdown",
   "id": "2cdfb45f-51c2-4b28-980f-6eb88c3bb384",
   "metadata": {},
   "source": [
    "#### Performans ile Aylık Çalışma arasındaki ilişki"
   ]
  },
  {
   "cell_type": "code",
   "execution_count": 59,
   "id": "7049c18d-444a-4f95-95f5-fc608c74b7f7",
   "metadata": {},
   "outputs": [
    {
     "data": {
      "text/html": [
       "<table class=\"simpletable\">\n",
       "<caption>OLS Regression Results</caption>\n",
       "<tr>\n",
       "  <th>Dep. Variable:</th>    <td>performans_olcumu</td> <th>  R-squared:         </th> <td>   0.094</td> \n",
       "</tr>\n",
       "<tr>\n",
       "  <th>Model:</th>                   <td>OLS</td>        <th>  Adj. R-squared:    </th> <td>   0.094</td> \n",
       "</tr>\n",
       "<tr>\n",
       "  <th>Method:</th>             <td>Least Squares</td>   <th>  F-statistic:       </th> <td>   1125.</td> \n",
       "</tr>\n",
       "<tr>\n",
       "  <th>Date:</th>             <td>Sun, 05 Dec 2021</td>  <th>  Prob (F-statistic):</th> <td>1.06e-234</td>\n",
       "</tr>\n",
       "<tr>\n",
       "  <th>Time:</th>                 <td>11:56:59</td>      <th>  Log-Likelihood:    </th> <td> -45341.</td> \n",
       "</tr>\n",
       "<tr>\n",
       "  <th>No. Observations:</th>      <td> 10812</td>       <th>  AIC:               </th> <td>9.069e+04</td>\n",
       "</tr>\n",
       "<tr>\n",
       "  <th>Df Residuals:</th>          <td> 10810</td>       <th>  BIC:               </th> <td>9.070e+04</td>\n",
       "</tr>\n",
       "<tr>\n",
       "  <th>Df Model:</th>              <td>     1</td>       <th>                     </th>     <td> </td>    \n",
       "</tr>\n",
       "<tr>\n",
       "  <th>Covariance Type:</th>      <td>nonrobust</td>     <th>                     </th>     <td> </td>    \n",
       "</tr>\n",
       "</table>\n",
       "<table class=\"simpletable\">\n",
       "<tr>\n",
       "            <td></td>              <th>coef</th>     <th>std err</th>      <th>t</th>      <th>P>|t|</th>  <th>[0.025</th>    <th>0.975]</th>  \n",
       "</tr>\n",
       "<tr>\n",
       "  <th>const</th>                <td>   49.0181</td> <td>    0.662</td> <td>   74.023</td> <td> 0.000</td> <td>   47.720</td> <td>   50.316</td>\n",
       "</tr>\n",
       "<tr>\n",
       "  <th>aylik_calisma_suresi</th> <td>    0.1094</td> <td>    0.003</td> <td>   33.539</td> <td> 0.000</td> <td>    0.103</td> <td>    0.116</td>\n",
       "</tr>\n",
       "</table>\n",
       "<table class=\"simpletable\">\n",
       "<tr>\n",
       "  <th>Omnibus:</th>       <td>1622.198</td> <th>  Durbin-Watson:     </th> <td>   1.547</td>\n",
       "</tr>\n",
       "<tr>\n",
       "  <th>Prob(Omnibus):</th>  <td> 0.000</td>  <th>  Jarque-Bera (JB):  </th> <td> 391.155</td>\n",
       "</tr>\n",
       "<tr>\n",
       "  <th>Skew:</th>           <td> 0.083</td>  <th>  Prob(JB):          </th> <td>1.15e-85</td>\n",
       "</tr>\n",
       "<tr>\n",
       "  <th>Kurtosis:</th>       <td> 2.083</td>  <th>  Cond. No.          </th> <td>    872.</td>\n",
       "</tr>\n",
       "</table><br/><br/>Notes:<br/>[1] Standard Errors assume that the covariance matrix of the errors is correctly specified."
      ],
      "text/plain": [
       "<class 'statsmodels.iolib.summary.Summary'>\n",
       "\"\"\"\n",
       "                            OLS Regression Results                            \n",
       "==============================================================================\n",
       "Dep. Variable:      performans_olcumu   R-squared:                       0.094\n",
       "Model:                            OLS   Adj. R-squared:                  0.094\n",
       "Method:                 Least Squares   F-statistic:                     1125.\n",
       "Date:                Sun, 05 Dec 2021   Prob (F-statistic):          1.06e-234\n",
       "Time:                        11:56:59   Log-Likelihood:                -45341.\n",
       "No. Observations:               10812   AIC:                         9.069e+04\n",
       "Df Residuals:                   10810   BIC:                         9.070e+04\n",
       "Df Model:                           1                                         \n",
       "Covariance Type:            nonrobust                                         \n",
       "========================================================================================\n",
       "                           coef    std err          t      P>|t|      [0.025      0.975]\n",
       "----------------------------------------------------------------------------------------\n",
       "const                   49.0181      0.662     74.023      0.000      47.720      50.316\n",
       "aylik_calisma_suresi     0.1094      0.003     33.539      0.000       0.103       0.116\n",
       "==============================================================================\n",
       "Omnibus:                     1622.198   Durbin-Watson:                   1.547\n",
       "Prob(Omnibus):                  0.000   Jarque-Bera (JB):              391.155\n",
       "Skew:                           0.083   Prob(JB):                     1.15e-85\n",
       "Kurtosis:                       2.083   Cond. No.                         872.\n",
       "==============================================================================\n",
       "\n",
       "Notes:\n",
       "[1] Standard Errors assume that the covariance matrix of the errors is correctly specified.\n",
       "\"\"\""
      ]
     },
     "execution_count": 59,
     "metadata": {},
     "output_type": "execute_result"
    }
   ],
   "source": [
    "X = df_mc.drop([\"memnuniyet_seviyesi\", \"proje_sayisi\", \"performans_olcumu\"], axis=1)\n",
    "y = df_mc[\"performans_olcumu\"]\n",
    "X = sm.add_constant(X)\n",
    "lm = sm.OLS(y,X)\n",
    "model = lm.fit()\n",
    "model.summary()"
   ]
  },
  {
   "cell_type": "markdown",
   "id": "bb576d48-00f4-469b-a0a8-3756d10efc05",
   "metadata": {},
   "source": [
    "Hem memnuniyet hem de performans ile aylık çalışma süresi arasında doğrusal bir ilişki vardır."
   ]
  },
  {
   "cell_type": "markdown",
   "id": "dc16d147-59f9-4b87-992c-023cfb91a325",
   "metadata": {},
   "source": [
    "## Varsayım 5: Regresyonların Homojenliği\n",
    "Covariate ile bağımlı değişkenler arasındaki ilişkinin gücü ve yönü her grupta benzer olmalıdır.\n",
    "Her bir grupta covariate ile bağımlı değişkenler arasındaki ilişkide bağımsız değişken anlamsız olmalıdır. "
   ]
  },
  {
   "cell_type": "markdown",
   "id": "56c39dff-d437-43e3-a5c7-5758bfc575f1",
   "metadata": {},
   "source": [
    "## Her bir Proje Sayısı Grubunun Performansı için Homojenlik"
   ]
  },
  {
   "cell_type": "code",
   "execution_count": 79,
   "id": "3e1e7c02-7931-48f8-80e8-8ced7e7222ef",
   "metadata": {},
   "outputs": [
    {
     "data": {
      "text/html": [
       "<table class=\"simpletable\">\n",
       "<caption>OLS Regression Results</caption>\n",
       "<tr>\n",
       "  <th>Dep. Variable:</th>    <td>performans_olcumu</td> <th>  R-squared:         </th> <td>   0.118</td> \n",
       "</tr>\n",
       "<tr>\n",
       "  <th>Model:</th>                   <td>OLS</td>        <th>  Adj. R-squared:    </th> <td>   0.117</td> \n",
       "</tr>\n",
       "<tr>\n",
       "  <th>Method:</th>             <td>Least Squares</td>   <th>  F-statistic:       </th> <td>   654.8</td> \n",
       "</tr>\n",
       "<tr>\n",
       "  <th>Date:</th>             <td>Sun, 05 Dec 2021</td>  <th>  Prob (F-statistic):</th> <td>1.09e-135</td>\n",
       "</tr>\n",
       "<tr>\n",
       "  <th>Time:</th>                 <td>12:10:45</td>      <th>  Log-Likelihood:    </th> <td> -20457.</td> \n",
       "</tr>\n",
       "<tr>\n",
       "  <th>No. Observations:</th>      <td>  4918</td>       <th>  AIC:               </th> <td>4.092e+04</td>\n",
       "</tr>\n",
       "<tr>\n",
       "  <th>Df Residuals:</th>          <td>  4916</td>       <th>  BIC:               </th> <td>4.093e+04</td>\n",
       "</tr>\n",
       "<tr>\n",
       "  <th>Df Model:</th>              <td>     1</td>       <th>                     </th>     <td> </td>    \n",
       "</tr>\n",
       "<tr>\n",
       "  <th>Covariance Type:</th>      <td>nonrobust</td>     <th>                     </th>     <td> </td>    \n",
       "</tr>\n",
       "</table>\n",
       "<table class=\"simpletable\">\n",
       "<tr>\n",
       "            <td></td>              <th>coef</th>     <th>std err</th>      <th>t</th>      <th>P>|t|</th>  <th>[0.025</th>    <th>0.975]</th>  \n",
       "</tr>\n",
       "<tr>\n",
       "  <th>proje_sayisi</th>         <td>   14.3766</td> <td>    0.307</td> <td>   46.878</td> <td> 0.000</td> <td>   13.775</td> <td>   14.978</td>\n",
       "</tr>\n",
       "<tr>\n",
       "  <th>aylik_calisma_suresi</th> <td>    0.1245</td> <td>    0.005</td> <td>   25.589</td> <td> 0.000</td> <td>    0.115</td> <td>    0.134</td>\n",
       "</tr>\n",
       "</table>\n",
       "<table class=\"simpletable\">\n",
       "<tr>\n",
       "  <th>Omnibus:</th>       <td>277.730</td> <th>  Durbin-Watson:     </th> <td>   1.524</td>\n",
       "</tr>\n",
       "<tr>\n",
       "  <th>Prob(Omnibus):</th> <td> 0.000</td>  <th>  Jarque-Bera (JB):  </th> <td> 226.027</td>\n",
       "</tr>\n",
       "<tr>\n",
       "  <th>Skew:</th>          <td> 0.444</td>  <th>  Prob(JB):          </th> <td>8.29e-50</td>\n",
       "</tr>\n",
       "<tr>\n",
       "  <th>Kurtosis:</th>      <td> 2.439</td>  <th>  Cond. No.          </th> <td>    262.</td>\n",
       "</tr>\n",
       "</table><br/><br/>Notes:<br/>[1] Standard Errors assume that the covariance matrix of the errors is correctly specified."
      ],
      "text/plain": [
       "<class 'statsmodels.iolib.summary.Summary'>\n",
       "\"\"\"\n",
       "                            OLS Regression Results                            \n",
       "==============================================================================\n",
       "Dep. Variable:      performans_olcumu   R-squared:                       0.118\n",
       "Model:                            OLS   Adj. R-squared:                  0.117\n",
       "Method:                 Least Squares   F-statistic:                     654.8\n",
       "Date:                Sun, 05 Dec 2021   Prob (F-statistic):          1.09e-135\n",
       "Time:                        12:10:45   Log-Likelihood:                -20457.\n",
       "No. Observations:                4918   AIC:                         4.092e+04\n",
       "Df Residuals:                    4916   BIC:                         4.093e+04\n",
       "Df Model:                           1                                         \n",
       "Covariance Type:            nonrobust                                         \n",
       "========================================================================================\n",
       "                           coef    std err          t      P>|t|      [0.025      0.975]\n",
       "----------------------------------------------------------------------------------------\n",
       "proje_sayisi            14.3766      0.307     46.878      0.000      13.775      14.978\n",
       "aylik_calisma_suresi     0.1245      0.005     25.589      0.000       0.115       0.134\n",
       "==============================================================================\n",
       "Omnibus:                      277.730   Durbin-Watson:                   1.524\n",
       "Prob(Omnibus):                  0.000   Jarque-Bera (JB):              226.027\n",
       "Skew:                           0.444   Prob(JB):                     8.29e-50\n",
       "Kurtosis:                       2.439   Cond. No.                         262.\n",
       "==============================================================================\n",
       "\n",
       "Notes:\n",
       "[1] Standard Errors assume that the covariance matrix of the errors is correctly specified.\n",
       "\"\"\""
      ]
     },
     "execution_count": 79,
     "metadata": {},
     "output_type": "execute_result"
    }
   ],
   "source": [
    "X = df2.drop([\"memnuniyet_seviyesi\", \"performans_olcumu\"], axis=1)\n",
    "y = df2[\"performans_olcumu\"]\n",
    "X = sm.add_constant(X)\n",
    "lm = sm.OLS(y,X)\n",
    "model1 = lm.fit()\n",
    "model1.summary()"
   ]
  },
  {
   "cell_type": "code",
   "execution_count": 80,
   "id": "dc987460-a0a9-42a8-99af-4d7f0971a7e0",
   "metadata": {},
   "outputs": [
    {
     "data": {
      "text/html": [
       "<table class=\"simpletable\">\n",
       "<caption>OLS Regression Results</caption>\n",
       "<tr>\n",
       "  <th>Dep. Variable:</th>    <td>performans_olcumu</td> <th>  R-squared:         </th> <td>   0.013</td> \n",
       "</tr>\n",
       "<tr>\n",
       "  <th>Model:</th>                   <td>OLS</td>        <th>  Adj. R-squared:    </th> <td>   0.013</td> \n",
       "</tr>\n",
       "<tr>\n",
       "  <th>Method:</th>             <td>Least Squares</td>   <th>  F-statistic:       </th> <td>   44.40</td> \n",
       "</tr>\n",
       "<tr>\n",
       "  <th>Date:</th>             <td>Sun, 05 Dec 2021</td>  <th>  Prob (F-statistic):</th> <td>3.13e-11</td> \n",
       "</tr>\n",
       "<tr>\n",
       "  <th>Time:</th>                 <td>12:10:51</td>      <th>  Log-Likelihood:    </th> <td> -13593.</td> \n",
       "</tr>\n",
       "<tr>\n",
       "  <th>No. Observations:</th>      <td>  3258</td>       <th>  AIC:               </th> <td>2.719e+04</td>\n",
       "</tr>\n",
       "<tr>\n",
       "  <th>Df Residuals:</th>          <td>  3256</td>       <th>  BIC:               </th> <td>2.720e+04</td>\n",
       "</tr>\n",
       "<tr>\n",
       "  <th>Df Model:</th>              <td>     1</td>       <th>                     </th>     <td> </td>    \n",
       "</tr>\n",
       "<tr>\n",
       "  <th>Covariance Type:</th>      <td>nonrobust</td>     <th>                     </th>     <td> </td>    \n",
       "</tr>\n",
       "</table>\n",
       "<table class=\"simpletable\">\n",
       "<tr>\n",
       "            <td></td>              <th>coef</th>     <th>std err</th>      <th>t</th>      <th>P>|t|</th>  <th>[0.025</th>    <th>0.975]</th>  \n",
       "</tr>\n",
       "<tr>\n",
       "  <th>proje_sayisi</th>         <td>   16.3115</td> <td>    0.327</td> <td>   49.898</td> <td> 0.000</td> <td>   15.671</td> <td>   16.952</td>\n",
       "</tr>\n",
       "<tr>\n",
       "  <th>aylik_calisma_suresi</th> <td>    0.0414</td> <td>    0.006</td> <td>    6.663</td> <td> 0.000</td> <td>    0.029</td> <td>    0.054</td>\n",
       "</tr>\n",
       "</table>\n",
       "<table class=\"simpletable\">\n",
       "<tr>\n",
       "  <th>Omnibus:</th>       <td>1109.865</td> <th>  Durbin-Watson:     </th> <td>   1.581</td>\n",
       "</tr>\n",
       "<tr>\n",
       "  <th>Prob(Omnibus):</th>  <td> 0.000</td>  <th>  Jarque-Bera (JB):  </th> <td> 164.819</td>\n",
       "</tr>\n",
       "<tr>\n",
       "  <th>Skew:</th>           <td>-0.126</td>  <th>  Prob(JB):          </th> <td>1.62e-36</td>\n",
       "</tr>\n",
       "<tr>\n",
       "  <th>Kurtosis:</th>       <td> 1.927</td>  <th>  Cond. No.          </th> <td>    250.</td>\n",
       "</tr>\n",
       "</table><br/><br/>Notes:<br/>[1] Standard Errors assume that the covariance matrix of the errors is correctly specified."
      ],
      "text/plain": [
       "<class 'statsmodels.iolib.summary.Summary'>\n",
       "\"\"\"\n",
       "                            OLS Regression Results                            \n",
       "==============================================================================\n",
       "Dep. Variable:      performans_olcumu   R-squared:                       0.013\n",
       "Model:                            OLS   Adj. R-squared:                  0.013\n",
       "Method:                 Least Squares   F-statistic:                     44.40\n",
       "Date:                Sun, 05 Dec 2021   Prob (F-statistic):           3.13e-11\n",
       "Time:                        12:10:51   Log-Likelihood:                -13593.\n",
       "No. Observations:                3258   AIC:                         2.719e+04\n",
       "Df Residuals:                    3256   BIC:                         2.720e+04\n",
       "Df Model:                           1                                         \n",
       "Covariance Type:            nonrobust                                         \n",
       "========================================================================================\n",
       "                           coef    std err          t      P>|t|      [0.025      0.975]\n",
       "----------------------------------------------------------------------------------------\n",
       "proje_sayisi            16.3115      0.327     49.898      0.000      15.671      16.952\n",
       "aylik_calisma_suresi     0.0414      0.006      6.663      0.000       0.029       0.054\n",
       "==============================================================================\n",
       "Omnibus:                     1109.865   Durbin-Watson:                   1.581\n",
       "Prob(Omnibus):                  0.000   Jarque-Bera (JB):              164.819\n",
       "Skew:                          -0.126   Prob(JB):                     1.62e-36\n",
       "Kurtosis:                       1.927   Cond. No.                         250.\n",
       "==============================================================================\n",
       "\n",
       "Notes:\n",
       "[1] Standard Errors assume that the covariance matrix of the errors is correctly specified.\n",
       "\"\"\""
      ]
     },
     "execution_count": 80,
     "metadata": {},
     "output_type": "execute_result"
    }
   ],
   "source": [
    "X = df3.drop([\"memnuniyet_seviyesi\", \"performans_olcumu\"], axis=1)\n",
    "y = df3[\"performans_olcumu\"]\n",
    "X = sm.add_constant(X)\n",
    "lm = sm.OLS(y,X)\n",
    "model2 = lm.fit()\n",
    "model2.summary()"
   ]
  },
  {
   "cell_type": "code",
   "execution_count": 81,
   "id": "7d0d82f7-cc7a-4d35-b5c2-0fad1af48ebf",
   "metadata": {},
   "outputs": [
    {
     "data": {
      "text/html": [
       "<table class=\"simpletable\">\n",
       "<caption>OLS Regression Results</caption>\n",
       "<tr>\n",
       "  <th>Dep. Variable:</th>    <td>performans_olcumu</td> <th>  R-squared:         </th> <td>   0.064</td> \n",
       "</tr>\n",
       "<tr>\n",
       "  <th>Model:</th>                   <td>OLS</td>        <th>  Adj. R-squared:    </th> <td>   0.063</td> \n",
       "</tr>\n",
       "<tr>\n",
       "  <th>Method:</th>             <td>Least Squares</td>   <th>  F-statistic:       </th> <td>   179.5</td> \n",
       "</tr>\n",
       "<tr>\n",
       "  <th>Date:</th>             <td>Sun, 05 Dec 2021</td>  <th>  Prob (F-statistic):</th> <td>1.18e-39</td> \n",
       "</tr>\n",
       "<tr>\n",
       "  <th>Time:</th>                 <td>12:10:58</td>      <th>  Log-Likelihood:    </th> <td> -11046.</td> \n",
       "</tr>\n",
       "<tr>\n",
       "  <th>No. Observations:</th>      <td>  2636</td>       <th>  AIC:               </th> <td>2.210e+04</td>\n",
       "</tr>\n",
       "<tr>\n",
       "  <th>Df Residuals:</th>          <td>  2634</td>       <th>  BIC:               </th> <td>2.211e+04</td>\n",
       "</tr>\n",
       "<tr>\n",
       "  <th>Df Model:</th>              <td>     1</td>       <th>                     </th>     <td> </td>    \n",
       "</tr>\n",
       "<tr>\n",
       "  <th>Covariance Type:</th>      <td>nonrobust</td>     <th>                     </th>     <td> </td>    \n",
       "</tr>\n",
       "</table>\n",
       "<table class=\"simpletable\">\n",
       "<tr>\n",
       "            <td></td>              <th>coef</th>     <th>std err</th>      <th>t</th>      <th>P>|t|</th>  <th>[0.025</th>    <th>0.975]</th>  \n",
       "</tr>\n",
       "<tr>\n",
       "  <th>proje_sayisi</th>         <td>   11.2834</td> <td>    0.290</td> <td>   38.945</td> <td> 0.000</td> <td>   10.715</td> <td>   11.851</td>\n",
       "</tr>\n",
       "<tr>\n",
       "  <th>aylik_calisma_suresi</th> <td>    0.0889</td> <td>    0.007</td> <td>   13.399</td> <td> 0.000</td> <td>    0.076</td> <td>    0.102</td>\n",
       "</tr>\n",
       "</table>\n",
       "<table class=\"simpletable\">\n",
       "<tr>\n",
       "  <th>Omnibus:</th>       <td>250.705</td> <th>  Durbin-Watson:     </th> <td>   1.554</td>\n",
       "</tr>\n",
       "<tr>\n",
       "  <th>Prob(Omnibus):</th> <td> 0.000</td>  <th>  Jarque-Bera (JB):  </th> <td> 124.905</td>\n",
       "</tr>\n",
       "<tr>\n",
       "  <th>Skew:</th>          <td>-0.367</td>  <th>  Prob(JB):          </th> <td>7.54e-28</td>\n",
       "</tr>\n",
       "<tr>\n",
       "  <th>Kurtosis:</th>      <td> 2.226</td>  <th>  Cond. No.          </th> <td>    203.</td>\n",
       "</tr>\n",
       "</table><br/><br/>Notes:<br/>[1] Standard Errors assume that the covariance matrix of the errors is correctly specified."
      ],
      "text/plain": [
       "<class 'statsmodels.iolib.summary.Summary'>\n",
       "\"\"\"\n",
       "                            OLS Regression Results                            \n",
       "==============================================================================\n",
       "Dep. Variable:      performans_olcumu   R-squared:                       0.064\n",
       "Model:                            OLS   Adj. R-squared:                  0.063\n",
       "Method:                 Least Squares   F-statistic:                     179.5\n",
       "Date:                Sun, 05 Dec 2021   Prob (F-statistic):           1.18e-39\n",
       "Time:                        12:10:58   Log-Likelihood:                -11046.\n",
       "No. Observations:                2636   AIC:                         2.210e+04\n",
       "Df Residuals:                    2634   BIC:                         2.211e+04\n",
       "Df Model:                           1                                         \n",
       "Covariance Type:            nonrobust                                         \n",
       "========================================================================================\n",
       "                           coef    std err          t      P>|t|      [0.025      0.975]\n",
       "----------------------------------------------------------------------------------------\n",
       "proje_sayisi            11.2834      0.290     38.945      0.000      10.715      11.851\n",
       "aylik_calisma_suresi     0.0889      0.007     13.399      0.000       0.076       0.102\n",
       "==============================================================================\n",
       "Omnibus:                      250.705   Durbin-Watson:                   1.554\n",
       "Prob(Omnibus):                  0.000   Jarque-Bera (JB):              124.905\n",
       "Skew:                          -0.367   Prob(JB):                     7.54e-28\n",
       "Kurtosis:                       2.226   Cond. No.                         203.\n",
       "==============================================================================\n",
       "\n",
       "Notes:\n",
       "[1] Standard Errors assume that the covariance matrix of the errors is correctly specified.\n",
       "\"\"\""
      ]
     },
     "execution_count": 81,
     "metadata": {},
     "output_type": "execute_result"
    }
   ],
   "source": [
    "X = df4.drop([\"memnuniyet_seviyesi\", \"performans_olcumu\"], axis=1)\n",
    "y = df4[\"performans_olcumu\"]\n",
    "X = sm.add_constant(X)\n",
    "lm = sm.OLS(y,X)\n",
    "model3 = lm.fit()\n",
    "model3.summary()"
   ]
  },
  {
   "cell_type": "markdown",
   "id": "30a23050-f559-4c9c-a596-3ecf64aa03ee",
   "metadata": {},
   "source": [
    "##### Her bir proje sayısı grubu (2,3,4) için aylık çalışma süresi ile performans arasındaki ilişkide proje sayısı değişkeni anlamlı bulunmuştur. Bu varsayım sağlanamamıştır. "
   ]
  },
  {
   "cell_type": "markdown",
   "id": "1c1ac494-686f-4b82-8d6f-0e0b334817e6",
   "metadata": {},
   "source": [
    "#### Her bir Proje Sayısı Grubunun Memnuniyeti İçin Homojenlik"
   ]
  },
  {
   "cell_type": "code",
   "execution_count": 82,
   "id": "745f941e-0637-437f-96f5-fb2fee0d2b4f",
   "metadata": {},
   "outputs": [
    {
     "data": {
      "text/html": [
       "<table class=\"simpletable\">\n",
       "<caption>OLS Regression Results</caption>\n",
       "<tr>\n",
       "  <th>Dep. Variable:</th>    <td>memnuniyet_seviyesi</td> <th>  R-squared:         </th> <td>   0.137</td> \n",
       "</tr>\n",
       "<tr>\n",
       "  <th>Model:</th>                    <td>OLS</td>         <th>  Adj. R-squared:    </th> <td>   0.137</td> \n",
       "</tr>\n",
       "<tr>\n",
       "  <th>Method:</th>              <td>Least Squares</td>    <th>  F-statistic:       </th> <td>   780.2</td> \n",
       "</tr>\n",
       "<tr>\n",
       "  <th>Date:</th>              <td>Sun, 05 Dec 2021</td>   <th>  Prob (F-statistic):</th> <td>1.72e-159</td>\n",
       "</tr>\n",
       "<tr>\n",
       "  <th>Time:</th>                  <td>12:13:16</td>       <th>  Log-Likelihood:    </th> <td> -21512.</td> \n",
       "</tr>\n",
       "<tr>\n",
       "  <th>No. Observations:</th>       <td>  4918</td>        <th>  AIC:               </th> <td>4.303e+04</td>\n",
       "</tr>\n",
       "<tr>\n",
       "  <th>Df Residuals:</th>           <td>  4916</td>        <th>  BIC:               </th> <td>4.304e+04</td>\n",
       "</tr>\n",
       "<tr>\n",
       "  <th>Df Model:</th>               <td>     1</td>        <th>                     </th>     <td> </td>    \n",
       "</tr>\n",
       "<tr>\n",
       "  <th>Covariance Type:</th>       <td>nonrobust</td>      <th>                     </th>     <td> </td>    \n",
       "</tr>\n",
       "</table>\n",
       "<table class=\"simpletable\">\n",
       "<tr>\n",
       "            <td></td>              <th>coef</th>     <th>std err</th>      <th>t</th>      <th>P>|t|</th>  <th>[0.025</th>    <th>0.975]</th>  \n",
       "</tr>\n",
       "<tr>\n",
       "  <th>proje_sayisi</th>         <td>    9.9787</td> <td>    0.380</td> <td>   26.255</td> <td> 0.000</td> <td>    9.234</td> <td>   10.724</td>\n",
       "</tr>\n",
       "<tr>\n",
       "  <th>aylik_calisma_suresi</th> <td>    0.1685</td> <td>    0.006</td> <td>   27.932</td> <td> 0.000</td> <td>    0.157</td> <td>    0.180</td>\n",
       "</tr>\n",
       "</table>\n",
       "<table class=\"simpletable\">\n",
       "<tr>\n",
       "  <th>Omnibus:</th>       <td>18.668</td> <th>  Durbin-Watson:     </th> <td>   1.562</td>\n",
       "</tr>\n",
       "<tr>\n",
       "  <th>Prob(Omnibus):</th> <td> 0.000</td> <th>  Jarque-Bera (JB):  </th> <td>  18.185</td>\n",
       "</tr>\n",
       "<tr>\n",
       "  <th>Skew:</th>          <td> 0.129</td> <th>  Prob(JB):          </th> <td>0.000113</td>\n",
       "</tr>\n",
       "<tr>\n",
       "  <th>Kurtosis:</th>      <td> 2.851</td> <th>  Cond. No.          </th> <td>    262.</td>\n",
       "</tr>\n",
       "</table><br/><br/>Notes:<br/>[1] Standard Errors assume that the covariance matrix of the errors is correctly specified."
      ],
      "text/plain": [
       "<class 'statsmodels.iolib.summary.Summary'>\n",
       "\"\"\"\n",
       "                             OLS Regression Results                            \n",
       "===============================================================================\n",
       "Dep. Variable:     memnuniyet_seviyesi   R-squared:                       0.137\n",
       "Model:                             OLS   Adj. R-squared:                  0.137\n",
       "Method:                  Least Squares   F-statistic:                     780.2\n",
       "Date:                 Sun, 05 Dec 2021   Prob (F-statistic):          1.72e-159\n",
       "Time:                         12:13:16   Log-Likelihood:                -21512.\n",
       "No. Observations:                 4918   AIC:                         4.303e+04\n",
       "Df Residuals:                     4916   BIC:                         4.304e+04\n",
       "Df Model:                            1                                         \n",
       "Covariance Type:             nonrobust                                         \n",
       "========================================================================================\n",
       "                           coef    std err          t      P>|t|      [0.025      0.975]\n",
       "----------------------------------------------------------------------------------------\n",
       "proje_sayisi             9.9787      0.380     26.255      0.000       9.234      10.724\n",
       "aylik_calisma_suresi     0.1685      0.006     27.932      0.000       0.157       0.180\n",
       "==============================================================================\n",
       "Omnibus:                       18.668   Durbin-Watson:                   1.562\n",
       "Prob(Omnibus):                  0.000   Jarque-Bera (JB):               18.185\n",
       "Skew:                           0.129   Prob(JB):                     0.000113\n",
       "Kurtosis:                       2.851   Cond. No.                         262.\n",
       "==============================================================================\n",
       "\n",
       "Notes:\n",
       "[1] Standard Errors assume that the covariance matrix of the errors is correctly specified.\n",
       "\"\"\""
      ]
     },
     "execution_count": 82,
     "metadata": {},
     "output_type": "execute_result"
    }
   ],
   "source": [
    "X = df2.drop([\"memnuniyet_seviyesi\", \"performans_olcumu\"], axis=1)\n",
    "y = df2[\"memnuniyet_seviyesi\"]\n",
    "X = sm.add_constant(X)\n",
    "lm = sm.OLS(y,X)\n",
    "model1 = lm.fit()\n",
    "model1.summary()"
   ]
  },
  {
   "cell_type": "code",
   "execution_count": 83,
   "id": "245e67a6-6ed1-4c14-9137-fb171e7b557d",
   "metadata": {},
   "outputs": [
    {
     "data": {
      "text/html": [
       "<table class=\"simpletable\">\n",
       "<caption>OLS Regression Results</caption>\n",
       "<tr>\n",
       "  <th>Dep. Variable:</th>    <td>memnuniyet_seviyesi</td> <th>  R-squared:         </th> <td>   0.009</td> \n",
       "</tr>\n",
       "<tr>\n",
       "  <th>Model:</th>                    <td>OLS</td>         <th>  Adj. R-squared:    </th> <td>   0.009</td> \n",
       "</tr>\n",
       "<tr>\n",
       "  <th>Method:</th>              <td>Least Squares</td>    <th>  F-statistic:       </th> <td>   29.81</td> \n",
       "</tr>\n",
       "<tr>\n",
       "  <th>Date:</th>              <td>Sun, 05 Dec 2021</td>   <th>  Prob (F-statistic):</th> <td>5.12e-08</td> \n",
       "</tr>\n",
       "<tr>\n",
       "  <th>Time:</th>                  <td>12:13:24</td>       <th>  Log-Likelihood:    </th> <td> -14379.</td> \n",
       "</tr>\n",
       "<tr>\n",
       "  <th>No. Observations:</th>       <td>  3258</td>        <th>  AIC:               </th> <td>2.876e+04</td>\n",
       "</tr>\n",
       "<tr>\n",
       "  <th>Df Residuals:</th>           <td>  3256</td>        <th>  BIC:               </th> <td>2.877e+04</td>\n",
       "</tr>\n",
       "<tr>\n",
       "  <th>Df Model:</th>               <td>     1</td>        <th>                     </th>     <td> </td>    \n",
       "</tr>\n",
       "<tr>\n",
       "  <th>Covariance Type:</th>       <td>nonrobust</td>      <th>                     </th>     <td> </td>    \n",
       "</tr>\n",
       "</table>\n",
       "<table class=\"simpletable\">\n",
       "<tr>\n",
       "          <td></td>             <th>coef</th>     <th>std err</th>      <th>t</th>      <th>P>|t|</th>  <th>[0.025</th>    <th>0.975]</th>  \n",
       "</tr>\n",
       "<tr>\n",
       "  <th>performans_olcumu</th> <td>    0.1210</td> <td>    0.022</td> <td>    5.460</td> <td> 0.000</td> <td>    0.078</td> <td>    0.164</td>\n",
       "</tr>\n",
       "<tr>\n",
       "  <th>proje_sayisi</th>      <td>   15.1775</td> <td>    0.418</td> <td>   36.320</td> <td> 0.000</td> <td>   14.358</td> <td>   15.997</td>\n",
       "</tr>\n",
       "</table>\n",
       "<table class=\"simpletable\">\n",
       "<tr>\n",
       "  <th>Omnibus:</th>       <td>312.542</td> <th>  Durbin-Watson:     </th> <td>   1.657</td>\n",
       "</tr>\n",
       "<tr>\n",
       "  <th>Prob(Omnibus):</th> <td> 0.000</td>  <th>  Jarque-Bera (JB):  </th> <td> 406.486</td>\n",
       "</tr>\n",
       "<tr>\n",
       "  <th>Skew:</th>          <td>-0.832</td>  <th>  Prob(JB):          </th> <td>5.40e-89</td>\n",
       "</tr>\n",
       "<tr>\n",
       "  <th>Kurtosis:</th>      <td> 3.476</td>  <th>  Cond. No.          </th> <td>    90.3</td>\n",
       "</tr>\n",
       "</table><br/><br/>Notes:<br/>[1] Standard Errors assume that the covariance matrix of the errors is correctly specified."
      ],
      "text/plain": [
       "<class 'statsmodels.iolib.summary.Summary'>\n",
       "\"\"\"\n",
       "                             OLS Regression Results                            \n",
       "===============================================================================\n",
       "Dep. Variable:     memnuniyet_seviyesi   R-squared:                       0.009\n",
       "Model:                             OLS   Adj. R-squared:                  0.009\n",
       "Method:                  Least Squares   F-statistic:                     29.81\n",
       "Date:                 Sun, 05 Dec 2021   Prob (F-statistic):           5.12e-08\n",
       "Time:                         12:13:24   Log-Likelihood:                -14379.\n",
       "No. Observations:                 3258   AIC:                         2.876e+04\n",
       "Df Residuals:                     3256   BIC:                         2.877e+04\n",
       "Df Model:                            1                                         \n",
       "Covariance Type:             nonrobust                                         \n",
       "=====================================================================================\n",
       "                        coef    std err          t      P>|t|      [0.025      0.975]\n",
       "-------------------------------------------------------------------------------------\n",
       "performans_olcumu     0.1210      0.022      5.460      0.000       0.078       0.164\n",
       "proje_sayisi         15.1775      0.418     36.320      0.000      14.358      15.997\n",
       "==============================================================================\n",
       "Omnibus:                      312.542   Durbin-Watson:                   1.657\n",
       "Prob(Omnibus):                  0.000   Jarque-Bera (JB):              406.486\n",
       "Skew:                          -0.832   Prob(JB):                     5.40e-89\n",
       "Kurtosis:                       3.476   Cond. No.                         90.3\n",
       "==============================================================================\n",
       "\n",
       "Notes:\n",
       "[1] Standard Errors assume that the covariance matrix of the errors is correctly specified.\n",
       "\"\"\""
      ]
     },
     "execution_count": 83,
     "metadata": {},
     "output_type": "execute_result"
    }
   ],
   "source": [
    "X = df3.drop([\"memnuniyet_seviyesi\", \"aylik_calisma_suresi\"], axis=1)\n",
    "y = df3[\"memnuniyet_seviyesi\"]\n",
    "X = sm.add_constant(X)\n",
    "lm = sm.OLS(y,X)\n",
    "model2 = lm.fit()\n",
    "model2.summary()"
   ]
  },
  {
   "cell_type": "code",
   "execution_count": 84,
   "id": "4d9d953c-bfcc-477b-8c0a-dcdd02f4d8eb",
   "metadata": {},
   "outputs": [
    {
     "data": {
      "text/html": [
       "<table class=\"simpletable\">\n",
       "<caption>OLS Regression Results</caption>\n",
       "<tr>\n",
       "  <th>Dep. Variable:</th>    <td>memnuniyet_seviyesi</td> <th>  R-squared:         </th> <td>   0.002</td> \n",
       "</tr>\n",
       "<tr>\n",
       "  <th>Model:</th>                    <td>OLS</td>         <th>  Adj. R-squared:    </th> <td>   0.002</td> \n",
       "</tr>\n",
       "<tr>\n",
       "  <th>Method:</th>              <td>Least Squares</td>    <th>  F-statistic:       </th> <td>   6.409</td> \n",
       "</tr>\n",
       "<tr>\n",
       "  <th>Date:</th>              <td>Sun, 05 Dec 2021</td>   <th>  Prob (F-statistic):</th>  <td>0.0114</td>  \n",
       "</tr>\n",
       "<tr>\n",
       "  <th>Time:</th>                  <td>12:13:29</td>       <th>  Log-Likelihood:    </th> <td> -12473.</td> \n",
       "</tr>\n",
       "<tr>\n",
       "  <th>No. Observations:</th>       <td>  2636</td>        <th>  AIC:               </th> <td>2.495e+04</td>\n",
       "</tr>\n",
       "<tr>\n",
       "  <th>Df Residuals:</th>           <td>  2634</td>        <th>  BIC:               </th> <td>2.496e+04</td>\n",
       "</tr>\n",
       "<tr>\n",
       "  <th>Df Model:</th>               <td>     1</td>        <th>                     </th>     <td> </td>    \n",
       "</tr>\n",
       "<tr>\n",
       "  <th>Covariance Type:</th>       <td>nonrobust</td>      <th>                     </th>     <td> </td>    \n",
       "</tr>\n",
       "</table>\n",
       "<table class=\"simpletable\">\n",
       "<tr>\n",
       "          <td></td>             <th>coef</th>     <th>std err</th>      <th>t</th>      <th>P>|t|</th>  <th>[0.025</th>    <th>0.975]</th>  \n",
       "</tr>\n",
       "<tr>\n",
       "  <th>performans_olcumu</th> <td>    0.0820</td> <td>    0.032</td> <td>    2.532</td> <td> 0.011</td> <td>    0.018</td> <td>    0.146</td>\n",
       "</tr>\n",
       "<tr>\n",
       "  <th>proje_sayisi</th>      <td>   10.9717</td> <td>    0.500</td> <td>   21.948</td> <td> 0.000</td> <td>    9.991</td> <td>   11.952</td>\n",
       "</tr>\n",
       "</table>\n",
       "<table class=\"simpletable\">\n",
       "<tr>\n",
       "  <th>Omnibus:</th>       <td>559.520</td> <th>  Durbin-Watson:     </th> <td>   1.501</td>\n",
       "</tr>\n",
       "<tr>\n",
       "  <th>Prob(Omnibus):</th> <td> 0.000</td>  <th>  Jarque-Bera (JB):  </th> <td> 252.245</td>\n",
       "</tr>\n",
       "<tr>\n",
       "  <th>Skew:</th>          <td>-0.596</td>  <th>  Prob(JB):          </th> <td>1.68e-55</td>\n",
       "</tr>\n",
       "<tr>\n",
       "  <th>Kurtosis:</th>      <td> 2.064</td>  <th>  Cond. No.          </th> <td>    72.4</td>\n",
       "</tr>\n",
       "</table><br/><br/>Notes:<br/>[1] Standard Errors assume that the covariance matrix of the errors is correctly specified."
      ],
      "text/plain": [
       "<class 'statsmodels.iolib.summary.Summary'>\n",
       "\"\"\"\n",
       "                             OLS Regression Results                            \n",
       "===============================================================================\n",
       "Dep. Variable:     memnuniyet_seviyesi   R-squared:                       0.002\n",
       "Model:                             OLS   Adj. R-squared:                  0.002\n",
       "Method:                  Least Squares   F-statistic:                     6.409\n",
       "Date:                 Sun, 05 Dec 2021   Prob (F-statistic):             0.0114\n",
       "Time:                         12:13:29   Log-Likelihood:                -12473.\n",
       "No. Observations:                 2636   AIC:                         2.495e+04\n",
       "Df Residuals:                     2634   BIC:                         2.496e+04\n",
       "Df Model:                            1                                         \n",
       "Covariance Type:             nonrobust                                         \n",
       "=====================================================================================\n",
       "                        coef    std err          t      P>|t|      [0.025      0.975]\n",
       "-------------------------------------------------------------------------------------\n",
       "performans_olcumu     0.0820      0.032      2.532      0.011       0.018       0.146\n",
       "proje_sayisi         10.9717      0.500     21.948      0.000       9.991      11.952\n",
       "==============================================================================\n",
       "Omnibus:                      559.520   Durbin-Watson:                   1.501\n",
       "Prob(Omnibus):                  0.000   Jarque-Bera (JB):              252.245\n",
       "Skew:                          -0.596   Prob(JB):                     1.68e-55\n",
       "Kurtosis:                       2.064   Cond. No.                         72.4\n",
       "==============================================================================\n",
       "\n",
       "Notes:\n",
       "[1] Standard Errors assume that the covariance matrix of the errors is correctly specified.\n",
       "\"\"\""
      ]
     },
     "execution_count": 84,
     "metadata": {},
     "output_type": "execute_result"
    }
   ],
   "source": [
    "X = df4.drop([\"memnuniyet_seviyesi\", \"aylik_calisma_suresi\"], axis=1)\n",
    "y = df4[\"memnuniyet_seviyesi\"]\n",
    "X = sm.add_constant(X)\n",
    "lm = sm.OLS(y,X)\n",
    "model3 = lm.fit()\n",
    "model3.summary()"
   ]
  },
  {
   "cell_type": "markdown",
   "id": "46e965a9-0ad0-4e23-a3e7-aabd7966fbf3",
   "metadata": {},
   "source": [
    "##### Her bir proje sayısı grubu (2,3,4) için aylık çalışma süresi ile memnuniyet arasındaki ilişkide proje sayısı değişkeni anlamlı bulunmuştur. Bu varsayım sağlanamamıştır. "
   ]
  },
  {
   "cell_type": "markdown",
   "id": "47512477-ad25-4eef-8cd8-76aef385eb8a",
   "metadata": {},
   "source": [
    "## Doğru Eğimlerinin Homejenliği"
   ]
  },
  {
   "cell_type": "code",
   "execution_count": 42,
   "id": "f8b11a96-d2d1-4a0f-9ca8-3a224f1cdd99",
   "metadata": {},
   "outputs": [],
   "source": [
    "import scipy"
   ]
  },
  {
   "cell_type": "markdown",
   "id": "818bab55-c316-4637-abaa-3a7055b50ba1",
   "metadata": {},
   "source": [
    "### Her bir proje sayısı grubu için memnuniyet seviyesi ve aylık çalışma süresi arasındaki ilişkide eğim"
   ]
  },
  {
   "cell_type": "code",
   "execution_count": 85,
   "id": "8b5ee127-3745-4d6b-9513-15bd90ac7d1b",
   "metadata": {},
   "outputs": [],
   "source": [
    "slope1, intercept1, r_value1, p_value1, std_err1 = scipy.stats.linregress(df2[\"memnuniyet_seviyesi\"], df2[\"aylik_calisma_suresi\"])\n",
    "slope2, intercept2, r_value2, p_value2, std_err2 = scipy.stats.linregress(df3[\"memnuniyet_seviyesi\"], df3[\"aylik_calisma_suresi\"])\n",
    "slope3, intercept3, r_value3, p_value3, std_err3 = scipy.stats.linregress(df4[\"memnuniyet_seviyesi\"], df4[\"aylik_calisma_suresi\"])"
   ]
  },
  {
   "cell_type": "code",
   "execution_count": 86,
   "id": "787f6db8-2984-475b-948b-fa0759a160b3",
   "metadata": {},
   "outputs": [
    {
     "data": {
      "text/plain": [
       "{'1.Grup Eğim': 0.8130503933723938,\n",
       " '1. Grup sabit': 134.0359973314824,\n",
       " '1.Grup anlamlılık': 1.7240508951316728e-159,\n",
       " '2.Grup Eğim': 0.12707427496080517,\n",
       " '2. Grup sabit': 196.6881646600574,\n",
       " '2.Grup anlamlılık': 0.0009906943349399207,\n",
       " '3.Grup Eğim': -0.16808645096989952,\n",
       " '3. Grup sabit': 223.59336493211563,\n",
       " '3.Grup anlamlılık': 4.1346322926135383e-07}"
      ]
     },
     "execution_count": 86,
     "metadata": {},
     "output_type": "execute_result"
    }
   ],
   "source": [
    "dict=({\"1.Grup Eğim\":slope1,\"1. Grup sabit\": intercept1, \"1.Grup anlamlılık\": p_value1,\n",
    "       \"2.Grup Eğim\":slope2, \"2. Grup sabit\": intercept2, \"2.Grup anlamlılık\": p_value2,\n",
    "       \"3.Grup Eğim\":slope3, \"3. Grup sabit\": intercept3, \"3.Grup anlamlılık\": p_value3})\n",
    "dict"
   ]
  },
  {
   "cell_type": "markdown",
   "id": "a3b016d3-1491-42b2-9bda-fa8687d1bc4a",
   "metadata": {},
   "source": [
    "##### Her bir proje sayısı grubu için memnuniyet seviyesi ve aylık çalışma süresi arasındaki ilişkide doğru eğimleri homojen değildir. "
   ]
  },
  {
   "cell_type": "markdown",
   "id": "1bb5185f-4fc9-41bc-98f5-e1a831a2a782",
   "metadata": {},
   "source": [
    "### Her bir proje sayısı grubu için performans ölçümü ve aylık çalışma süresi arasındaki ilişkide eğim"
   ]
  },
  {
   "cell_type": "code",
   "execution_count": 87,
   "id": "ebff6d51-014e-497b-a0e0-a6ab8541b51a",
   "metadata": {},
   "outputs": [],
   "source": [
    "slope1, intercept1, r_value1, p_value1, std_err1 = scipy.stats.linregress(df2[\"performans_olcumu\"], df2[\"aylik_calisma_suresi\"])\n",
    "slope2, intercept2, r_value2, p_value2, std_err2 = scipy.stats.linregress(df3[\"performans_olcumu\"], df3[\"aylik_calisma_suresi\"])\n",
    "slope3, intercept3, r_value3, p_value3, std_err3 = scipy.stats.linregress(df4[\"performans_olcumu\"], df4[\"aylik_calisma_suresi\"])"
   ]
  },
  {
   "cell_type": "code",
   "execution_count": 88,
   "id": "09f18c79-2309-4272-9989-2013fa83ce73",
   "metadata": {},
   "outputs": [
    {
     "data": {
      "text/plain": [
       "{'1.Grup Eğim': 0.9438457557543466,\n",
       " '1. Grup sabit': 121.23330402260675,\n",
       " '1.Grup anlamlılık': 1.0887851418789368e-135,\n",
       " '2.Grup Eğim': 0.3246117520735875,\n",
       " '2. Grup sabit': 181.5921822917186,\n",
       " '2.Grup anlamlılık': 3.132990599237121e-11,\n",
       " '3.Grup Eğim': 0.7181309051434454,\n",
       " '3. Grup sabit': 159.20556875663115,\n",
       " '3.Grup anlamlılık': 1.1801401700150051e-39}"
      ]
     },
     "execution_count": 88,
     "metadata": {},
     "output_type": "execute_result"
    }
   ],
   "source": [
    "dict=({\"1.Grup Eğim\":slope1,\"1. Grup sabit\": intercept1, \"1.Grup anlamlılık\": p_value1,\n",
    "       \"2.Grup Eğim\":slope2, \"2. Grup sabit\": intercept2, \"2.Grup anlamlılık\": p_value2,\n",
    "       \"3.Grup Eğim\":slope3, \"3. Grup sabit\": intercept3, \"3.Grup anlamlılık\": p_value3})\n",
    "dict"
   ]
  },
  {
   "cell_type": "markdown",
   "id": "105f2129-1621-43af-92b9-b455c6af3e7a",
   "metadata": {},
   "source": [
    "##### Her bir proje sayısı grubu için memnuniyet seviyesi ve aylık çalışma süresi arasındaki ilişkide doğru eğimleri homojen değildir. "
   ]
  },
  {
   "cell_type": "markdown",
   "id": "0fc9a382-f991-4b1a-bba6-3fee6df1378e",
   "metadata": {},
   "source": [
    "# MANCOVA Model"
   ]
  },
  {
   "cell_type": "code",
   "execution_count": 152,
   "id": "ce0f84e6-826d-47a3-b5d4-2740c0970433",
   "metadata": {},
   "outputs": [],
   "source": [
    "import statsmodels.multivariate\n",
    "import scipy.stats as stats  \n",
    "from statsmodels.stats.multicomp import pairwise_tukeyhsd \n",
    "from statsmodels.stats.multicomp import MultiComparison\n",
    "from statsmodels.multivariate.manova import MANOVA"
   ]
  },
  {
   "cell_type": "code",
   "execution_count": 208,
   "id": "7d6bd1e0-d70f-4dc4-b6ea-f40fac5e9d5b",
   "metadata": {},
   "outputs": [],
   "source": [
    "mancov = statsmodels.multivariate.multivariate_ols._MultivariateOLS.from_formula('performans_olcumu + memnuniyet_seviyesi ~ proje_sayisi + aylik_calisma_suresi', data=df_mc)"
   ]
  },
  {
   "cell_type": "code",
   "execution_count": 209,
   "id": "b8ea7f3d-7f05-47b3-a6b4-83e0d65d3533",
   "metadata": {},
   "outputs": [],
   "source": [
    "mnc=mancov.fit()"
   ]
  },
  {
   "cell_type": "code",
   "execution_count": 210,
   "id": "df1ea12f-8f71-4e2e-9037-463ff867fc63",
   "metadata": {},
   "outputs": [
    {
     "name": "stdout",
     "output_type": "stream",
     "text": [
      "                    Multivariate linear model\n",
      "=================================================================\n",
      "                                                                 \n",
      "-----------------------------------------------------------------\n",
      "       Intercept        Value  Num DF   Den DF    F Value  Pr > F\n",
      "-----------------------------------------------------------------\n",
      "          Wilks' lambda 0.7773 2.0000 10808.0000 1548.3154 0.0000\n",
      "         Pillai's trace 0.2227 2.0000 10808.0000 1548.3154 0.0000\n",
      " Hotelling-Lawley trace 0.2865 2.0000 10808.0000 1548.3154 0.0000\n",
      "    Roy's greatest root 0.2865 2.0000 10808.0000 1548.3154 0.0000\n",
      "-----------------------------------------------------------------\n",
      "                                                                 \n",
      "-----------------------------------------------------------------\n",
      "       proje_sayisi      Value  Num DF   Den DF   F Value  Pr > F\n",
      "-----------------------------------------------------------------\n",
      "           Wilks' lambda 0.9688 2.0000 10808.0000 174.1665 0.0000\n",
      "          Pillai's trace 0.0312 2.0000 10808.0000 174.1665 0.0000\n",
      "  Hotelling-Lawley trace 0.0322 2.0000 10808.0000 174.1665 0.0000\n",
      "     Roy's greatest root 0.0322 2.0000 10808.0000 174.1665 0.0000\n",
      "-----------------------------------------------------------------\n",
      "                                                                 \n",
      "-----------------------------------------------------------------\n",
      "   aylik_calisma_suresi  Value  Num DF   Den DF   F Value  Pr > F\n",
      "-----------------------------------------------------------------\n",
      "           Wilks' lambda 0.9234 2.0000 10808.0000 448.3855 0.0000\n",
      "          Pillai's trace 0.0766 2.0000 10808.0000 448.3855 0.0000\n",
      "  Hotelling-Lawley trace 0.0830 2.0000 10808.0000 448.3855 0.0000\n",
      "     Roy's greatest root 0.0830 2.0000 10808.0000 448.3855 0.0000\n",
      "=================================================================\n",
      "\n"
     ]
    }
   ],
   "source": [
    "print(mnc.mv_test())"
   ]
  },
  {
   "cell_type": "markdown",
   "id": "30347f83-00f6-4d14-8f1b-e984d8a8555c",
   "metadata": {},
   "source": [
    "p değeri <0.05 olduğundan H0 hipotezi reddedilir. \n",
    "Farklı sayılarda proje üreten çalışanların, memnuniyet ve performansları aylık çalışma süreleri de hesaba katıldığında farklılaşmaktadır. "
   ]
  },
  {
   "cell_type": "code",
   "execution_count": 187,
   "id": "b291d85e-cb7f-4929-b002-ae8fcb784f25",
   "metadata": {},
   "outputs": [],
   "source": [
    "from pingouin import ancova"
   ]
  },
  {
   "cell_type": "code",
   "execution_count": 201,
   "id": "83ae8f9c-819b-43d4-a319-88b19dbfb3e3",
   "metadata": {},
   "outputs": [
    {
     "data": {
      "text/html": [
       "<div>\n",
       "<style scoped>\n",
       "    .dataframe tbody tr th:only-of-type {\n",
       "        vertical-align: middle;\n",
       "    }\n",
       "\n",
       "    .dataframe tbody tr th {\n",
       "        vertical-align: top;\n",
       "    }\n",
       "\n",
       "    .dataframe thead th {\n",
       "        text-align: right;\n",
       "    }\n",
       "</style>\n",
       "<table border=\"1\" class=\"dataframe\">\n",
       "  <thead>\n",
       "    <tr style=\"text-align: right;\">\n",
       "      <th></th>\n",
       "      <th>Source</th>\n",
       "      <th>SS</th>\n",
       "      <th>DF</th>\n",
       "      <th>F</th>\n",
       "      <th>p-unc</th>\n",
       "      <th>np2</th>\n",
       "    </tr>\n",
       "  </thead>\n",
       "  <tbody>\n",
       "    <tr>\n",
       "      <th>0</th>\n",
       "      <td>proje_sayisi</td>\n",
       "      <td>9.535111e+04</td>\n",
       "      <td>2</td>\n",
       "      <td>191.973332</td>\n",
       "      <td>1.185118e-82</td>\n",
       "      <td>0.034306</td>\n",
       "    </tr>\n",
       "    <tr>\n",
       "      <th>1</th>\n",
       "      <td>aylik_calisma_suresi</td>\n",
       "      <td>1.870836e+05</td>\n",
       "      <td>1</td>\n",
       "      <td>753.322210</td>\n",
       "      <td>2.211746e-160</td>\n",
       "      <td>0.065159</td>\n",
       "    </tr>\n",
       "    <tr>\n",
       "      <th>2</th>\n",
       "      <td>Residual</td>\n",
       "      <td>2.684109e+06</td>\n",
       "      <td>10808</td>\n",
       "      <td>NaN</td>\n",
       "      <td>NaN</td>\n",
       "      <td>NaN</td>\n",
       "    </tr>\n",
       "  </tbody>\n",
       "</table>\n",
       "</div>"
      ],
      "text/plain": [
       "                 Source            SS     DF           F          p-unc  \\\n",
       "0          proje_sayisi  9.535111e+04      2  191.973332   1.185118e-82   \n",
       "1  aylik_calisma_suresi  1.870836e+05      1  753.322210  2.211746e-160   \n",
       "2              Residual  2.684109e+06  10808         NaN            NaN   \n",
       "\n",
       "        np2  \n",
       "0  0.034306  \n",
       "1  0.065159  \n",
       "2       NaN  "
      ]
     },
     "execution_count": 201,
     "metadata": {},
     "output_type": "execute_result"
    }
   ],
   "source": [
    "ancova(data=df_mc, dv='performans_olcumu', covar=\"aylik_calisma_suresi\", between='proje_sayisi')"
   ]
  },
  {
   "cell_type": "markdown",
   "id": "0060a14b-0bac-4d3a-8b37-127b1a7ff60b",
   "metadata": {},
   "source": [
    "H0 reddedilir, farklı sayılarda proje üreten çalışanların, performansları aylık çalışma süreleri de hesaba katıldığında farklılaşmaktadır. "
   ]
  },
  {
   "cell_type": "code",
   "execution_count": 202,
   "id": "ddf42a35-507d-44ab-bf76-f5799e63cc99",
   "metadata": {},
   "outputs": [
    {
     "data": {
      "text/html": [
       "<div>\n",
       "<style scoped>\n",
       "    .dataframe tbody tr th:only-of-type {\n",
       "        vertical-align: middle;\n",
       "    }\n",
       "\n",
       "    .dataframe tbody tr th {\n",
       "        vertical-align: top;\n",
       "    }\n",
       "\n",
       "    .dataframe thead th {\n",
       "        text-align: right;\n",
       "    }\n",
       "</style>\n",
       "<table border=\"1\" class=\"dataframe\">\n",
       "  <thead>\n",
       "    <tr style=\"text-align: right;\">\n",
       "      <th></th>\n",
       "      <th>Source</th>\n",
       "      <th>SS</th>\n",
       "      <th>DF</th>\n",
       "      <th>F</th>\n",
       "      <th>p-unc</th>\n",
       "      <th>np2</th>\n",
       "    </tr>\n",
       "  </thead>\n",
       "  <tbody>\n",
       "    <tr>\n",
       "      <th>0</th>\n",
       "      <td>proje_sayisi</td>\n",
       "      <td>1.480692e+05</td>\n",
       "      <td>2</td>\n",
       "      <td>150.949814</td>\n",
       "      <td>2.198996e-65</td>\n",
       "      <td>0.027174</td>\n",
       "    </tr>\n",
       "    <tr>\n",
       "      <th>1</th>\n",
       "      <td>aylik_calisma_suresi</td>\n",
       "      <td>1.062729e+05</td>\n",
       "      <td>1</td>\n",
       "      <td>216.680672</td>\n",
       "      <td>1.413116e-48</td>\n",
       "      <td>0.019654</td>\n",
       "    </tr>\n",
       "    <tr>\n",
       "      <th>2</th>\n",
       "      <td>Residual</td>\n",
       "      <td>5.300875e+06</td>\n",
       "      <td>10808</td>\n",
       "      <td>NaN</td>\n",
       "      <td>NaN</td>\n",
       "      <td>NaN</td>\n",
       "    </tr>\n",
       "  </tbody>\n",
       "</table>\n",
       "</div>"
      ],
      "text/plain": [
       "                 Source            SS     DF           F         p-unc  \\\n",
       "0          proje_sayisi  1.480692e+05      2  150.949814  2.198996e-65   \n",
       "1  aylik_calisma_suresi  1.062729e+05      1  216.680672  1.413116e-48   \n",
       "2              Residual  5.300875e+06  10808         NaN           NaN   \n",
       "\n",
       "        np2  \n",
       "0  0.027174  \n",
       "1  0.019654  \n",
       "2       NaN  "
      ]
     },
     "execution_count": 202,
     "metadata": {},
     "output_type": "execute_result"
    }
   ],
   "source": [
    "ancova(data=df_mc, dv='memnuniyet_seviyesi', covar=\"aylik_calisma_suresi\", between='proje_sayisi')"
   ]
  },
  {
   "cell_type": "markdown",
   "id": "53ffc1e8-e61e-493b-838e-ae847cc88dd3",
   "metadata": {},
   "source": [
    "H0 reddedilir, farklı sayılarda proje üreten çalışanların, memnuniyetleri aylık çalışma süreleri de hesaba katıldığında farklılaşmaktadır. "
   ]
  },
  {
   "cell_type": "markdown",
   "id": "c445d365-97d7-459e-a296-151e9be505cd",
   "metadata": {},
   "source": [
    "## Post Hoc"
   ]
  },
  {
   "cell_type": "code",
   "execution_count": 213,
   "id": "5ecc5b5c-b608-496f-8766-ba0a63820cac",
   "metadata": {},
   "outputs": [
    {
     "name": "stdout",
     "output_type": "stream",
     "text": [
      "Multiple Comparison of Means - Tukey HSD, FWER=0.05\n",
      "==================================================\n",
      "group1 group2 meandiff p-adj lower   upper  reject\n",
      "--------------------------------------------------\n",
      "     3      4   7.7806 0.001 6.9177  8.6436   True\n",
      "     3      5     9.39 0.001 8.4678 10.3122   True\n",
      "     4      5   1.6093 0.001 0.6085  2.6102   True\n",
      "--------------------------------------------------\n"
     ]
    }
   ],
   "source": [
    "kars1 = MultiComparison(df_mc[\"performans_olcumu\"], df_mc[\"proje_sayisi\"])    \n",
    "kars1_sonuc = kars1.tukeyhsd()\n",
    "print(kars1_sonuc)"
   ]
  },
  {
   "cell_type": "markdown",
   "id": "9737f7f9-6f9c-4faf-97d1-6fd07fcf7b51",
   "metadata": {},
   "source": [
    "3 proje üreten çalışanların performansı; 4 proje üreten çalışanların göre 7 birim  daha fazla iken 5 proje üretenlere göre 9 birim daha fazladır. \n",
    "4 proje üreten çalışanların ise  5 proje üretenlere göre performans 1.5 birim daha fazladır."
   ]
  },
  {
   "cell_type": "code",
   "execution_count": 10,
   "id": "a0060d28-0921-4ef2-afa9-23ed4d2f21fc",
   "metadata": {},
   "outputs": [
    {
     "name": "stdout",
     "output_type": "stream",
     "text": [
      "Multiple Comparison of Means - Tukey HSD, FWER=0.05\n",
      "===================================================\n",
      "group1 group2 meandiff p-adj  lower   upper  reject\n",
      "---------------------------------------------------\n",
      "     3      4   8.7823 0.001   7.598  9.9665   True\n",
      "     3      5   0.1879   0.9 -1.0777  1.4534  False\n",
      "     4      5  -8.5944 0.001 -9.9678 -7.2209   True\n",
      "---------------------------------------------------\n"
     ]
    }
   ],
   "source": [
    "kars1 = MultiComparison(df_mc[\"memnuniyet_seviyesi\"], df_mc[\"proje_sayisi\"])    \n",
    "kars1_sonuc = kars1.tukeyhsd()\n",
    "print(kars1_sonuc)"
   ]
  },
  {
   "cell_type": "markdown",
   "id": "902b9e28-c8b6-4c9f-b773-7933721015bd",
   "metadata": {},
   "source": [
    "3 proje üreten çalışanların memnuniyeti; 4 proje üreten çalışanlara göre 8 birim  daha fazladır. \n",
    "4 proje üreten çalışanların ise 5 proje üretenlere göre memnuniyeti 8 birim daha azdır."
   ]
  }
 ],
 "metadata": {
  "kernelspec": {
   "display_name": "Python 3 (ipykernel)",
   "language": "python",
   "name": "python3"
  },
  "language_info": {
   "codemirror_mode": {
    "name": "ipython",
    "version": 3
   },
   "file_extension": ".py",
   "mimetype": "text/x-python",
   "name": "python",
   "nbconvert_exporter": "python",
   "pygments_lexer": "ipython3",
   "version": "3.9.9"
  }
 },
 "nbformat": 4,
 "nbformat_minor": 5
}
