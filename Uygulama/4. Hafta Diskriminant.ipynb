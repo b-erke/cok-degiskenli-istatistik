{
 "cells": [
  {
   "cell_type": "code",
   "execution_count": 1,
   "id": "95d680d5-155d-4278-9cf5-37d33880cacc",
   "metadata": {
    "collapsed": true,
    "jupyter": {
     "outputs_hidden": true
    },
    "tags": []
   },
   "outputs": [
    {
     "name": "stderr",
     "output_type": "stream",
     "text": [
      "C:\\Users\\berke\\outdated\\utils.py:14: OutdatedPackageWarning: The package pingouin is out of date. Your version is 0.4.0, the latest is 0.5.0.\n",
      "Set the environment variable OUTDATED_IGNORE=1 to disable these warnings.\n",
      "  return warn(\n"
     ]
    }
   ],
   "source": [
    "import pandas as pd\n",
    "import numpy as np \n",
    "from sklearn.model_selection import train_test_split\n",
    "from sklearn.model_selection import RepeatedStratifiedKFold\n",
    "from sklearn.model_selection import cross_val_score\n",
    "from sklearn.discriminant_analysis import LinearDiscriminantAnalysis \n",
    "from pingouin import multivariate_normality\n",
    "import matplotlib.pyplot as plt\n",
    "import scipy.stats as stats \n",
    "import seaborn as sns"
   ]
  },
  {
   "cell_type": "markdown",
   "id": "91054a57-ebcc-4cf9-8506-820073be073a",
   "metadata": {},
   "source": [
    "## Veri Setini Yükleme"
   ]
  },
  {
   "cell_type": "code",
   "execution_count": 42,
   "id": "5385750a-56a5-43db-9f97-d285ac0d38af",
   "metadata": {},
   "outputs": [],
   "source": [
    "df = pd.read_csv(\"imünoterapi2015.csv\", sep=\";\")"
   ]
  },
  {
   "cell_type": "code",
   "execution_count": 43,
   "id": "760bc06c-e2ae-4523-9f6d-e3ee7ba1bb20",
   "metadata": {},
   "outputs": [
    {
     "data": {
      "text/html": [
       "<div>\n",
       "<style scoped>\n",
       "    .dataframe tbody tr th:only-of-type {\n",
       "        vertical-align: middle;\n",
       "    }\n",
       "\n",
       "    .dataframe tbody tr th {\n",
       "        vertical-align: top;\n",
       "    }\n",
       "\n",
       "    .dataframe thead th {\n",
       "        text-align: right;\n",
       "    }\n",
       "</style>\n",
       "<table border=\"1\" class=\"dataframe\">\n",
       "  <thead>\n",
       "    <tr style=\"text-align: right;\">\n",
       "      <th></th>\n",
       "      <th>Yas</th>\n",
       "      <th>Zaman</th>\n",
       "      <th>TumorSayisi</th>\n",
       "      <th>Bolge</th>\n",
       "      <th>Endurasyon</th>\n",
       "      <th>Cinsiyet</th>\n",
       "      <th>Tur1</th>\n",
       "      <th>Tur2</th>\n",
       "      <th>Tur3</th>\n",
       "      <th>Tedavi</th>\n",
       "    </tr>\n",
       "  </thead>\n",
       "  <tbody>\n",
       "    <tr>\n",
       "      <th>0</th>\n",
       "      <td>19</td>\n",
       "      <td>2</td>\n",
       "      <td>2</td>\n",
       "      <td>60</td>\n",
       "      <td>7</td>\n",
       "      <td>1</td>\n",
       "      <td>1</td>\n",
       "      <td>0</td>\n",
       "      <td>0</td>\n",
       "      <td>1</td>\n",
       "    </tr>\n",
       "    <tr>\n",
       "      <th>1</th>\n",
       "      <td>16</td>\n",
       "      <td>11</td>\n",
       "      <td>2</td>\n",
       "      <td>100</td>\n",
       "      <td>25</td>\n",
       "      <td>0</td>\n",
       "      <td>1</td>\n",
       "      <td>0</td>\n",
       "      <td>0</td>\n",
       "      <td>1</td>\n",
       "    </tr>\n",
       "    <tr>\n",
       "      <th>2</th>\n",
       "      <td>15</td>\n",
       "      <td>2</td>\n",
       "      <td>10</td>\n",
       "      <td>70</td>\n",
       "      <td>21</td>\n",
       "      <td>1</td>\n",
       "      <td>0</td>\n",
       "      <td>0</td>\n",
       "      <td>1</td>\n",
       "      <td>1</td>\n",
       "    </tr>\n",
       "    <tr>\n",
       "      <th>3</th>\n",
       "      <td>32</td>\n",
       "      <td>12</td>\n",
       "      <td>9</td>\n",
       "      <td>43</td>\n",
       "      <td>50</td>\n",
       "      <td>0</td>\n",
       "      <td>1</td>\n",
       "      <td>0</td>\n",
       "      <td>0</td>\n",
       "      <td>0</td>\n",
       "    </tr>\n",
       "    <tr>\n",
       "      <th>4</th>\n",
       "      <td>15</td>\n",
       "      <td>8</td>\n",
       "      <td>12</td>\n",
       "      <td>30</td>\n",
       "      <td>28</td>\n",
       "      <td>1</td>\n",
       "      <td>1</td>\n",
       "      <td>0</td>\n",
       "      <td>0</td>\n",
       "      <td>1</td>\n",
       "    </tr>\n",
       "  </tbody>\n",
       "</table>\n",
       "</div>"
      ],
      "text/plain": [
       "   Yas  Zaman  TumorSayisi  Bolge  Endurasyon  Cinsiyet  Tur1  Tur2  Tur3  \\\n",
       "0   19      2            2     60           7         1     1     0     0   \n",
       "1   16     11            2    100          25         0     1     0     0   \n",
       "2   15      2           10     70          21         1     0     0     1   \n",
       "3   32     12            9     43          50         0     1     0     0   \n",
       "4   15      8           12     30          28         1     1     0     0   \n",
       "\n",
       "   Tedavi  \n",
       "0       1  \n",
       "1       1  \n",
       "2       1  \n",
       "3       0  \n",
       "4       1  "
      ]
     },
     "execution_count": 43,
     "metadata": {},
     "output_type": "execute_result"
    }
   ],
   "source": [
    "df.head()"
   ]
  },
  {
   "cell_type": "code",
   "execution_count": 44,
   "id": "2d6df46d-92fe-45fb-9f10-44f84cd5a400",
   "metadata": {},
   "outputs": [
    {
     "name": "stdout",
     "output_type": "stream",
     "text": [
      "<class 'pandas.core.frame.DataFrame'>\n",
      "RangeIndex: 90 entries, 0 to 89\n",
      "Data columns (total 10 columns):\n",
      " #   Column       Non-Null Count  Dtype\n",
      "---  ------       --------------  -----\n",
      " 0   Yas          90 non-null     int64\n",
      " 1   Zaman        90 non-null     int64\n",
      " 2   TumorSayisi  90 non-null     int64\n",
      " 3   Bolge        90 non-null     int64\n",
      " 4   Endurasyon   90 non-null     int64\n",
      " 5   Cinsiyet     90 non-null     int64\n",
      " 6   Tur1         90 non-null     int64\n",
      " 7   Tur2         90 non-null     int64\n",
      " 8   Tur3         90 non-null     int64\n",
      " 9   Tedavi       90 non-null     int64\n",
      "dtypes: int64(10)\n",
      "memory usage: 7.2 KB\n"
     ]
    }
   ],
   "source": [
    "df.info()"
   ]
  },
  {
   "cell_type": "code",
   "execution_count": 46,
   "id": "f3434e37-3e46-4fc1-b874-4631daf6fbbf",
   "metadata": {},
   "outputs": [
    {
     "data": {
      "text/html": [
       "<div>\n",
       "<style scoped>\n",
       "    .dataframe tbody tr th:only-of-type {\n",
       "        vertical-align: middle;\n",
       "    }\n",
       "\n",
       "    .dataframe tbody tr th {\n",
       "        vertical-align: top;\n",
       "    }\n",
       "\n",
       "    .dataframe thead th {\n",
       "        text-align: right;\n",
       "    }\n",
       "</style>\n",
       "<table border=\"1\" class=\"dataframe\">\n",
       "  <thead>\n",
       "    <tr style=\"text-align: right;\">\n",
       "      <th></th>\n",
       "      <th>count</th>\n",
       "      <th>mean</th>\n",
       "      <th>std</th>\n",
       "      <th>min</th>\n",
       "      <th>25%</th>\n",
       "      <th>50%</th>\n",
       "      <th>75%</th>\n",
       "      <th>max</th>\n",
       "    </tr>\n",
       "  </thead>\n",
       "  <tbody>\n",
       "    <tr>\n",
       "      <th>Yas</th>\n",
       "      <td>90.0</td>\n",
       "      <td>27.944444</td>\n",
       "      <td>9.551000</td>\n",
       "      <td>15.0</td>\n",
       "      <td>20.0</td>\n",
       "      <td>27.0</td>\n",
       "      <td>35.00</td>\n",
       "      <td>48.0</td>\n",
       "    </tr>\n",
       "    <tr>\n",
       "      <th>Zaman</th>\n",
       "      <td>90.0</td>\n",
       "      <td>8.055556</td>\n",
       "      <td>2.678928</td>\n",
       "      <td>2.0</td>\n",
       "      <td>6.0</td>\n",
       "      <td>8.0</td>\n",
       "      <td>10.75</td>\n",
       "      <td>12.0</td>\n",
       "    </tr>\n",
       "    <tr>\n",
       "      <th>TumorSayisi</th>\n",
       "      <td>90.0</td>\n",
       "      <td>5.244444</td>\n",
       "      <td>2.969172</td>\n",
       "      <td>1.0</td>\n",
       "      <td>3.0</td>\n",
       "      <td>5.0</td>\n",
       "      <td>8.00</td>\n",
       "      <td>12.0</td>\n",
       "    </tr>\n",
       "    <tr>\n",
       "      <th>Bolge</th>\n",
       "      <td>90.0</td>\n",
       "      <td>56.511111</td>\n",
       "      <td>29.640257</td>\n",
       "      <td>6.0</td>\n",
       "      <td>30.5</td>\n",
       "      <td>60.0</td>\n",
       "      <td>80.00</td>\n",
       "      <td>100.0</td>\n",
       "    </tr>\n",
       "    <tr>\n",
       "      <th>Endurasyon</th>\n",
       "      <td>90.0</td>\n",
       "      <td>20.022222</td>\n",
       "      <td>17.038606</td>\n",
       "      <td>2.0</td>\n",
       "      <td>7.0</td>\n",
       "      <td>11.0</td>\n",
       "      <td>30.00</td>\n",
       "      <td>62.0</td>\n",
       "    </tr>\n",
       "    <tr>\n",
       "      <th>Cinsiyet</th>\n",
       "      <td>90.0</td>\n",
       "      <td>0.511111</td>\n",
       "      <td>0.502677</td>\n",
       "      <td>0.0</td>\n",
       "      <td>0.0</td>\n",
       "      <td>1.0</td>\n",
       "      <td>1.00</td>\n",
       "      <td>1.0</td>\n",
       "    </tr>\n",
       "    <tr>\n",
       "      <th>Tur1</th>\n",
       "      <td>90.0</td>\n",
       "      <td>0.577778</td>\n",
       "      <td>0.496681</td>\n",
       "      <td>0.0</td>\n",
       "      <td>0.0</td>\n",
       "      <td>1.0</td>\n",
       "      <td>1.00</td>\n",
       "      <td>1.0</td>\n",
       "    </tr>\n",
       "    <tr>\n",
       "      <th>Tur2</th>\n",
       "      <td>90.0</td>\n",
       "      <td>0.177778</td>\n",
       "      <td>0.384467</td>\n",
       "      <td>0.0</td>\n",
       "      <td>0.0</td>\n",
       "      <td>0.0</td>\n",
       "      <td>0.00</td>\n",
       "      <td>1.0</td>\n",
       "    </tr>\n",
       "    <tr>\n",
       "      <th>Tur3</th>\n",
       "      <td>90.0</td>\n",
       "      <td>0.244444</td>\n",
       "      <td>0.432165</td>\n",
       "      <td>0.0</td>\n",
       "      <td>0.0</td>\n",
       "      <td>0.0</td>\n",
       "      <td>0.00</td>\n",
       "      <td>1.0</td>\n",
       "    </tr>\n",
       "    <tr>\n",
       "      <th>Tedavi</th>\n",
       "      <td>90.0</td>\n",
       "      <td>0.688889</td>\n",
       "      <td>0.465542</td>\n",
       "      <td>0.0</td>\n",
       "      <td>0.0</td>\n",
       "      <td>1.0</td>\n",
       "      <td>1.00</td>\n",
       "      <td>1.0</td>\n",
       "    </tr>\n",
       "  </tbody>\n",
       "</table>\n",
       "</div>"
      ],
      "text/plain": [
       "             count       mean        std   min   25%   50%    75%    max\n",
       "Yas           90.0  27.944444   9.551000  15.0  20.0  27.0  35.00   48.0\n",
       "Zaman         90.0   8.055556   2.678928   2.0   6.0   8.0  10.75   12.0\n",
       "TumorSayisi   90.0   5.244444   2.969172   1.0   3.0   5.0   8.00   12.0\n",
       "Bolge         90.0  56.511111  29.640257   6.0  30.5  60.0  80.00  100.0\n",
       "Endurasyon    90.0  20.022222  17.038606   2.0   7.0  11.0  30.00   62.0\n",
       "Cinsiyet      90.0   0.511111   0.502677   0.0   0.0   1.0   1.00    1.0\n",
       "Tur1          90.0   0.577778   0.496681   0.0   0.0   1.0   1.00    1.0\n",
       "Tur2          90.0   0.177778   0.384467   0.0   0.0   0.0   0.00    1.0\n",
       "Tur3          90.0   0.244444   0.432165   0.0   0.0   0.0   0.00    1.0\n",
       "Tedavi        90.0   0.688889   0.465542   0.0   0.0   1.0   1.00    1.0"
      ]
     },
     "execution_count": 46,
     "metadata": {},
     "output_type": "execute_result"
    }
   ],
   "source": [
    "df.describe().T"
   ]
  },
  {
   "cell_type": "markdown",
   "id": "442e6abc-559d-400b-af8a-5450760b6347",
   "metadata": {},
   "source": [
    "## Çoklu Doğrusallık"
   ]
  },
  {
   "cell_type": "code",
   "execution_count": 47,
   "id": "d0c85bc8-fd7b-4dea-aa15-c9813b2803ff",
   "metadata": {},
   "outputs": [
    {
     "data": {
      "text/html": [
       "<div>\n",
       "<style scoped>\n",
       "    .dataframe tbody tr th:only-of-type {\n",
       "        vertical-align: middle;\n",
       "    }\n",
       "\n",
       "    .dataframe tbody tr th {\n",
       "        vertical-align: top;\n",
       "    }\n",
       "\n",
       "    .dataframe thead th {\n",
       "        text-align: right;\n",
       "    }\n",
       "</style>\n",
       "<table border=\"1\" class=\"dataframe\">\n",
       "  <thead>\n",
       "    <tr style=\"text-align: right;\">\n",
       "      <th></th>\n",
       "      <th>Yas</th>\n",
       "      <th>Zaman</th>\n",
       "      <th>TumorSayisi</th>\n",
       "      <th>Bolge</th>\n",
       "      <th>Endurasyon</th>\n",
       "      <th>Cinsiyet</th>\n",
       "      <th>Tur1</th>\n",
       "      <th>Tur2</th>\n",
       "      <th>Tur3</th>\n",
       "      <th>Tedavi</th>\n",
       "    </tr>\n",
       "  </thead>\n",
       "  <tbody>\n",
       "    <tr>\n",
       "      <th>Yas</th>\n",
       "      <td>1.00</td>\n",
       "      <td>0.39</td>\n",
       "      <td>0.12</td>\n",
       "      <td>0.11</td>\n",
       "      <td>-0.05</td>\n",
       "      <td>-0.04</td>\n",
       "      <td>-0.21</td>\n",
       "      <td>0.31</td>\n",
       "      <td>-0.03</td>\n",
       "      <td>-0.31</td>\n",
       "    </tr>\n",
       "    <tr>\n",
       "      <th>Zaman</th>\n",
       "      <td>0.39</td>\n",
       "      <td>1.00</td>\n",
       "      <td>-0.07</td>\n",
       "      <td>0.00</td>\n",
       "      <td>-0.04</td>\n",
       "      <td>0.05</td>\n",
       "      <td>-0.16</td>\n",
       "      <td>0.22</td>\n",
       "      <td>-0.01</td>\n",
       "      <td>-0.63</td>\n",
       "    </tr>\n",
       "    <tr>\n",
       "      <th>TumorSayisi</th>\n",
       "      <td>0.12</td>\n",
       "      <td>-0.07</td>\n",
       "      <td>1.00</td>\n",
       "      <td>0.11</td>\n",
       "      <td>0.07</td>\n",
       "      <td>-0.02</td>\n",
       "      <td>-0.10</td>\n",
       "      <td>0.05</td>\n",
       "      <td>0.07</td>\n",
       "      <td>-0.01</td>\n",
       "    </tr>\n",
       "    <tr>\n",
       "      <th>Bolge</th>\n",
       "      <td>0.11</td>\n",
       "      <td>0.00</td>\n",
       "      <td>0.11</td>\n",
       "      <td>1.00</td>\n",
       "      <td>0.22</td>\n",
       "      <td>-0.04</td>\n",
       "      <td>-0.12</td>\n",
       "      <td>-0.15</td>\n",
       "      <td>0.27</td>\n",
       "      <td>-0.16</td>\n",
       "    </tr>\n",
       "    <tr>\n",
       "      <th>Endurasyon</th>\n",
       "      <td>-0.05</td>\n",
       "      <td>-0.04</td>\n",
       "      <td>0.07</td>\n",
       "      <td>0.22</td>\n",
       "      <td>1.00</td>\n",
       "      <td>0.07</td>\n",
       "      <td>0.01</td>\n",
       "      <td>-0.05</td>\n",
       "      <td>0.03</td>\n",
       "      <td>-0.21</td>\n",
       "    </tr>\n",
       "    <tr>\n",
       "      <th>Cinsiyet</th>\n",
       "      <td>-0.04</td>\n",
       "      <td>0.05</td>\n",
       "      <td>-0.02</td>\n",
       "      <td>-0.04</td>\n",
       "      <td>0.07</td>\n",
       "      <td>1.00</td>\n",
       "      <td>-0.07</td>\n",
       "      <td>-0.01</td>\n",
       "      <td>0.09</td>\n",
       "      <td>-0.18</td>\n",
       "    </tr>\n",
       "    <tr>\n",
       "      <th>Tur1</th>\n",
       "      <td>-0.21</td>\n",
       "      <td>-0.16</td>\n",
       "      <td>-0.10</td>\n",
       "      <td>-0.12</td>\n",
       "      <td>0.01</td>\n",
       "      <td>-0.07</td>\n",
       "      <td>1.00</td>\n",
       "      <td>-0.54</td>\n",
       "      <td>-0.67</td>\n",
       "      <td>0.20</td>\n",
       "    </tr>\n",
       "    <tr>\n",
       "      <th>Tur2</th>\n",
       "      <td>0.31</td>\n",
       "      <td>0.22</td>\n",
       "      <td>0.05</td>\n",
       "      <td>-0.15</td>\n",
       "      <td>-0.05</td>\n",
       "      <td>-0.01</td>\n",
       "      <td>-0.54</td>\n",
       "      <td>1.00</td>\n",
       "      <td>-0.26</td>\n",
       "      <td>0.06</td>\n",
       "    </tr>\n",
       "    <tr>\n",
       "      <th>Tur3</th>\n",
       "      <td>-0.03</td>\n",
       "      <td>-0.01</td>\n",
       "      <td>0.07</td>\n",
       "      <td>0.27</td>\n",
       "      <td>0.03</td>\n",
       "      <td>0.09</td>\n",
       "      <td>-0.67</td>\n",
       "      <td>-0.26</td>\n",
       "      <td>1.00</td>\n",
       "      <td>-0.29</td>\n",
       "    </tr>\n",
       "    <tr>\n",
       "      <th>Tedavi</th>\n",
       "      <td>-0.31</td>\n",
       "      <td>-0.63</td>\n",
       "      <td>-0.01</td>\n",
       "      <td>-0.16</td>\n",
       "      <td>-0.21</td>\n",
       "      <td>-0.18</td>\n",
       "      <td>0.20</td>\n",
       "      <td>0.06</td>\n",
       "      <td>-0.29</td>\n",
       "      <td>1.00</td>\n",
       "    </tr>\n",
       "  </tbody>\n",
       "</table>\n",
       "</div>"
      ],
      "text/plain": [
       "              Yas  Zaman  TumorSayisi  Bolge  Endurasyon  Cinsiyet  Tur1  \\\n",
       "Yas          1.00   0.39         0.12   0.11       -0.05     -0.04 -0.21   \n",
       "Zaman        0.39   1.00        -0.07   0.00       -0.04      0.05 -0.16   \n",
       "TumorSayisi  0.12  -0.07         1.00   0.11        0.07     -0.02 -0.10   \n",
       "Bolge        0.11   0.00         0.11   1.00        0.22     -0.04 -0.12   \n",
       "Endurasyon  -0.05  -0.04         0.07   0.22        1.00      0.07  0.01   \n",
       "Cinsiyet    -0.04   0.05        -0.02  -0.04        0.07      1.00 -0.07   \n",
       "Tur1        -0.21  -0.16        -0.10  -0.12        0.01     -0.07  1.00   \n",
       "Tur2         0.31   0.22         0.05  -0.15       -0.05     -0.01 -0.54   \n",
       "Tur3        -0.03  -0.01         0.07   0.27        0.03      0.09 -0.67   \n",
       "Tedavi      -0.31  -0.63        -0.01  -0.16       -0.21     -0.18  0.20   \n",
       "\n",
       "             Tur2  Tur3  Tedavi  \n",
       "Yas          0.31 -0.03   -0.31  \n",
       "Zaman        0.22 -0.01   -0.63  \n",
       "TumorSayisi  0.05  0.07   -0.01  \n",
       "Bolge       -0.15  0.27   -0.16  \n",
       "Endurasyon  -0.05  0.03   -0.21  \n",
       "Cinsiyet    -0.01  0.09   -0.18  \n",
       "Tur1        -0.54 -0.67    0.20  \n",
       "Tur2         1.00 -0.26    0.06  \n",
       "Tur3        -0.26  1.00   -0.29  \n",
       "Tedavi       0.06 -0.29    1.00  "
      ]
     },
     "execution_count": 47,
     "metadata": {},
     "output_type": "execute_result"
    }
   ],
   "source": [
    "# Korelasyon\n",
    "df.corr().round(2)"
   ]
  },
  {
   "cell_type": "markdown",
   "id": "6b1db6c9-bca6-4481-811c-49dd28087b8a",
   "metadata": {},
   "source": [
    "## VIF Değerleri"
   ]
  },
  {
   "cell_type": "code",
   "execution_count": 48,
   "id": "b19e0642-ca96-4fdd-a5ab-f8a3e0971dbe",
   "metadata": {},
   "outputs": [],
   "source": [
    "from statsmodels.stats.outliers_influence import variance_inflation_factor\n",
    "X = df.drop([\"Tedavi\"], axis=1)\n",
    "y = df[\"Tedavi\"]"
   ]
  },
  {
   "cell_type": "code",
   "execution_count": 49,
   "id": "b4fe7de9-78d8-44df-bcdd-f1f84a330c8a",
   "metadata": {},
   "outputs": [
    {
     "data": {
      "text/html": [
       "<div>\n",
       "<style scoped>\n",
       "    .dataframe tbody tr th:only-of-type {\n",
       "        vertical-align: middle;\n",
       "    }\n",
       "\n",
       "    .dataframe tbody tr th {\n",
       "        vertical-align: top;\n",
       "    }\n",
       "\n",
       "    .dataframe thead th {\n",
       "        text-align: right;\n",
       "    }\n",
       "</style>\n",
       "<table border=\"1\" class=\"dataframe\">\n",
       "  <thead>\n",
       "    <tr style=\"text-align: right;\">\n",
       "      <th></th>\n",
       "      <th>Yas</th>\n",
       "      <th>Zaman</th>\n",
       "      <th>TumorSayisi</th>\n",
       "      <th>Bolge</th>\n",
       "      <th>Endurasyon</th>\n",
       "      <th>Cinsiyet</th>\n",
       "      <th>Tur1</th>\n",
       "      <th>Tur2</th>\n",
       "      <th>Tur3</th>\n",
       "    </tr>\n",
       "  </thead>\n",
       "  <tbody>\n",
       "    <tr>\n",
       "      <th>vif</th>\n",
       "      <td>1.329938</td>\n",
       "      <td>1.225099</td>\n",
       "      <td>1.048634</td>\n",
       "      <td>1.190891</td>\n",
       "      <td>1.070404</td>\n",
       "      <td>1.027049</td>\n",
       "      <td>12.187822</td>\n",
       "      <td>5.726013</td>\n",
       "      <td>6.760243</td>\n",
       "    </tr>\n",
       "  </tbody>\n",
       "</table>\n",
       "</div>"
      ],
      "text/plain": [
       "          Yas     Zaman  TumorSayisi     Bolge  Endurasyon  Cinsiyet  \\\n",
       "vif  1.329938  1.225099     1.048634  1.190891    1.070404  1.027049   \n",
       "\n",
       "          Tur1      Tur2      Tur3  \n",
       "vif  12.187822  5.726013  6.760243  "
      ]
     },
     "execution_count": 49,
     "metadata": {},
     "output_type": "execute_result"
    }
   ],
   "source": [
    "#vif\n",
    "vif = [variance_inflation_factor(X.values, i) for i in range (X.shape[1])]\n",
    "pd.DataFrame({'vif': vif[0:]}, index=X.columns).T"
   ]
  },
  {
   "cell_type": "markdown",
   "id": "4c9214a3-a2e7-4f9f-895d-052d15cb9125",
   "metadata": {},
   "source": [
    "VIF > 10 olan Tur1 değişkeni veri setinden çıkarıldıktan sonraki VIF değerleri:"
   ]
  },
  {
   "cell_type": "code",
   "execution_count": 50,
   "id": "8336ed8e-8ac4-4501-871f-03f0c3c3a014",
   "metadata": {},
   "outputs": [
    {
     "data": {
      "text/html": [
       "<div>\n",
       "<style scoped>\n",
       "    .dataframe tbody tr th:only-of-type {\n",
       "        vertical-align: middle;\n",
       "    }\n",
       "\n",
       "    .dataframe tbody tr th {\n",
       "        vertical-align: top;\n",
       "    }\n",
       "\n",
       "    .dataframe thead th {\n",
       "        text-align: right;\n",
       "    }\n",
       "</style>\n",
       "<table border=\"1\" class=\"dataframe\">\n",
       "  <thead>\n",
       "    <tr style=\"text-align: right;\">\n",
       "      <th></th>\n",
       "      <th>Yas</th>\n",
       "      <th>Zaman</th>\n",
       "      <th>TumorSayisi</th>\n",
       "      <th>Bolge</th>\n",
       "      <th>Endurasyon</th>\n",
       "      <th>Cinsiyet</th>\n",
       "      <th>Tur2</th>\n",
       "      <th>Tur3</th>\n",
       "    </tr>\n",
       "  </thead>\n",
       "  <tbody>\n",
       "    <tr>\n",
       "      <th>vif</th>\n",
       "      <td>11.214997</td>\n",
       "      <td>9.480592</td>\n",
       "      <td>3.883373</td>\n",
       "      <td>5.187772</td>\n",
       "      <td>2.473877</td>\n",
       "      <td>2.006987</td>\n",
       "      <td>1.485456</td>\n",
       "      <td>1.539714</td>\n",
       "    </tr>\n",
       "  </tbody>\n",
       "</table>\n",
       "</div>"
      ],
      "text/plain": [
       "           Yas     Zaman  TumorSayisi     Bolge  Endurasyon  Cinsiyet  \\\n",
       "vif  11.214997  9.480592     3.883373  5.187772    2.473877  2.006987   \n",
       "\n",
       "         Tur2      Tur3  \n",
       "vif  1.485456  1.539714  "
      ]
     },
     "execution_count": 50,
     "metadata": {},
     "output_type": "execute_result"
    }
   ],
   "source": [
    "X = df.drop([\"Tedavi\", \"Tur1\"], axis=1)\n",
    "y = df[\"Tedavi\"]\n",
    "vif = [variance_inflation_factor(X.values, i) for i in range (X.shape[1])]\n",
    "pd.DataFrame({'vif': vif[0:]}, index=X.columns).T"
   ]
  },
  {
   "cell_type": "markdown",
   "id": "94457aae-642a-4ba7-8d1a-f50a8b0c5836",
   "metadata": {},
   "source": [
    "VIF > 10 olan Zaman değişkeni veri setinden çıkarıldıktan sonraki VIF değerleri:"
   ]
  },
  {
   "cell_type": "code",
   "execution_count": 51,
   "id": "eab0cfe8-e35b-439b-8ac7-132841446987",
   "metadata": {},
   "outputs": [
    {
     "data": {
      "text/html": [
       "<div>\n",
       "<style scoped>\n",
       "    .dataframe tbody tr th:only-of-type {\n",
       "        vertical-align: middle;\n",
       "    }\n",
       "\n",
       "    .dataframe tbody tr th {\n",
       "        vertical-align: top;\n",
       "    }\n",
       "\n",
       "    .dataframe thead th {\n",
       "        text-align: right;\n",
       "    }\n",
       "</style>\n",
       "<table border=\"1\" class=\"dataframe\">\n",
       "  <thead>\n",
       "    <tr style=\"text-align: right;\">\n",
       "      <th></th>\n",
       "      <th>Yas</th>\n",
       "      <th>TumorSayisi</th>\n",
       "      <th>Bolge</th>\n",
       "      <th>Endurasyon</th>\n",
       "      <th>Cinsiyet</th>\n",
       "      <th>Tur2</th>\n",
       "      <th>Tur3</th>\n",
       "    </tr>\n",
       "  </thead>\n",
       "  <tbody>\n",
       "    <tr>\n",
       "      <th>vif</th>\n",
       "      <td>6.432108</td>\n",
       "      <td>3.875535</td>\n",
       "      <td>5.091789</td>\n",
       "      <td>2.452349</td>\n",
       "      <td>1.924388</td>\n",
       "      <td>1.476623</td>\n",
       "      <td>1.537665</td>\n",
       "    </tr>\n",
       "  </tbody>\n",
       "</table>\n",
       "</div>"
      ],
      "text/plain": [
       "          Yas  TumorSayisi     Bolge  Endurasyon  Cinsiyet      Tur2      Tur3\n",
       "vif  6.432108     3.875535  5.091789    2.452349  1.924388  1.476623  1.537665"
      ]
     },
     "execution_count": 51,
     "metadata": {},
     "output_type": "execute_result"
    }
   ],
   "source": [
    "X = df.drop([\"Tedavi\", \"Tur1\", \"Zaman\"], axis=1)\n",
    "y = df[\"Tedavi\"]\n",
    "vif = [variance_inflation_factor(X.values, i) for i in range (X.shape[1])]\n",
    "pd.DataFrame({'vif': vif[0:]}, index=X.columns).T"
   ]
  },
  {
   "cell_type": "markdown",
   "id": "3bff2d16-ee21-401e-a36d-1f3e9e0283ce",
   "metadata": {},
   "source": [
    "Kalan değişkenlere bakıldığında çoklu doğrusallık sorunun olmadığı söyleyenebilir."
   ]
  },
  {
   "cell_type": "markdown",
   "id": "83615ec3-55c8-469e-ad28-50414b8b9f88",
   "metadata": {},
   "source": [
    "## Değişken Dağılımları"
   ]
  },
  {
   "cell_type": "code",
   "execution_count": 52,
   "id": "c97ca265-b67c-4895-a6ac-2b998c6b5237",
   "metadata": {},
   "outputs": [
    {
     "data": {
      "image/png": "[encoded data removed]",
      "text/plain": [
       "<Figure size 1440x720 with 20 Axes>"
      ]
     },
     "metadata": {
      "needs_background": "light"
     },
     "output_type": "display_data"
    }
   ],
   "source": [
    "df.plot(kind='density', subplots=True, layout=(5,4), sharex=False, figsize=(20, 10))\n",
    "plt.show()"
   ]
  },
  {
   "cell_type": "markdown",
   "id": "b1603aaa-5695-488c-b7e7-5f435c52c349",
   "metadata": {},
   "source": [
    "## Çoklu Normallik Varsayımı"
   ]
  },
  {
   "cell_type": "code",
   "execution_count": 54,
   "id": "65240f7d-bc79-49dc-9294-003bf3ccb814",
   "metadata": {
    "tags": []
   },
   "outputs": [
    {
     "data": {
      "text/plain": [
       "HZResults(hz=17.785094377702993, pval=0.0, normal=False)"
      ]
     },
     "execution_count": 54,
     "metadata": {},
     "output_type": "execute_result"
    }
   ],
   "source": [
    "multivariate_normality(X, alpha=.05)"
   ]
  },
  {
   "cell_type": "markdown",
   "id": "e2dcead4-d581-4ef2-8623-480af9bf2763",
   "metadata": {},
   "source": [
    "p=0.00 olması sebebiyle H0 red, %95 güvenilirlikle bağımlı değişken normal dağılıma uygun değildir."
   ]
  },
  {
   "cell_type": "code",
   "execution_count": 19,
   "id": "6fd908a3-b910-466d-9376-5e0c5bc71cbb",
   "metadata": {
    "tags": []
   },
   "outputs": [
    {
     "name": "stdout",
     "output_type": "stream",
     "text": [
      "NormaltestResult(statistic=3359.1808716741552, pvalue=0.0)\n"
     ]
    }
   ],
   "source": [
    "print(stats.normaltest(df[\"target\"]))"
   ]
  },
  {
   "cell_type": "markdown",
   "id": "be44b9bc-da1c-451f-ae51-e134d88a18e0",
   "metadata": {},
   "source": [
    "p=0.00 olması sebebiyle H0 red, %95 güvenilirlikle bağımlı değişken normal dağılıma uygun değildir."
   ]
  },
  {
   "cell_type": "markdown",
   "id": "26b6e5e9-a593-4257-a9a3-8b471b2738b6",
   "metadata": {},
   "source": [
    "## Kovaryans Matrislerinin Eşitliği"
   ]
  },
  {
   "cell_type": "code",
   "execution_count": 84,
   "id": "5f41ad32-2ccb-49c5-ae30-8849b764bf28",
   "metadata": {},
   "outputs": [
    {
     "name": "stdout",
     "output_type": "stream",
     "text": [
      "LeveneResult(statistic=169.1510623517462, pvalue=3.2212011380164975e-127)\n"
     ]
    }
   ],
   "source": [
    "cov = statistic, p_value = stats.levene(df[\"Cinsiyet\"], df[\"Yas\"], df['TumorSayisi'], df['Bolge'], \n",
    "                                        df['Endurasyon'], df['Tur2'],df['Tur3'], center=\"mean\")\n",
    "print(cov)"
   ]
  },
  {
   "cell_type": "markdown",
   "id": "67b28a6e-d825-4845-a8b5-11ff1ff87cc6",
   "metadata": {},
   "source": [
    "p değeri > 0.05 olduğundan kovaryans matrisleri eşittir. "
   ]
  },
  {
   "cell_type": "markdown",
   "id": "6e27912a-d90b-48b5-80f3-8d8840d6e49c",
   "metadata": {},
   "source": [
    "## Diskriminant Analizi"
   ]
  },
  {
   "cell_type": "code",
   "execution_count": 85,
   "id": "586ccb02-4ffc-4e10-8b74-2e9cd51c4c1a",
   "metadata": {},
   "outputs": [],
   "source": [
    "from numpy import arange\n",
    "from sklearn.datasets import make_classification\n",
    "from sklearn.model_selection import GridSearchCV\n",
    "from sklearn.model_selection import RepeatedStratifiedKFold\n",
    "from sklearn.discriminant_analysis import LinearDiscriminantAnalysis"
   ]
  },
  {
   "cell_type": "code",
   "execution_count": 86,
   "id": "63bbd7c9-514b-444b-a423-6d10722f56b1",
   "metadata": {},
   "outputs": [
    {
     "data": {
      "text/plain": [
       "LinearDiscriminantAnalysis(store_covariance=True)"
      ]
     },
     "execution_count": 86,
     "metadata": {},
     "output_type": "execute_result"
    }
   ],
   "source": [
    "#diskriminant modeli\n",
    "model = LinearDiscriminantAnalysis(store_covariance=True)\n",
    "model.fit(X, y)"
   ]
  },
  {
   "cell_type": "markdown",
   "id": "e3ded541-c202-48f8-b2f8-83fcce60d9f3",
   "metadata": {},
   "source": [
    "## Doğruluk Değeri"
   ]
  },
  {
   "cell_type": "code",
   "execution_count": 87,
   "id": "b3432482-4a6e-4efc-9b67-14455b39538f",
   "metadata": {},
   "outputs": [
    {
     "data": {
      "text/plain": [
       "0.8"
      ]
     },
     "execution_count": 87,
     "metadata": {},
     "output_type": "execute_result"
    }
   ],
   "source": [
    "model.score(X,y)"
   ]
  },
  {
   "cell_type": "markdown",
   "id": "ae9ce8ba-6bcb-4bb7-80b9-841eedb45c01",
   "metadata": {},
   "source": [
    "## Model Katsayıları"
   ]
  },
  {
   "cell_type": "code",
   "execution_count": 89,
   "id": "62175b56-316f-4c46-ad2b-851bf6ce4562",
   "metadata": {},
   "outputs": [
    {
     "data": {
      "text/plain": [
       "array([[-1.11974252e-01,  5.75752633e-02, -4.91624143e-04,\n",
       "        -3.47669024e-02, -8.72863388e-01,  7.09281440e-01,\n",
       "        -1.71279027e+00]])"
      ]
     },
     "execution_count": 89,
     "metadata": {},
     "output_type": "execute_result"
    }
   ],
   "source": [
    "model.coef_"
   ]
  },
  {
   "cell_type": "markdown",
   "id": "a737b140-4a45-4b93-bd80-d45af51190ec",
   "metadata": {},
   "source": [
    "## Başarılı tedavi ve Başarısız tedavi için ortalama değerler"
   ]
  },
  {
   "cell_type": "code",
   "execution_count": 94,
   "id": "86010e78-8d92-460b-a3d0-372eeafb5d92",
   "metadata": {},
   "outputs": [
    {
     "data": {
      "text/plain": [
       "array([[32.32142857,  5.28571429, 63.60714286, 25.21428571,  0.64285714,\n",
       "         0.14285714,  0.42857143],\n",
       "       [25.96774194,  5.22580645, 53.30645161, 17.67741935,  0.4516129 ,\n",
       "         0.19354839,  0.16129032]])"
      ]
     },
     "execution_count": 94,
     "metadata": {},
     "output_type": "execute_result"
    }
   ],
   "source": [
    "model.means_"
   ]
  },
  {
   "cell_type": "markdown",
   "id": "886ca7ba-1ee2-45d6-b651-bde8f1c95577",
   "metadata": {},
   "source": [
    "## Diskriminant Grafiği"
   ]
  },
  {
   "cell_type": "code",
   "execution_count": 98,
   "id": "fa088367-20b5-42b7-958e-50cb99ced9af",
   "metadata": {
    "tags": []
   },
   "outputs": [
    {
     "data": {
      "image/png": "[encoded data removed]",
      "text/plain": [
       "<Figure size 432x288 with 1 Axes>"
      ]
     },
     "metadata": {
      "needs_background": "light"
     },
     "output_type": "display_data"
    }
   ],
   "source": [
    "model = LinearDiscriminantAnalysis()\n",
    "data_plot = model.fit(X, y).transform(X)\n",
    "target_names = df.Tedavi\n",
    "plt.figure()\n",
    "colors = ['red', 'green']\n",
    "lw = 2\n",
    "for color, i, target_name in zip(colors, [0, 1], target_names):\n",
    "    plt.scatter(data_plot[y == i, 0], data_plot[y == i, 0], alpha=.8, color=color,\n",
    "                label=target_names)\n",
    "\n",
    "#display LDA plot\n",
    "plt.show()"
   ]
  }
 ],
 "metadata": {
  "kernelspec": {
   "display_name": "Python 3",
   "language": "python",
   "name": "python3"
  },
  "language_info": {
   "codemirror_mode": {
    "name": "ipython",
    "version": 3
   },
   "file_extension": ".py",
   "mimetype": "text/x-python",
   "name": "python",
   "nbconvert_exporter": "python",
   "pygments_lexer": "ipython3",
   "version": "3.8.8"
  }
 },
 "nbformat": 4,
 "nbformat_minor": 5
}
