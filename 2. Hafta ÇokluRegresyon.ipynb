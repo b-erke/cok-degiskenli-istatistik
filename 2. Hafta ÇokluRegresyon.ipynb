{
 "cells": [
  {
   "cell_type": "markdown",
   "id": "2d543b73-fc72-44c3-a72f-84a8dc7dced4",
   "metadata": {},
   "source": [
    "# Kütüphaneleri ve Veri Setini Yükleme"
   ]
  },
  {
   "cell_type": "code",
   "execution_count": 3,
   "id": "b6a1b53e-4428-4f94-94cb-27c41c616841",
   "metadata": {},
   "outputs": [],
   "source": [
    "import pandas as pd\n",
    "import numpy as np\n",
    "import matplotlib.pyplot as plt\n",
    "import statsmodels.api as sm\n",
    "import statsmodels.tsa.api as smt\n",
    "import seaborn as sns\n",
    "from sklearn.linear_model import LinearRegression\n",
    "from sklearn.model_selection import train_test_split\n",
    "from statsmodels.stats.outliers_influence import variance_inflation_factor"
   ]
  },
  {
   "cell_type": "code",
   "execution_count": 4,
   "id": "11517f6d-342a-42b8-a5ac-8264fb5975ef",
   "metadata": {},
   "outputs": [
    {
     "data": {
      "text/html": [
       "<div>\n",
       "<style scoped>\n",
       "    .dataframe tbody tr th:only-of-type {\n",
       "        vertical-align: middle;\n",
       "    }\n",
       "\n",
       "    .dataframe tbody tr th {\n",
       "        vertical-align: top;\n",
       "    }\n",
       "\n",
       "    .dataframe thead th {\n",
       "        text-align: right;\n",
       "    }\n",
       "</style>\n",
       "<table border=\"1\" class=\"dataframe\">\n",
       "  <thead>\n",
       "    <tr style=\"text-align: right;\">\n",
       "      <th></th>\n",
       "      <th>TV</th>\n",
       "      <th>Radio</th>\n",
       "      <th>Newspaper</th>\n",
       "      <th>Sales</th>\n",
       "    </tr>\n",
       "  </thead>\n",
       "  <tbody>\n",
       "    <tr>\n",
       "      <th>0</th>\n",
       "      <td>230.1</td>\n",
       "      <td>37.8</td>\n",
       "      <td>69.2</td>\n",
       "      <td>22.1</td>\n",
       "    </tr>\n",
       "    <tr>\n",
       "      <th>1</th>\n",
       "      <td>44.5</td>\n",
       "      <td>39.3</td>\n",
       "      <td>45.1</td>\n",
       "      <td>10.4</td>\n",
       "    </tr>\n",
       "    <tr>\n",
       "      <th>2</th>\n",
       "      <td>17.2</td>\n",
       "      <td>45.9</td>\n",
       "      <td>69.3</td>\n",
       "      <td>12.0</td>\n",
       "    </tr>\n",
       "    <tr>\n",
       "      <th>3</th>\n",
       "      <td>151.5</td>\n",
       "      <td>41.3</td>\n",
       "      <td>58.5</td>\n",
       "      <td>16.5</td>\n",
       "    </tr>\n",
       "    <tr>\n",
       "      <th>4</th>\n",
       "      <td>180.8</td>\n",
       "      <td>10.8</td>\n",
       "      <td>58.4</td>\n",
       "      <td>17.9</td>\n",
       "    </tr>\n",
       "  </tbody>\n",
       "</table>\n",
       "</div>"
      ],
      "text/plain": [
       "      TV  Radio  Newspaper  Sales\n",
       "0  230.1   37.8       69.2   22.1\n",
       "1   44.5   39.3       45.1   10.4\n",
       "2   17.2   45.9       69.3   12.0\n",
       "3  151.5   41.3       58.5   16.5\n",
       "4  180.8   10.8       58.4   17.9"
      ]
     },
     "execution_count": 4,
     "metadata": {},
     "output_type": "execute_result"
    }
   ],
   "source": [
    "ad = pd.read_csv(\"advertising.csv\")\n",
    "df = ad.copy()\n",
    "df.head()"
   ]
  },
  {
   "cell_type": "markdown",
   "id": "d6e29b5c-f27e-47ce-90d6-83abb36678ce",
   "metadata": {},
   "source": [
    "## Tanımsal İstatistikler"
   ]
  },
  {
   "cell_type": "code",
   "execution_count": 24,
   "id": "898eed14-b5f3-4981-ac1e-cd9ad12ec57b",
   "metadata": {},
   "outputs": [
    {
     "data": {
      "text/plain": [
       "(200, 4)"
      ]
     },
     "execution_count": 24,
     "metadata": {},
     "output_type": "execute_result"
    }
   ],
   "source": [
    "df.shape"
   ]
  },
  {
   "cell_type": "code",
   "execution_count": 25,
   "id": "0f32ac0d-0420-4ecd-bab9-dcb9c03d11d1",
   "metadata": {},
   "outputs": [
    {
     "name": "stdout",
     "output_type": "stream",
     "text": [
      "<class 'pandas.core.frame.DataFrame'>\n",
      "RangeIndex: 200 entries, 0 to 199\n",
      "Data columns (total 4 columns):\n",
      " #   Column     Non-Null Count  Dtype  \n",
      "---  ------     --------------  -----  \n",
      " 0   TV         200 non-null    float64\n",
      " 1   Radio      200 non-null    float64\n",
      " 2   Newspaper  200 non-null    float64\n",
      " 3   Sales      200 non-null    float64\n",
      "dtypes: float64(4)\n",
      "memory usage: 6.4 KB\n"
     ]
    }
   ],
   "source": [
    "df.info()"
   ]
  },
  {
   "cell_type": "code",
   "execution_count": 26,
   "id": "d243d970-7af6-419d-9bc6-55201fa1ec3f",
   "metadata": {},
   "outputs": [
    {
     "data": {
      "text/html": [
       "<div>\n",
       "<style scoped>\n",
       "    .dataframe tbody tr th:only-of-type {\n",
       "        vertical-align: middle;\n",
       "    }\n",
       "\n",
       "    .dataframe tbody tr th {\n",
       "        vertical-align: top;\n",
       "    }\n",
       "\n",
       "    .dataframe thead th {\n",
       "        text-align: right;\n",
       "    }\n",
       "</style>\n",
       "<table border=\"1\" class=\"dataframe\">\n",
       "  <thead>\n",
       "    <tr style=\"text-align: right;\">\n",
       "      <th></th>\n",
       "      <th>count</th>\n",
       "      <th>mean</th>\n",
       "      <th>std</th>\n",
       "      <th>min</th>\n",
       "      <th>25%</th>\n",
       "      <th>50%</th>\n",
       "      <th>75%</th>\n",
       "      <th>max</th>\n",
       "    </tr>\n",
       "  </thead>\n",
       "  <tbody>\n",
       "    <tr>\n",
       "      <th>TV</th>\n",
       "      <td>200.0</td>\n",
       "      <td>147.0425</td>\n",
       "      <td>85.854236</td>\n",
       "      <td>0.7</td>\n",
       "      <td>74.375</td>\n",
       "      <td>149.75</td>\n",
       "      <td>218.825</td>\n",
       "      <td>296.4</td>\n",
       "    </tr>\n",
       "    <tr>\n",
       "      <th>Radio</th>\n",
       "      <td>200.0</td>\n",
       "      <td>23.2640</td>\n",
       "      <td>14.846809</td>\n",
       "      <td>0.0</td>\n",
       "      <td>9.975</td>\n",
       "      <td>22.90</td>\n",
       "      <td>36.525</td>\n",
       "      <td>49.6</td>\n",
       "    </tr>\n",
       "    <tr>\n",
       "      <th>Newspaper</th>\n",
       "      <td>200.0</td>\n",
       "      <td>30.5540</td>\n",
       "      <td>21.778621</td>\n",
       "      <td>0.3</td>\n",
       "      <td>12.750</td>\n",
       "      <td>25.75</td>\n",
       "      <td>45.100</td>\n",
       "      <td>114.0</td>\n",
       "    </tr>\n",
       "    <tr>\n",
       "      <th>Sales</th>\n",
       "      <td>200.0</td>\n",
       "      <td>15.1305</td>\n",
       "      <td>5.283892</td>\n",
       "      <td>1.6</td>\n",
       "      <td>11.000</td>\n",
       "      <td>16.00</td>\n",
       "      <td>19.050</td>\n",
       "      <td>27.0</td>\n",
       "    </tr>\n",
       "  </tbody>\n",
       "</table>\n",
       "</div>"
      ],
      "text/plain": [
       "           count      mean        std  min     25%     50%      75%    max\n",
       "TV         200.0  147.0425  85.854236  0.7  74.375  149.75  218.825  296.4\n",
       "Radio      200.0   23.2640  14.846809  0.0   9.975   22.90   36.525   49.6\n",
       "Newspaper  200.0   30.5540  21.778621  0.3  12.750   25.75   45.100  114.0\n",
       "Sales      200.0   15.1305   5.283892  1.6  11.000   16.00   19.050   27.0"
      ]
     },
     "execution_count": 26,
     "metadata": {},
     "output_type": "execute_result"
    }
   ],
   "source": [
    "df.describe().T"
   ]
  },
  {
   "cell_type": "code",
   "execution_count": 6,
   "id": "fdf1a49b-eaec-4d50-84b0-9b2ed9161021",
   "metadata": {},
   "outputs": [
    {
     "name": "stdout",
     "output_type": "stream",
     "text": [
      "Statistics=0.988, p=0.076\n",
      "Bağımlı değişken normal dağılıma uygun (H0 REDDEDİLEMEZ)\n"
     ]
    }
   ],
   "source": [
    "#Bağımlı değişkenin normal dağılım testi\n",
    "from scipy.stats import shapiro\n",
    "stat, p = shapiro(df['Sales'])\n",
    "print('Statistics=%.3f, p=%.3f' % (stat, p))\n",
    "# interpret\n",
    "alpha = 0.05\n",
    "if p > alpha:\n",
    "    print('Bağımlı değişken normal dağılıma uygun (H0 REDDEDİLEMEZ)')\n",
    "else:\n",
    "    print('Bağımlı değişken normal dağılıma uygun değil (H0 RED)')"
   ]
  },
  {
   "cell_type": "code",
   "execution_count": 28,
   "id": "06ad5c13-14c5-47eb-8f1e-3fd136983b9d",
   "metadata": {},
   "outputs": [
    {
     "data": {
      "image/png": "[encoded data removed]",
      "text/plain": [
       "<Figure size 432x288 with 1 Axes>"
      ]
     },
     "metadata": {
      "needs_background": "light"
     },
     "output_type": "display_data"
    }
   ],
   "source": [
    "# bağımlı değ dağılımı\n",
    "sns.histplot(data=df, x='Sales', bins=15, kde=True)\n",
    "plt.show()"
   ]
  },
  {
   "cell_type": "markdown",
   "id": "fc7f34fa-d04b-43a9-abe6-b6756faf044a",
   "metadata": {},
   "source": [
    "## Korelasyon"
   ]
  },
  {
   "cell_type": "code",
   "execution_count": 29,
   "id": "bb91bc74-197b-4754-a439-00f9e48aa4b7",
   "metadata": {},
   "outputs": [
    {
     "data": {
      "text/html": [
       "<div>\n",
       "<style scoped>\n",
       "    .dataframe tbody tr th:only-of-type {\n",
       "        vertical-align: middle;\n",
       "    }\n",
       "\n",
       "    .dataframe tbody tr th {\n",
       "        vertical-align: top;\n",
       "    }\n",
       "\n",
       "    .dataframe thead th {\n",
       "        text-align: right;\n",
       "    }\n",
       "</style>\n",
       "<table border=\"1\" class=\"dataframe\">\n",
       "  <thead>\n",
       "    <tr style=\"text-align: right;\">\n",
       "      <th></th>\n",
       "      <th>TV</th>\n",
       "      <th>Radio</th>\n",
       "      <th>Newspaper</th>\n",
       "      <th>Sales</th>\n",
       "    </tr>\n",
       "  </thead>\n",
       "  <tbody>\n",
       "    <tr>\n",
       "      <th>TV</th>\n",
       "      <td>1.000000</td>\n",
       "      <td>0.054809</td>\n",
       "      <td>0.056648</td>\n",
       "      <td>0.901208</td>\n",
       "    </tr>\n",
       "    <tr>\n",
       "      <th>Radio</th>\n",
       "      <td>0.054809</td>\n",
       "      <td>1.000000</td>\n",
       "      <td>0.354104</td>\n",
       "      <td>0.349631</td>\n",
       "    </tr>\n",
       "    <tr>\n",
       "      <th>Newspaper</th>\n",
       "      <td>0.056648</td>\n",
       "      <td>0.354104</td>\n",
       "      <td>1.000000</td>\n",
       "      <td>0.157960</td>\n",
       "    </tr>\n",
       "    <tr>\n",
       "      <th>Sales</th>\n",
       "      <td>0.901208</td>\n",
       "      <td>0.349631</td>\n",
       "      <td>0.157960</td>\n",
       "      <td>1.000000</td>\n",
       "    </tr>\n",
       "  </tbody>\n",
       "</table>\n",
       "</div>"
      ],
      "text/plain": [
       "                 TV     Radio  Newspaper     Sales\n",
       "TV         1.000000  0.054809   0.056648  0.901208\n",
       "Radio      0.054809  1.000000   0.354104  0.349631\n",
       "Newspaper  0.056648  0.354104   1.000000  0.157960\n",
       "Sales      0.901208  0.349631   0.157960  1.000000"
      ]
     },
     "execution_count": 29,
     "metadata": {},
     "output_type": "execute_result"
    }
   ],
   "source": [
    "df.corr()"
   ]
  },
  {
   "cell_type": "code",
   "execution_count": 30,
   "id": "6166e3d5-e573-4b70-9ee7-a8dfd8be0f9b",
   "metadata": {},
   "outputs": [
    {
     "data": {
      "image/png": "[encoded data removed]",
      "text/plain": [
       "<Figure size 432x288 with 2 Axes>"
      ]
     },
     "metadata": {
      "needs_background": "light"
     },
     "output_type": "display_data"
    }
   ],
   "source": [
    "sns.heatmap(df.corr(), annot=True)\n",
    "plt.show()"
   ]
  },
  {
   "cell_type": "markdown",
   "id": "40f12855-2335-4adf-bc15-f877a9ff77c1",
   "metadata": {},
   "source": [
    "## Regresyon Modeli"
   ]
  },
  {
   "cell_type": "code",
   "execution_count": 31,
   "id": "b1d9fe22-4749-43d8-ac7c-8f8c1341892e",
   "metadata": {},
   "outputs": [],
   "source": [
    "X = df.drop([\"Sales\"], axis=1)\n",
    "y = df[\"Sales\"]"
   ]
  },
  {
   "cell_type": "code",
   "execution_count": 32,
   "id": "3648ffa0-fed1-4313-99bd-534bf57db18a",
   "metadata": {},
   "outputs": [],
   "source": [
    "X = sm.add_constant(X)\n",
    "lm = sm.OLS(y,X)\n",
    "model = lm.fit()"
   ]
  },
  {
   "cell_type": "code",
   "execution_count": 33,
   "id": "d28cf9ac-55ef-4414-b4a0-7e410f2e288a",
   "metadata": {},
   "outputs": [
    {
     "data": {
      "text/plain": [
       "const        4.625124\n",
       "TV           0.054446\n",
       "Radio        0.107001\n",
       "Newspaper    0.000336\n",
       "dtype: float64"
      ]
     },
     "execution_count": 33,
     "metadata": {},
     "output_type": "execute_result"
    }
   ],
   "source": [
    "model.params"
   ]
  },
  {
   "cell_type": "code",
   "execution_count": 34,
   "id": "a73a91c3-0a5a-469c-aa95-1653295d94b0",
   "metadata": {},
   "outputs": [
    {
     "name": "stdout",
     "output_type": "stream",
     "text": [
      "                            OLS Regression Results                            \n",
      "==============================================================================\n",
      "Dep. Variable:                  Sales   R-squared:                       0.903\n",
      "Model:                            OLS   Adj. R-squared:                  0.901\n",
      "Method:                 Least Squares   F-statistic:                     605.4\n",
      "Date:                Sun, 07 Nov 2021   Prob (F-statistic):           8.13e-99\n",
      "Time:                        12:36:09   Log-Likelihood:                -383.34\n",
      "No. Observations:                 200   AIC:                             774.7\n",
      "Df Residuals:                     196   BIC:                             787.9\n",
      "Df Model:                           3                                         \n",
      "Covariance Type:            nonrobust                                         \n",
      "==============================================================================\n",
      "                 coef    std err          t      P>|t|      [0.025      0.975]\n",
      "------------------------------------------------------------------------------\n",
      "const          4.6251      0.308     15.041      0.000       4.019       5.232\n",
      "TV             0.0544      0.001     39.592      0.000       0.052       0.057\n",
      "Radio          0.1070      0.008     12.604      0.000       0.090       0.124\n",
      "Newspaper      0.0003      0.006      0.058      0.954      -0.011       0.012\n",
      "==============================================================================\n",
      "Omnibus:                       16.081   Durbin-Watson:                   2.251\n",
      "Prob(Omnibus):                  0.000   Jarque-Bera (JB):               27.655\n",
      "Skew:                          -0.431   Prob(JB):                     9.88e-07\n",
      "Kurtosis:                       4.605   Cond. No.                         454.\n",
      "==============================================================================\n",
      "\n",
      "Notes:\n",
      "[1] Standard Errors assume that the covariance matrix of the errors is correctly specified.\n"
     ]
    }
   ],
   "source": [
    "print(model.summary())"
   ]
  },
  {
   "cell_type": "markdown",
   "id": "2b9a37e2-18f0-4ff5-95ad-5c750e12abcb",
   "metadata": {},
   "source": [
    "## Artık Hesaplama"
   ]
  },
  {
   "cell_type": "code",
   "execution_count": 35,
   "id": "ac0f0cef-1eef-44f0-afad-59f565e596fe",
   "metadata": {},
   "outputs": [],
   "source": [
    "#model.resid şeklinde de elde edilebilir"
   ]
  },
  {
   "cell_type": "code",
   "execution_count": 36,
   "id": "ee2421dd-e8e7-4c6b-8034-43439b9bbbff",
   "metadata": {},
   "outputs": [],
   "source": [
    "tahmin_tablosu = pd.DataFrame({\"gercek_y\": y,\n",
    "                   \"tahmin_y\": round(model.fittedvalues)})\n",
    "tahmin_tablosu[\"hata\"] = tahmin_tablosu[\"gercek_y\"] - tahmin_tablosu[\"tahmin_y\"]"
   ]
  },
  {
   "cell_type": "code",
   "execution_count": 37,
   "id": "b2fa3a5a-ce4d-494f-a487-cbcbbcd516c3",
   "metadata": {},
   "outputs": [
    {
     "data": {
      "text/html": [
       "<div>\n",
       "<style scoped>\n",
       "    .dataframe tbody tr th:only-of-type {\n",
       "        vertical-align: middle;\n",
       "    }\n",
       "\n",
       "    .dataframe tbody tr th {\n",
       "        vertical-align: top;\n",
       "    }\n",
       "\n",
       "    .dataframe thead th {\n",
       "        text-align: right;\n",
       "    }\n",
       "</style>\n",
       "<table border=\"1\" class=\"dataframe\">\n",
       "  <thead>\n",
       "    <tr style=\"text-align: right;\">\n",
       "      <th></th>\n",
       "      <th>gercek_y</th>\n",
       "      <th>tahmin_y</th>\n",
       "      <th>hata</th>\n",
       "    </tr>\n",
       "  </thead>\n",
       "  <tbody>\n",
       "    <tr>\n",
       "      <th>0</th>\n",
       "      <td>22.1</td>\n",
       "      <td>21.0</td>\n",
       "      <td>1.1</td>\n",
       "    </tr>\n",
       "    <tr>\n",
       "      <th>1</th>\n",
       "      <td>10.4</td>\n",
       "      <td>11.0</td>\n",
       "      <td>-0.6</td>\n",
       "    </tr>\n",
       "    <tr>\n",
       "      <th>2</th>\n",
       "      <td>12.0</td>\n",
       "      <td>10.0</td>\n",
       "      <td>2.0</td>\n",
       "    </tr>\n",
       "    <tr>\n",
       "      <th>3</th>\n",
       "      <td>16.5</td>\n",
       "      <td>17.0</td>\n",
       "      <td>-0.5</td>\n",
       "    </tr>\n",
       "    <tr>\n",
       "      <th>4</th>\n",
       "      <td>17.9</td>\n",
       "      <td>16.0</td>\n",
       "      <td>1.9</td>\n",
       "    </tr>\n",
       "    <tr>\n",
       "      <th>...</th>\n",
       "      <td>...</td>\n",
       "      <td>...</td>\n",
       "      <td>...</td>\n",
       "    </tr>\n",
       "    <tr>\n",
       "      <th>195</th>\n",
       "      <td>7.6</td>\n",
       "      <td>7.0</td>\n",
       "      <td>0.6</td>\n",
       "    </tr>\n",
       "    <tr>\n",
       "      <th>196</th>\n",
       "      <td>14.0</td>\n",
       "      <td>10.0</td>\n",
       "      <td>4.0</td>\n",
       "    </tr>\n",
       "    <tr>\n",
       "      <th>197</th>\n",
       "      <td>14.8</td>\n",
       "      <td>15.0</td>\n",
       "      <td>-0.2</td>\n",
       "    </tr>\n",
       "    <tr>\n",
       "      <th>198</th>\n",
       "      <td>25.5</td>\n",
       "      <td>25.0</td>\n",
       "      <td>0.5</td>\n",
       "    </tr>\n",
       "    <tr>\n",
       "      <th>199</th>\n",
       "      <td>18.4</td>\n",
       "      <td>18.0</td>\n",
       "      <td>0.4</td>\n",
       "    </tr>\n",
       "  </tbody>\n",
       "</table>\n",
       "<p>200 rows × 3 columns</p>\n",
       "</div>"
      ],
      "text/plain": [
       "     gercek_y  tahmin_y  hata\n",
       "0        22.1      21.0   1.1\n",
       "1        10.4      11.0  -0.6\n",
       "2        12.0      10.0   2.0\n",
       "3        16.5      17.0  -0.5\n",
       "4        17.9      16.0   1.9\n",
       "..        ...       ...   ...\n",
       "195       7.6       7.0   0.6\n",
       "196      14.0      10.0   4.0\n",
       "197      14.8      15.0  -0.2\n",
       "198      25.5      25.0   0.5\n",
       "199      18.4      18.0   0.4\n",
       "\n",
       "[200 rows x 3 columns]"
      ]
     },
     "execution_count": 37,
     "metadata": {},
     "output_type": "execute_result"
    }
   ],
   "source": [
    "tahmin_tablosu"
   ]
  },
  {
   "cell_type": "code",
   "execution_count": 38,
   "id": "b48dd61e-4189-4899-b4ec-e808a3f16427",
   "metadata": {},
   "outputs": [
    {
     "data": {
      "text/plain": [
       "[<matplotlib.lines.Line2D at 0x12f9384c5b0>]"
      ]
     },
     "execution_count": 38,
     "metadata": {},
     "output_type": "execute_result"
    },
    {
     "data": {
      "image/png": "[encoded data removed]",
      "text/plain": [
       "<Figure size 432x288 with 1 Axes>"
      ]
     },
     "metadata": {
      "needs_background": "light"
     },
     "output_type": "display_data"
    }
   ],
   "source": [
    "plt.plot(model.resid)"
   ]
  },
  {
   "cell_type": "code",
   "execution_count": 39,
   "id": "dbca89ae-1c11-4485-8991-bb53734b466b",
   "metadata": {},
   "outputs": [
    {
     "name": "stdout",
     "output_type": "stream",
     "text": [
      "Model Hatası: 2\n"
     ]
    }
   ],
   "source": [
    "#Modelin MSE'si\n",
    "print(\"Model Hatası:\", round(np.sqrt(np.mean(tahmin_tablosu[\"hata\"]*tahmin_tablosu[\"hata\"]))))"
   ]
  },
  {
   "cell_type": "code",
   "execution_count": 40,
   "id": "a94bd4de-a5d3-4a6b-815f-155aa0b1675e",
   "metadata": {
    "tags": []
   },
   "outputs": [],
   "source": [
    "X=X.drop(\"const\", axis=1)"
   ]
  },
  {
   "cell_type": "markdown",
   "id": "f47fb1d9-4d30-4fcc-8b37-96808077b023",
   "metadata": {},
   "source": [
    "## Çoklu Doğrusallık Varsayımı"
   ]
  },
  {
   "cell_type": "code",
   "execution_count": 41,
   "id": "395eb983-d18a-471a-b71e-2e9e66745c80",
   "metadata": {},
   "outputs": [
    {
     "data": {
      "text/html": [
       "<div>\n",
       "<style scoped>\n",
       "    .dataframe tbody tr th:only-of-type {\n",
       "        vertical-align: middle;\n",
       "    }\n",
       "\n",
       "    .dataframe tbody tr th {\n",
       "        vertical-align: top;\n",
       "    }\n",
       "\n",
       "    .dataframe thead th {\n",
       "        text-align: right;\n",
       "    }\n",
       "</style>\n",
       "<table border=\"1\" class=\"dataframe\">\n",
       "  <thead>\n",
       "    <tr style=\"text-align: right;\">\n",
       "      <th></th>\n",
       "      <th>TV</th>\n",
       "      <th>Radio</th>\n",
       "      <th>Newspaper</th>\n",
       "    </tr>\n",
       "  </thead>\n",
       "  <tbody>\n",
       "    <tr>\n",
       "      <th>vif</th>\n",
       "      <td>2.486772</td>\n",
       "      <td>3.285462</td>\n",
       "      <td>3.055245</td>\n",
       "    </tr>\n",
       "  </tbody>\n",
       "</table>\n",
       "</div>"
      ],
      "text/plain": [
       "           TV     Radio  Newspaper\n",
       "vif  2.486772  3.285462   3.055245"
      ]
     },
     "execution_count": 41,
     "metadata": {},
     "output_type": "execute_result"
    }
   ],
   "source": [
    "#vif\n",
    "vif = [variance_inflation_factor(X.values, i) for i in range (X.shape[1])]\n",
    "pd.DataFrame({'vif': vif[0:]}, index=X.columns).T"
   ]
  },
  {
   "cell_type": "markdown",
   "id": "221e1d38-cdd3-49b3-8f76-45f6194ed3ab",
   "metadata": {},
   "source": [
    "Vif değerlerine baktığımızda 5'ten büyük bir değer olmadığı için çoklu doğrusallık probleminin olmadığını söyleyebiliriz. Bu da değişkenler birbirleri arasında ilişki içinde değildir şeklinde yorumlanabilir."
   ]
  },
  {
   "cell_type": "markdown",
   "id": "b23d8184-839c-4641-abcc-9017230b7123",
   "metadata": {},
   "source": [
    "## Hataların normal dağılımı"
   ]
  },
  {
   "cell_type": "code",
   "execution_count": 42,
   "id": "573b3afa-69f3-4dd7-8a94-1fbac1043525",
   "metadata": {},
   "outputs": [
    {
     "data": {
      "image/png": "[encoded data removed]",
      "text/plain": [
       "<Figure size 432x288 with 1 Axes>"
      ]
     },
     "metadata": {
      "needs_background": "light"
     },
     "output_type": "display_data"
    }
   ],
   "source": [
    "sns.histplot(x=model.resid, bins=15, kde=True)\n",
    "plt.show()"
   ]
  },
  {
   "cell_type": "code",
   "execution_count": 43,
   "id": "84386d5d-9222-4c52-9c60-fca4f3c94294",
   "metadata": {},
   "outputs": [
    {
     "name": "stdout",
     "output_type": "stream",
     "text": [
      "Statistics=0.980, p=0.005\n",
      "Hatalar normal dağılıma uygun değil (H0 RED)\n"
     ]
    }
   ],
   "source": [
    "# normal dağılım testi\n",
    "from scipy.stats import shapiro\n",
    "stat, p = shapiro(tahmin_tablosu[\"hata\"])\n",
    "print('Statistics=%.3f, p=%.3f' % (stat, p))\n",
    "# interpret\n",
    "alpha = 0.05\n",
    "if p > alpha:\n",
    "    print('Hatalar normal dağılıma uygun (H0 REDDEDİLEMEZ)')\n",
    "else:\n",
    "    print('Hatalar normal dağılıma uygun değil (H0 RED)')"
   ]
  },
  {
   "cell_type": "code",
   "execution_count": 44,
   "id": "1891d9d6-0c21-408a-8458-51eaca9036c2",
   "metadata": {},
   "outputs": [
    {
     "data": {
      "text/plain": [
       "-4.3520742565306136e-16"
      ]
     },
     "execution_count": 44,
     "metadata": {},
     "output_type": "execute_result"
    }
   ],
   "source": [
    "np.mean(model.resid)"
   ]
  },
  {
   "cell_type": "markdown",
   "id": "1c168478-e9e3-4f5a-86d5-dc9576ceba71",
   "metadata": {},
   "source": [
    "## Değişen Varyans Sorunu (Heteroscedasticity Test)"
   ]
  },
  {
   "cell_type": "code",
   "execution_count": 45,
   "id": "a20e58b0-d51a-4d5f-b38d-a296974705fb",
   "metadata": {},
   "outputs": [
    {
     "name": "stdout",
     "output_type": "stream",
     "text": [
      "\n",
      " Breusch-Pagan test ----\n",
      "                                  value\n",
      "Lagrange multiplier statistic  3.978527\n",
      "p-value                        0.263792\n",
      "f-value                        1.326030\n",
      "f p-value                      0.267105\n",
      "\n",
      " Goldfeld-Quandt test ----\n",
      "                value\n",
      "F statistic  1.381930\n",
      "p-value      0.057376\n",
      "\n",
      " Residuals plots ----\n"
     ]
    },
    {
     "data": {
      "image/png": "[encoded data removed]",
      "text/plain": [
       "<Figure size 432x288 with 2 Axes>"
      ]
     },
     "metadata": {
      "needs_background": "light"
     },
     "output_type": "display_data"
    }
   ],
   "source": [
    "import statsmodels.stats.api as sms\n",
    "def homoscedasticity_test(model):\n",
    "    '''\n",
    "    Function for testing the homoscedasticity of residuals in a linear regression model.\n",
    "    It plots residuals and standardized residuals vs. fitted values and runs Breusch-Pagan and Goldfeld-Quandt tests.\n",
    "    \n",
    "    Args:\n",
    "    * model - fitted OLS model from statsmodels\n",
    "    '''\n",
    "    fitted_vals = model.predict()\n",
    "    resids = model.resid\n",
    "    resids_standardized = model.get_influence().resid_studentized_internal\n",
    "\n",
    "    fig, ax = plt.subplots(1,2)\n",
    "\n",
    "    sns.regplot(x=fitted_vals, y=resids, lowess=True, ax=ax[0], line_kws={'color': 'red'})\n",
    "    ax[0].set_title('Residuals vs Fitted', fontsize=16)\n",
    "    ax[0].set(xlabel='Fitted Values', ylabel='Residuals')\n",
    "\n",
    "    sns.regplot(x=fitted_vals, y=np.sqrt(np.abs(resids_standardized)), lowess=True, ax=ax[1], line_kws={'color': 'red'})\n",
    "    ax[1].set_title('Scale-Location', fontsize=16)\n",
    "    ax[1].set(xlabel='Fitted Values', ylabel='sqrt(abs(Residuals))')\n",
    "\n",
    "    bp_test = pd.DataFrame(sms.het_breuschpagan(resids, model.model.exog), \n",
    "                           columns=['value'],\n",
    "                           index=['Lagrange multiplier statistic', 'p-value', 'f-value', 'f p-value'])\n",
    "\n",
    "    gq_test = pd.DataFrame(sms.het_goldfeldquandt(resids, model.model.exog)[:-1],\n",
    "                           columns=['value'],\n",
    "                           index=['F statistic', 'p-value'])\n",
    "\n",
    "    print('\\n Breusch-Pagan test ----')\n",
    "    print(bp_test)\n",
    "    print('\\n Goldfeld-Quandt test ----')\n",
    "    print(gq_test)\n",
    "    print('\\n Residuals plots ----')\n",
    "\n",
    "homoscedasticity_test(model)"
   ]
  },
  {
   "cell_type": "markdown",
   "id": "8ed9e803-688b-4ef3-80a7-aefe80911bc9",
   "metadata": {},
   "source": [
    "Yapılan testlere göre H0 reddedilemeyeceğinden değişen varyans sorunumuz yoktur."
   ]
  },
  {
   "cell_type": "code",
   "execution_count": null,
   "id": "912b0361-70fc-4a5b-bd6f-f8459443c495",
   "metadata": {},
   "outputs": [],
   "source": []
  }
 ],
 "metadata": {
  "kernelspec": {
   "display_name": "Python 3 (ipykernel)",
   "language": "python",
   "name": "python3"
  },
  "language_info": {
   "codemirror_mode": {
    "name": "ipython",
    "version": 3
   },
   "file_extension": ".py",
   "mimetype": "text/x-python",
   "name": "python",
   "nbconvert_exporter": "python",
   "pygments_lexer": "ipython3",
   "version": "3.9.7"
  }
 },
 "nbformat": 4,
 "nbformat_minor": 5
}
